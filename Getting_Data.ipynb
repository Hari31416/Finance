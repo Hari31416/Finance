{
 "cells": [
  {
   "attachments": {},
   "cell_type": "markdown",
   "metadata": {},
   "source": [
    "# Imports"
   ]
  },
  {
   "cell_type": "code",
   "execution_count": 1,
   "metadata": {},
   "outputs": [],
   "source": [
    "import yfinance as yf\n",
    "import requests\n",
    "import bs4\n",
    "import pandas as pd\n",
    "import numpy as np\n",
    "import matplotlib.pyplot as plt\n",
    "import tqdm\n",
    "import datetime\n",
    "import glob\n",
    "import os"
   ]
  },
  {
   "attachments": {},
   "cell_type": "markdown",
   "metadata": {},
   "source": [
    "# Indices"
   ]
  },
  {
   "attachments": {},
   "cell_type": "markdown",
   "metadata": {},
   "source": [
    "## Get Tickers"
   ]
  },
  {
   "cell_type": "code",
   "execution_count": 26,
   "metadata": {},
   "outputs": [],
   "source": [
    "indices = pd.read_html(\"https://finance.yahoo.com/world-indices/\")[0]"
   ]
  },
  {
   "cell_type": "code",
   "execution_count": 27,
   "metadata": {},
   "outputs": [
    {
     "data": {
      "text/html": [
       "<div>\n",
       "<style scoped>\n",
       "    .dataframe tbody tr th:only-of-type {\n",
       "        vertical-align: middle;\n",
       "    }\n",
       "\n",
       "    .dataframe tbody tr th {\n",
       "        vertical-align: top;\n",
       "    }\n",
       "\n",
       "    .dataframe thead th {\n",
       "        text-align: right;\n",
       "    }\n",
       "</style>\n",
       "<table border=\"1\" class=\"dataframe\">\n",
       "  <thead>\n",
       "    <tr style=\"text-align: right;\">\n",
       "      <th></th>\n",
       "      <th>Symbol</th>\n",
       "      <th>Name</th>\n",
       "    </tr>\n",
       "  </thead>\n",
       "  <tbody>\n",
       "    <tr>\n",
       "      <th>0</th>\n",
       "      <td>^GSPC</td>\n",
       "      <td>S&amp;P 500</td>\n",
       "    </tr>\n",
       "    <tr>\n",
       "      <th>1</th>\n",
       "      <td>^DJI</td>\n",
       "      <td>Dow Jones Industrial Average</td>\n",
       "    </tr>\n",
       "    <tr>\n",
       "      <th>2</th>\n",
       "      <td>^IXIC</td>\n",
       "      <td>NASDAQ Composite</td>\n",
       "    </tr>\n",
       "    <tr>\n",
       "      <th>3</th>\n",
       "      <td>^NYA</td>\n",
       "      <td>NYSE COMPOSITE (DJ)</td>\n",
       "    </tr>\n",
       "    <tr>\n",
       "      <th>4</th>\n",
       "      <td>^XAX</td>\n",
       "      <td>NYSE AMEX COMPOSITE INDEX</td>\n",
       "    </tr>\n",
       "    <tr>\n",
       "      <th>5</th>\n",
       "      <td>^BUK100P</td>\n",
       "      <td>Cboe UK 100</td>\n",
       "    </tr>\n",
       "    <tr>\n",
       "      <th>6</th>\n",
       "      <td>^RUT</td>\n",
       "      <td>Russell 2000</td>\n",
       "    </tr>\n",
       "    <tr>\n",
       "      <th>7</th>\n",
       "      <td>^VIX</td>\n",
       "      <td>Vix</td>\n",
       "    </tr>\n",
       "    <tr>\n",
       "      <th>8</th>\n",
       "      <td>^FTSE</td>\n",
       "      <td>FTSE 100</td>\n",
       "    </tr>\n",
       "    <tr>\n",
       "      <th>9</th>\n",
       "      <td>^GDAXI</td>\n",
       "      <td>DAX PERFORMANCE-INDEX</td>\n",
       "    </tr>\n",
       "    <tr>\n",
       "      <th>10</th>\n",
       "      <td>^FCHI</td>\n",
       "      <td>CAC 40</td>\n",
       "    </tr>\n",
       "    <tr>\n",
       "      <th>11</th>\n",
       "      <td>^STOXX50E</td>\n",
       "      <td>ESTX 50 PR.EUR</td>\n",
       "    </tr>\n",
       "    <tr>\n",
       "      <th>12</th>\n",
       "      <td>^N100</td>\n",
       "      <td>Euronext 100 Index</td>\n",
       "    </tr>\n",
       "    <tr>\n",
       "      <th>13</th>\n",
       "      <td>^BFX</td>\n",
       "      <td>BEL 20</td>\n",
       "    </tr>\n",
       "    <tr>\n",
       "      <th>14</th>\n",
       "      <td>IMOEX.ME</td>\n",
       "      <td>MOEX Russia Index</td>\n",
       "    </tr>\n",
       "    <tr>\n",
       "      <th>15</th>\n",
       "      <td>^N225</td>\n",
       "      <td>Nikkei 225</td>\n",
       "    </tr>\n",
       "    <tr>\n",
       "      <th>16</th>\n",
       "      <td>^HSI</td>\n",
       "      <td>HANG SENG INDEX</td>\n",
       "    </tr>\n",
       "    <tr>\n",
       "      <th>17</th>\n",
       "      <td>000001.SS</td>\n",
       "      <td>SSE Composite Index</td>\n",
       "    </tr>\n",
       "    <tr>\n",
       "      <th>18</th>\n",
       "      <td>399001.SZ</td>\n",
       "      <td>Shenzhen Index</td>\n",
       "    </tr>\n",
       "    <tr>\n",
       "      <th>19</th>\n",
       "      <td>^STI</td>\n",
       "      <td>STI Index</td>\n",
       "    </tr>\n",
       "    <tr>\n",
       "      <th>20</th>\n",
       "      <td>^AXJO</td>\n",
       "      <td>S&amp;P/ASX 200</td>\n",
       "    </tr>\n",
       "    <tr>\n",
       "      <th>21</th>\n",
       "      <td>^AORD</td>\n",
       "      <td>ALL ORDINARIES</td>\n",
       "    </tr>\n",
       "    <tr>\n",
       "      <th>22</th>\n",
       "      <td>^BSESN</td>\n",
       "      <td>S&amp;P BSE SENSEX</td>\n",
       "    </tr>\n",
       "    <tr>\n",
       "      <th>23</th>\n",
       "      <td>^JKSE</td>\n",
       "      <td>Jakarta Composite Index</td>\n",
       "    </tr>\n",
       "    <tr>\n",
       "      <th>24</th>\n",
       "      <td>^KLSE</td>\n",
       "      <td>FTSE Bursa Malaysia KLCI</td>\n",
       "    </tr>\n",
       "    <tr>\n",
       "      <th>25</th>\n",
       "      <td>^NZ50</td>\n",
       "      <td>S&amp;P/NZX 50 INDEX GROSS</td>\n",
       "    </tr>\n",
       "    <tr>\n",
       "      <th>26</th>\n",
       "      <td>^KS11</td>\n",
       "      <td>KOSPI Composite Index</td>\n",
       "    </tr>\n",
       "    <tr>\n",
       "      <th>27</th>\n",
       "      <td>^TWII</td>\n",
       "      <td>TSEC weighted index</td>\n",
       "    </tr>\n",
       "    <tr>\n",
       "      <th>28</th>\n",
       "      <td>^GSPTSE</td>\n",
       "      <td>S&amp;P/TSX Composite index</td>\n",
       "    </tr>\n",
       "    <tr>\n",
       "      <th>29</th>\n",
       "      <td>^BVSP</td>\n",
       "      <td>IBOVESPA</td>\n",
       "    </tr>\n",
       "    <tr>\n",
       "      <th>30</th>\n",
       "      <td>^MXX</td>\n",
       "      <td>IPC MEXICO</td>\n",
       "    </tr>\n",
       "    <tr>\n",
       "      <th>31</th>\n",
       "      <td>^IPSA</td>\n",
       "      <td>S&amp;P/CLX IPSA</td>\n",
       "    </tr>\n",
       "    <tr>\n",
       "      <th>32</th>\n",
       "      <td>^MERV</td>\n",
       "      <td>MERVAL</td>\n",
       "    </tr>\n",
       "    <tr>\n",
       "      <th>33</th>\n",
       "      <td>^TA125.TA</td>\n",
       "      <td>TA-125</td>\n",
       "    </tr>\n",
       "    <tr>\n",
       "      <th>34</th>\n",
       "      <td>^CASE30</td>\n",
       "      <td>EGX 30 Price Return Index</td>\n",
       "    </tr>\n",
       "    <tr>\n",
       "      <th>35</th>\n",
       "      <td>^JN0U.JO</td>\n",
       "      <td>Top 40 USD Net TRI Index</td>\n",
       "    </tr>\n",
       "  </tbody>\n",
       "</table>\n",
       "</div>"
      ],
      "text/plain": [
       "       Symbol                          Name\n",
       "0       ^GSPC                       S&P 500\n",
       "1        ^DJI  Dow Jones Industrial Average\n",
       "2       ^IXIC              NASDAQ Composite\n",
       "3        ^NYA           NYSE COMPOSITE (DJ)\n",
       "4        ^XAX     NYSE AMEX COMPOSITE INDEX\n",
       "5    ^BUK100P                   Cboe UK 100\n",
       "6        ^RUT                  Russell 2000\n",
       "7        ^VIX                           Vix\n",
       "8       ^FTSE                      FTSE 100\n",
       "9      ^GDAXI         DAX PERFORMANCE-INDEX\n",
       "10      ^FCHI                        CAC 40\n",
       "11  ^STOXX50E                ESTX 50 PR.EUR\n",
       "12      ^N100            Euronext 100 Index\n",
       "13       ^BFX                        BEL 20\n",
       "14   IMOEX.ME             MOEX Russia Index\n",
       "15      ^N225                    Nikkei 225\n",
       "16       ^HSI               HANG SENG INDEX\n",
       "17  000001.SS           SSE Composite Index\n",
       "18  399001.SZ                Shenzhen Index\n",
       "19       ^STI                     STI Index\n",
       "20      ^AXJO                   S&P/ASX 200\n",
       "21      ^AORD                ALL ORDINARIES\n",
       "22     ^BSESN                S&P BSE SENSEX\n",
       "23      ^JKSE       Jakarta Composite Index\n",
       "24      ^KLSE      FTSE Bursa Malaysia KLCI\n",
       "25      ^NZ50        S&P/NZX 50 INDEX GROSS\n",
       "26      ^KS11         KOSPI Composite Index\n",
       "27      ^TWII           TSEC weighted index\n",
       "28    ^GSPTSE       S&P/TSX Composite index\n",
       "29      ^BVSP                      IBOVESPA\n",
       "30       ^MXX                    IPC MEXICO\n",
       "31      ^IPSA                  S&P/CLX IPSA\n",
       "32      ^MERV                        MERVAL\n",
       "33  ^TA125.TA                        TA-125\n",
       "34    ^CASE30     EGX 30 Price Return Index\n",
       "35   ^JN0U.JO      Top 40 USD Net TRI Index"
      ]
     },
     "execution_count": 27,
     "metadata": {},
     "output_type": "execute_result"
    }
   ],
   "source": [
    "indices = indices[[\"Symbol\", \"Name\"]]\n",
    "indices"
   ]
  },
  {
   "cell_type": "code",
   "execution_count": 28,
   "metadata": {},
   "outputs": [
    {
     "name": "stderr",
     "output_type": "stream",
     "text": [
      "/tmp/ipykernel_13208/3383162324.py:7: FutureWarning: The frame.append method is deprecated and will be removed from pandas in a future version. Use pandas.concat instead.\n",
      "  indices = indices.append(indian_indices, ignore_index=True)\n"
     ]
    },
    {
     "data": {
      "text/html": [
       "<div>\n",
       "<style scoped>\n",
       "    .dataframe tbody tr th:only-of-type {\n",
       "        vertical-align: middle;\n",
       "    }\n",
       "\n",
       "    .dataframe tbody tr th {\n",
       "        vertical-align: top;\n",
       "    }\n",
       "\n",
       "    .dataframe thead th {\n",
       "        text-align: right;\n",
       "    }\n",
       "</style>\n",
       "<table border=\"1\" class=\"dataframe\">\n",
       "  <thead>\n",
       "    <tr style=\"text-align: right;\">\n",
       "      <th></th>\n",
       "      <th>Symbol</th>\n",
       "      <th>Name</th>\n",
       "    </tr>\n",
       "  </thead>\n",
       "  <tbody>\n",
       "    <tr>\n",
       "      <th>0</th>\n",
       "      <td>^GSPC</td>\n",
       "      <td>S&amp;P 500</td>\n",
       "    </tr>\n",
       "    <tr>\n",
       "      <th>1</th>\n",
       "      <td>^DJI</td>\n",
       "      <td>Dow Jones Industrial Average</td>\n",
       "    </tr>\n",
       "    <tr>\n",
       "      <th>2</th>\n",
       "      <td>^IXIC</td>\n",
       "      <td>NASDAQ Composite</td>\n",
       "    </tr>\n",
       "    <tr>\n",
       "      <th>3</th>\n",
       "      <td>^NYA</td>\n",
       "      <td>NYSE COMPOSITE (DJ)</td>\n",
       "    </tr>\n",
       "    <tr>\n",
       "      <th>4</th>\n",
       "      <td>^XAX</td>\n",
       "      <td>NYSE AMEX COMPOSITE INDEX</td>\n",
       "    </tr>\n",
       "    <tr>\n",
       "      <th>5</th>\n",
       "      <td>^BUK100P</td>\n",
       "      <td>Cboe UK 100</td>\n",
       "    </tr>\n",
       "    <tr>\n",
       "      <th>6</th>\n",
       "      <td>^RUT</td>\n",
       "      <td>Russell 2000</td>\n",
       "    </tr>\n",
       "    <tr>\n",
       "      <th>7</th>\n",
       "      <td>^VIX</td>\n",
       "      <td>Vix</td>\n",
       "    </tr>\n",
       "    <tr>\n",
       "      <th>8</th>\n",
       "      <td>^FTSE</td>\n",
       "      <td>FTSE 100</td>\n",
       "    </tr>\n",
       "    <tr>\n",
       "      <th>9</th>\n",
       "      <td>^GDAXI</td>\n",
       "      <td>DAX PERFORMANCE-INDEX</td>\n",
       "    </tr>\n",
       "    <tr>\n",
       "      <th>10</th>\n",
       "      <td>^FCHI</td>\n",
       "      <td>CAC 40</td>\n",
       "    </tr>\n",
       "    <tr>\n",
       "      <th>11</th>\n",
       "      <td>^STOXX50E</td>\n",
       "      <td>ESTX 50 PR.EUR</td>\n",
       "    </tr>\n",
       "    <tr>\n",
       "      <th>12</th>\n",
       "      <td>^N100</td>\n",
       "      <td>Euronext 100 Index</td>\n",
       "    </tr>\n",
       "    <tr>\n",
       "      <th>13</th>\n",
       "      <td>^BFX</td>\n",
       "      <td>BEL 20</td>\n",
       "    </tr>\n",
       "    <tr>\n",
       "      <th>14</th>\n",
       "      <td>IMOEX.ME</td>\n",
       "      <td>MOEX Russia Index</td>\n",
       "    </tr>\n",
       "    <tr>\n",
       "      <th>15</th>\n",
       "      <td>^N225</td>\n",
       "      <td>Nikkei 225</td>\n",
       "    </tr>\n",
       "    <tr>\n",
       "      <th>16</th>\n",
       "      <td>^HSI</td>\n",
       "      <td>HANG SENG INDEX</td>\n",
       "    </tr>\n",
       "    <tr>\n",
       "      <th>17</th>\n",
       "      <td>000001.SS</td>\n",
       "      <td>SSE Composite Index</td>\n",
       "    </tr>\n",
       "    <tr>\n",
       "      <th>18</th>\n",
       "      <td>399001.SZ</td>\n",
       "      <td>Shenzhen Index</td>\n",
       "    </tr>\n",
       "    <tr>\n",
       "      <th>19</th>\n",
       "      <td>^STI</td>\n",
       "      <td>STI Index</td>\n",
       "    </tr>\n",
       "    <tr>\n",
       "      <th>20</th>\n",
       "      <td>^AXJO</td>\n",
       "      <td>S&amp;P/ASX 200</td>\n",
       "    </tr>\n",
       "    <tr>\n",
       "      <th>21</th>\n",
       "      <td>^AORD</td>\n",
       "      <td>ALL ORDINARIES</td>\n",
       "    </tr>\n",
       "    <tr>\n",
       "      <th>22</th>\n",
       "      <td>^BSESN</td>\n",
       "      <td>S&amp;P BSE SENSEX</td>\n",
       "    </tr>\n",
       "    <tr>\n",
       "      <th>23</th>\n",
       "      <td>^JKSE</td>\n",
       "      <td>Jakarta Composite Index</td>\n",
       "    </tr>\n",
       "    <tr>\n",
       "      <th>24</th>\n",
       "      <td>^KLSE</td>\n",
       "      <td>FTSE Bursa Malaysia KLCI</td>\n",
       "    </tr>\n",
       "    <tr>\n",
       "      <th>25</th>\n",
       "      <td>^NZ50</td>\n",
       "      <td>S&amp;P/NZX 50 INDEX GROSS</td>\n",
       "    </tr>\n",
       "    <tr>\n",
       "      <th>26</th>\n",
       "      <td>^KS11</td>\n",
       "      <td>KOSPI Composite Index</td>\n",
       "    </tr>\n",
       "    <tr>\n",
       "      <th>27</th>\n",
       "      <td>^TWII</td>\n",
       "      <td>TSEC weighted index</td>\n",
       "    </tr>\n",
       "    <tr>\n",
       "      <th>28</th>\n",
       "      <td>^GSPTSE</td>\n",
       "      <td>S&amp;P/TSX Composite index</td>\n",
       "    </tr>\n",
       "    <tr>\n",
       "      <th>29</th>\n",
       "      <td>^BVSP</td>\n",
       "      <td>IBOVESPA</td>\n",
       "    </tr>\n",
       "    <tr>\n",
       "      <th>30</th>\n",
       "      <td>^MXX</td>\n",
       "      <td>IPC MEXICO</td>\n",
       "    </tr>\n",
       "    <tr>\n",
       "      <th>31</th>\n",
       "      <td>^IPSA</td>\n",
       "      <td>S&amp;P/CLX IPSA</td>\n",
       "    </tr>\n",
       "    <tr>\n",
       "      <th>32</th>\n",
       "      <td>^MERV</td>\n",
       "      <td>MERVAL</td>\n",
       "    </tr>\n",
       "    <tr>\n",
       "      <th>33</th>\n",
       "      <td>^TA125.TA</td>\n",
       "      <td>TA-125</td>\n",
       "    </tr>\n",
       "    <tr>\n",
       "      <th>34</th>\n",
       "      <td>^CASE30</td>\n",
       "      <td>EGX 30 Price Return Index</td>\n",
       "    </tr>\n",
       "    <tr>\n",
       "      <th>35</th>\n",
       "      <td>^JN0U.JO</td>\n",
       "      <td>Top 40 USD Net TRI Index</td>\n",
       "    </tr>\n",
       "    <tr>\n",
       "      <th>36</th>\n",
       "      <td>^NSEI</td>\n",
       "      <td>Nifty 50</td>\n",
       "    </tr>\n",
       "    <tr>\n",
       "      <th>37</th>\n",
       "      <td>^NSEBANK</td>\n",
       "      <td>Nifty Bank</td>\n",
       "    </tr>\n",
       "    <tr>\n",
       "      <th>38</th>\n",
       "      <td>^BSESN</td>\n",
       "      <td>SENSEX</td>\n",
       "    </tr>\n",
       "    <tr>\n",
       "      <th>39</th>\n",
       "      <td>^INDIAVIX</td>\n",
       "      <td>India Vix</td>\n",
       "    </tr>\n",
       "  </tbody>\n",
       "</table>\n",
       "</div>"
      ],
      "text/plain": [
       "       Symbol                          Name\n",
       "0       ^GSPC                       S&P 500\n",
       "1        ^DJI  Dow Jones Industrial Average\n",
       "2       ^IXIC              NASDAQ Composite\n",
       "3        ^NYA           NYSE COMPOSITE (DJ)\n",
       "4        ^XAX     NYSE AMEX COMPOSITE INDEX\n",
       "5    ^BUK100P                   Cboe UK 100\n",
       "6        ^RUT                  Russell 2000\n",
       "7        ^VIX                           Vix\n",
       "8       ^FTSE                      FTSE 100\n",
       "9      ^GDAXI         DAX PERFORMANCE-INDEX\n",
       "10      ^FCHI                        CAC 40\n",
       "11  ^STOXX50E                ESTX 50 PR.EUR\n",
       "12      ^N100            Euronext 100 Index\n",
       "13       ^BFX                        BEL 20\n",
       "14   IMOEX.ME             MOEX Russia Index\n",
       "15      ^N225                    Nikkei 225\n",
       "16       ^HSI               HANG SENG INDEX\n",
       "17  000001.SS           SSE Composite Index\n",
       "18  399001.SZ                Shenzhen Index\n",
       "19       ^STI                     STI Index\n",
       "20      ^AXJO                   S&P/ASX 200\n",
       "21      ^AORD                ALL ORDINARIES\n",
       "22     ^BSESN                S&P BSE SENSEX\n",
       "23      ^JKSE       Jakarta Composite Index\n",
       "24      ^KLSE      FTSE Bursa Malaysia KLCI\n",
       "25      ^NZ50        S&P/NZX 50 INDEX GROSS\n",
       "26      ^KS11         KOSPI Composite Index\n",
       "27      ^TWII           TSEC weighted index\n",
       "28    ^GSPTSE       S&P/TSX Composite index\n",
       "29      ^BVSP                      IBOVESPA\n",
       "30       ^MXX                    IPC MEXICO\n",
       "31      ^IPSA                  S&P/CLX IPSA\n",
       "32      ^MERV                        MERVAL\n",
       "33  ^TA125.TA                        TA-125\n",
       "34    ^CASE30     EGX 30 Price Return Index\n",
       "35   ^JN0U.JO      Top 40 USD Net TRI Index\n",
       "36      ^NSEI                      Nifty 50\n",
       "37   ^NSEBANK                    Nifty Bank\n",
       "38     ^BSESN                        SENSEX\n",
       "39  ^INDIAVIX                     India Vix"
      ]
     },
     "execution_count": 28,
     "metadata": {},
     "output_type": "execute_result"
    }
   ],
   "source": [
    "indian_indices = np.array([[\"Nifty 50\", \"^NSEI\"],\n",
    "                           [\"Nifty Bank\", \"^NSEBANK\"],\n",
    "                           [\"SENSEX\", \"^BSESN\"],\n",
    "                           [\"India Vix\", \"^INDIAVIX\"]])\n",
    "\n",
    "indian_indices = pd.DataFrame(indian_indices, columns=[\"Name\", \"Symbol\"])\n",
    "indices = indices.append(indian_indices, ignore_index=True)\n",
    "indices"
   ]
  },
  {
   "cell_type": "code",
   "execution_count": 29,
   "metadata": {},
   "outputs": [],
   "source": [
    "indices.to_csv(\"Data/Ticker_Data/indices_all.csv\", index=False)"
   ]
  },
  {
   "attachments": {},
   "cell_type": "markdown",
   "metadata": {},
   "source": [
    "## Download Index Data"
   ]
  },
  {
   "cell_type": "code",
   "execution_count": 30,
   "metadata": {},
   "outputs": [
    {
     "data": {
      "text/html": [
       "<div>\n",
       "<style scoped>\n",
       "    .dataframe tbody tr th:only-of-type {\n",
       "        vertical-align: middle;\n",
       "    }\n",
       "\n",
       "    .dataframe tbody tr th {\n",
       "        vertical-align: top;\n",
       "    }\n",
       "\n",
       "    .dataframe thead th {\n",
       "        text-align: right;\n",
       "    }\n",
       "</style>\n",
       "<table border=\"1\" class=\"dataframe\">\n",
       "  <thead>\n",
       "    <tr style=\"text-align: right;\">\n",
       "      <th></th>\n",
       "      <th>Symbol</th>\n",
       "      <th>Name</th>\n",
       "    </tr>\n",
       "  </thead>\n",
       "  <tbody>\n",
       "    <tr>\n",
       "      <th>0</th>\n",
       "      <td>^GSPC</td>\n",
       "      <td>S&amp;P 500</td>\n",
       "    </tr>\n",
       "    <tr>\n",
       "      <th>1</th>\n",
       "      <td>^DJI</td>\n",
       "      <td>Dow Jones Industrial Average</td>\n",
       "    </tr>\n",
       "    <tr>\n",
       "      <th>2</th>\n",
       "      <td>^IXIC</td>\n",
       "      <td>NASDAQ Composite</td>\n",
       "    </tr>\n",
       "    <tr>\n",
       "      <th>3</th>\n",
       "      <td>^BUK100P</td>\n",
       "      <td>Cboe UK 100</td>\n",
       "    </tr>\n",
       "    <tr>\n",
       "      <th>4</th>\n",
       "      <td>^VIX</td>\n",
       "      <td>Vix</td>\n",
       "    </tr>\n",
       "  </tbody>\n",
       "</table>\n",
       "</div>"
      ],
      "text/plain": [
       "     Symbol                          Name\n",
       "0     ^GSPC                       S&P 500\n",
       "1      ^DJI  Dow Jones Industrial Average\n",
       "2     ^IXIC              NASDAQ Composite\n",
       "3  ^BUK100P                   Cboe UK 100\n",
       "4      ^VIX                           Vix"
      ]
     },
     "execution_count": 30,
     "metadata": {},
     "output_type": "execute_result"
    }
   ],
   "source": [
    "indices = pd.read_csv(\"Data/Ticker_Data/indices.csv\")\n",
    "indices.head()"
   ]
  },
  {
   "cell_type": "code",
   "execution_count": 32,
   "metadata": {},
   "outputs": [
    {
     "data": {
      "text/plain": [
       "24"
      ]
     },
     "execution_count": 32,
     "metadata": {},
     "output_type": "execute_result"
    }
   ],
   "source": [
    "symbols = indices[\"Symbol\"].values\n",
    "names = indices[\"Name\"].values\n",
    "len(symbols)"
   ]
  },
  {
   "cell_type": "code",
   "execution_count": 34,
   "metadata": {},
   "outputs": [
    {
     "name": "stdout",
     "output_type": "stream",
     "text": [
      "[*********************100%***********************]  24 of 24 completed\n",
      "\n",
      "5 Failed downloads:\n",
      "- ^INDIAVIX: 1d data not available for startTime=-2208994789 and endTime=1671771919. Only 100 years worth of day granularity data are allowed to be fetched per request.\n",
      "- ^NSEI: No timezone found, symbol may be delisted\n",
      "- ^AXJO: No data found for this date range, symbol may be delisted\n",
      "- ^N225: No data found for this date range, symbol may be delisted\n",
      "- ^KS11: No data found for this date range, symbol may be delisted\n"
     ]
    }
   ],
   "source": [
    "data = yf.download(list(symbols), period=\"max\", interval=\"1d\", group_by=\"ticker\", threads = True, auto_adjust = True)"
   ]
  },
  {
   "cell_type": "code",
   "execution_count": 35,
   "metadata": {},
   "outputs": [],
   "source": [
    "def clean_data(ticker):\n",
    "    index = data[ticker]\n",
    "    index = index.dropna()\n",
    "    index = index.reset_index()\n",
    "    return index"
   ]
  },
  {
   "cell_type": "code",
   "execution_count": 42,
   "metadata": {},
   "outputs": [],
   "source": [
    "data_dict = (dict(zip(symbols, map(clean_data, symbols))))"
   ]
  },
  {
   "attachments": {},
   "cell_type": "markdown",
   "metadata": {},
   "source": [
    "### Retrying for the failed inices"
   ]
  },
  {
   "cell_type": "code",
   "execution_count": 46,
   "metadata": {},
   "outputs": [
    {
     "name": "stderr",
     "output_type": "stream",
     "text": [
      "100%|██████████| 24/24 [00:00<00:00, 40184.95it/s]\n"
     ]
    }
   ],
   "source": [
    "failed_indices = []\n",
    "for i in tqdm.tqdm(range(len(symbols))):\n",
    "    if data_dict[symbols[i]].empty:\n",
    "        failed_indices.append(symbols[i])"
   ]
  },
  {
   "cell_type": "code",
   "execution_count": 58,
   "metadata": {},
   "outputs": [
    {
     "name": "stdout",
     "output_type": "stream",
     "text": [
      "[*********************100%***********************]  5 of 5 completed\n",
      "\n",
      "1 Failed download:\n",
      "- ^INDIAVIX: 1d data not available for startTime=-2208994789 and endTime=1671772519. Only 100 years worth of day granularity data are allowed to be fetched per request.\n"
     ]
    }
   ],
   "source": [
    "data_retry = yf.download(failed_indices, period=\"max\", interval=\"1d\", group_by=\"ticker\", threads = True, auto_adjust = True)"
   ]
  },
  {
   "cell_type": "code",
   "execution_count": 60,
   "metadata": {},
   "outputs": [],
   "source": [
    "def clean_data_retry(ticker):\n",
    "    index = data_retry[ticker]\n",
    "    index = index.dropna()\n",
    "    index = index.reset_index()\n",
    "    return index"
   ]
  },
  {
   "cell_type": "code",
   "execution_count": 62,
   "metadata": {},
   "outputs": [],
   "source": [
    "data_dict_retry = (dict(zip(failed_indices, map(clean_data_retry, failed_indices))))"
   ]
  },
  {
   "cell_type": "code",
   "execution_count": 71,
   "metadata": {},
   "outputs": [
    {
     "name": "stderr",
     "output_type": "stream",
     "text": [
      "Saving Data: 100%|██████████| 24/24 [00:01<00:00, 17.21it/s]\n"
     ]
    }
   ],
   "source": [
    "for key in data_dict_retry.keys():\n",
    "    data_dict[key] = data_dict_retry[key]\n",
    "\n",
    "for key in tqdm.tqdm(data_dict.keys(), desc=\"Saving Data\"):\n",
    "    file_name = \"Data/Indices/\" + key.replace(\"^\", \"\") + \".csv\"\n",
    "    data_dict[key].to_csv(file_name, index=False)"
   ]
  },
  {
   "attachments": {},
   "cell_type": "markdown",
   "metadata": {},
   "source": [
    "# Stocks"
   ]
  },
  {
   "attachments": {},
   "cell_type": "markdown",
   "metadata": {},
   "source": [
    "## Get Tickers"
   ]
  },
  {
   "cell_type": "code",
   "execution_count": 115,
   "metadata": {},
   "outputs": [],
   "source": [
    "nifty100 = pd.read_csv(\"Data/Ticker_Data/nifty100.csv\")\n",
    "nifty200 = pd.read_csv(\"Data/Ticker_Data/nifty200.csv\")\n",
    "nasdaq = pd.read_csv(\"Data/Ticker_Data/nasdaq.csv\")\n",
    "nasdaq200 = pd.read_csv(\"Data/Ticker_Data/nasdaq200.csv\")"
   ]
  },
  {
   "cell_type": "code",
   "execution_count": 116,
   "metadata": {},
   "outputs": [
    {
     "data": {
      "text/html": [
       "<div>\n",
       "<style scoped>\n",
       "    .dataframe tbody tr th:only-of-type {\n",
       "        vertical-align: middle;\n",
       "    }\n",
       "\n",
       "    .dataframe tbody tr th {\n",
       "        vertical-align: top;\n",
       "    }\n",
       "\n",
       "    .dataframe thead th {\n",
       "        text-align: right;\n",
       "    }\n",
       "</style>\n",
       "<table border=\"1\" class=\"dataframe\">\n",
       "  <thead>\n",
       "    <tr style=\"text-align: right;\">\n",
       "      <th></th>\n",
       "      <th>Symbol</th>\n",
       "      <th>Name</th>\n",
       "      <th>Country</th>\n",
       "      <th>Sector</th>\n",
       "      <th>IPO Year</th>\n",
       "      <th>Industry</th>\n",
       "    </tr>\n",
       "  </thead>\n",
       "  <tbody>\n",
       "    <tr>\n",
       "      <th>0</th>\n",
       "      <td>AAPL</td>\n",
       "      <td>Apple Inc. Common Stock</td>\n",
       "      <td>United States</td>\n",
       "      <td>Technology</td>\n",
       "      <td>1980.0</td>\n",
       "      <td>Computer Manufacturing</td>\n",
       "    </tr>\n",
       "    <tr>\n",
       "      <th>1</th>\n",
       "      <td>MSFT</td>\n",
       "      <td>Microsoft Corporation Common Stock</td>\n",
       "      <td>United States</td>\n",
       "      <td>Technology</td>\n",
       "      <td>1986.0</td>\n",
       "      <td>Computer Software: Prepackaged Software</td>\n",
       "    </tr>\n",
       "    <tr>\n",
       "      <th>2</th>\n",
       "      <td>GOOG</td>\n",
       "      <td>Alphabet Inc. Class C Capital Stock</td>\n",
       "      <td>United States</td>\n",
       "      <td>Technology</td>\n",
       "      <td>2004.0</td>\n",
       "      <td>Internet and Information Services</td>\n",
       "    </tr>\n",
       "    <tr>\n",
       "      <th>3</th>\n",
       "      <td>GOOGL</td>\n",
       "      <td>Alphabet Inc. Class A Common Stock</td>\n",
       "      <td>United States</td>\n",
       "      <td>Technology</td>\n",
       "      <td>2004.0</td>\n",
       "      <td>Internet and Information Services</td>\n",
       "    </tr>\n",
       "    <tr>\n",
       "      <th>4</th>\n",
       "      <td>AMZN</td>\n",
       "      <td>Amazon.com Inc. Common Stock</td>\n",
       "      <td>United States</td>\n",
       "      <td>Consumer Discretionary</td>\n",
       "      <td>1997.0</td>\n",
       "      <td>Catalog/Specialty Distribution</td>\n",
       "    </tr>\n",
       "  </tbody>\n",
       "</table>\n",
       "</div>"
      ],
      "text/plain": [
       "  Symbol                                 Name        Country  \\\n",
       "0   AAPL              Apple Inc. Common Stock  United States   \n",
       "1   MSFT   Microsoft Corporation Common Stock  United States   \n",
       "2   GOOG  Alphabet Inc. Class C Capital Stock  United States   \n",
       "3  GOOGL   Alphabet Inc. Class A Common Stock  United States   \n",
       "4   AMZN         Amazon.com Inc. Common Stock  United States   \n",
       "\n",
       "                   Sector  IPO Year                                 Industry  \n",
       "0              Technology    1980.0                   Computer Manufacturing  \n",
       "1              Technology    1986.0  Computer Software: Prepackaged Software  \n",
       "2              Technology    2004.0        Internet and Information Services  \n",
       "3              Technology    2004.0        Internet and Information Services  \n",
       "4  Consumer Discretionary    1997.0           Catalog/Specialty Distribution  "
      ]
     },
     "execution_count": 116,
     "metadata": {},
     "output_type": "execute_result"
    }
   ],
   "source": [
    "nasdaq200.head()"
   ]
  },
  {
   "cell_type": "code",
   "execution_count": 117,
   "metadata": {},
   "outputs": [
    {
     "data": {
      "text/html": [
       "<div>\n",
       "<style scoped>\n",
       "    .dataframe tbody tr th:only-of-type {\n",
       "        vertical-align: middle;\n",
       "    }\n",
       "\n",
       "    .dataframe tbody tr th {\n",
       "        vertical-align: top;\n",
       "    }\n",
       "\n",
       "    .dataframe thead th {\n",
       "        text-align: right;\n",
       "    }\n",
       "</style>\n",
       "<table border=\"1\" class=\"dataframe\">\n",
       "  <thead>\n",
       "    <tr style=\"text-align: right;\">\n",
       "      <th></th>\n",
       "      <th>Symbol</th>\n",
       "      <th>Name</th>\n",
       "      <th>Industry</th>\n",
       "    </tr>\n",
       "  </thead>\n",
       "  <tbody>\n",
       "    <tr>\n",
       "      <th>0</th>\n",
       "      <td>ACC</td>\n",
       "      <td>ACC Ltd.</td>\n",
       "      <td>Construction Materials</td>\n",
       "    </tr>\n",
       "    <tr>\n",
       "      <th>1</th>\n",
       "      <td>ADANIENT</td>\n",
       "      <td>Adani Enterprises Ltd.</td>\n",
       "      <td>Metals &amp; Mining</td>\n",
       "    </tr>\n",
       "    <tr>\n",
       "      <th>2</th>\n",
       "      <td>ADANIGREEN</td>\n",
       "      <td>Adani Green Energy Ltd.</td>\n",
       "      <td>Power</td>\n",
       "    </tr>\n",
       "    <tr>\n",
       "      <th>3</th>\n",
       "      <td>ADANIPORTS</td>\n",
       "      <td>Adani Ports and Special Economic Zone Ltd.</td>\n",
       "      <td>Services</td>\n",
       "    </tr>\n",
       "    <tr>\n",
       "      <th>4</th>\n",
       "      <td>ATGL</td>\n",
       "      <td>Adani Total Gas Ltd.</td>\n",
       "      <td>Oil Gas &amp; Consumable Fuels</td>\n",
       "    </tr>\n",
       "  </tbody>\n",
       "</table>\n",
       "</div>"
      ],
      "text/plain": [
       "       Symbol                                        Name  \\\n",
       "0         ACC                                    ACC Ltd.   \n",
       "1    ADANIENT                      Adani Enterprises Ltd.   \n",
       "2  ADANIGREEN                     Adani Green Energy Ltd.   \n",
       "3  ADANIPORTS  Adani Ports and Special Economic Zone Ltd.   \n",
       "4        ATGL                        Adani Total Gas Ltd.   \n",
       "\n",
       "                     Industry  \n",
       "0      Construction Materials  \n",
       "1             Metals & Mining  \n",
       "2                       Power  \n",
       "3                    Services  \n",
       "4  Oil Gas & Consumable Fuels  "
      ]
     },
     "execution_count": 117,
     "metadata": {},
     "output_type": "execute_result"
    }
   ],
   "source": [
    "nifty100.head()"
   ]
  },
  {
   "attachments": {},
   "cell_type": "markdown",
   "metadata": {},
   "source": [
    "## Download Index Data"
   ]
  },
  {
   "attachments": {},
   "cell_type": "markdown",
   "metadata": {},
   "source": [
    "### NASDAQ 200"
   ]
  },
  {
   "cell_type": "code",
   "execution_count": 118,
   "metadata": {},
   "outputs": [
    {
     "data": {
      "text/html": [
       "<div>\n",
       "<style scoped>\n",
       "    .dataframe tbody tr th:only-of-type {\n",
       "        vertical-align: middle;\n",
       "    }\n",
       "\n",
       "    .dataframe tbody tr th {\n",
       "        vertical-align: top;\n",
       "    }\n",
       "\n",
       "    .dataframe thead th {\n",
       "        text-align: right;\n",
       "    }\n",
       "</style>\n",
       "<table border=\"1\" class=\"dataframe\">\n",
       "  <thead>\n",
       "    <tr style=\"text-align: right;\">\n",
       "      <th></th>\n",
       "      <th>Symbol</th>\n",
       "      <th>Name</th>\n",
       "      <th>Country</th>\n",
       "      <th>Sector</th>\n",
       "      <th>IPO Year</th>\n",
       "      <th>Industry</th>\n",
       "    </tr>\n",
       "  </thead>\n",
       "  <tbody>\n",
       "    <tr>\n",
       "      <th>0</th>\n",
       "      <td>AAPL</td>\n",
       "      <td>Apple Inc. Common Stock</td>\n",
       "      <td>United States</td>\n",
       "      <td>Technology</td>\n",
       "      <td>1980.0</td>\n",
       "      <td>Computer Manufacturing</td>\n",
       "    </tr>\n",
       "    <tr>\n",
       "      <th>1</th>\n",
       "      <td>MSFT</td>\n",
       "      <td>Microsoft Corporation Common Stock</td>\n",
       "      <td>United States</td>\n",
       "      <td>Technology</td>\n",
       "      <td>1986.0</td>\n",
       "      <td>Computer Software: Prepackaged Software</td>\n",
       "    </tr>\n",
       "    <tr>\n",
       "      <th>2</th>\n",
       "      <td>GOOG</td>\n",
       "      <td>Alphabet Inc. Class C Capital Stock</td>\n",
       "      <td>United States</td>\n",
       "      <td>Technology</td>\n",
       "      <td>2004.0</td>\n",
       "      <td>Internet and Information Services</td>\n",
       "    </tr>\n",
       "    <tr>\n",
       "      <th>3</th>\n",
       "      <td>GOOGL</td>\n",
       "      <td>Alphabet Inc. Class A Common Stock</td>\n",
       "      <td>United States</td>\n",
       "      <td>Technology</td>\n",
       "      <td>2004.0</td>\n",
       "      <td>Internet and Information Services</td>\n",
       "    </tr>\n",
       "    <tr>\n",
       "      <th>4</th>\n",
       "      <td>AMZN</td>\n",
       "      <td>Amazon.com Inc. Common Stock</td>\n",
       "      <td>United States</td>\n",
       "      <td>Consumer Discretionary</td>\n",
       "      <td>1997.0</td>\n",
       "      <td>Catalog/Specialty Distribution</td>\n",
       "    </tr>\n",
       "  </tbody>\n",
       "</table>\n",
       "</div>"
      ],
      "text/plain": [
       "  Symbol                                 Name        Country  \\\n",
       "0   AAPL              Apple Inc. Common Stock  United States   \n",
       "1   MSFT   Microsoft Corporation Common Stock  United States   \n",
       "2   GOOG  Alphabet Inc. Class C Capital Stock  United States   \n",
       "3  GOOGL   Alphabet Inc. Class A Common Stock  United States   \n",
       "4   AMZN         Amazon.com Inc. Common Stock  United States   \n",
       "\n",
       "                   Sector  IPO Year                                 Industry  \n",
       "0              Technology    1980.0                   Computer Manufacturing  \n",
       "1              Technology    1986.0  Computer Software: Prepackaged Software  \n",
       "2              Technology    2004.0        Internet and Information Services  \n",
       "3              Technology    2004.0        Internet and Information Services  \n",
       "4  Consumer Discretionary    1997.0           Catalog/Specialty Distribution  "
      ]
     },
     "execution_count": 118,
     "metadata": {},
     "output_type": "execute_result"
    }
   ],
   "source": [
    "indices = pd.read_csv(\"Data/nasdaq200.csv\")\n",
    "indices.head()"
   ]
  },
  {
   "cell_type": "code",
   "execution_count": 119,
   "metadata": {},
   "outputs": [
    {
     "data": {
      "text/plain": [
       "200"
      ]
     },
     "execution_count": 119,
     "metadata": {},
     "output_type": "execute_result"
    }
   ],
   "source": [
    "symbols = indices[\"Symbol\"].values\n",
    "names = indices[\"Name\"].values\n",
    "len(symbols)"
   ]
  },
  {
   "cell_type": "code",
   "execution_count": 120,
   "metadata": {},
   "outputs": [
    {
     "name": "stdout",
     "output_type": "stream",
     "text": [
      "[*********************100%***********************]  200 of 200 completed\n"
     ]
    }
   ],
   "source": [
    "data = yf.download(list(symbols), period=\"max\", interval=\"1d\", group_by=\"ticker\", threads = True, auto_adjust = True)"
   ]
  },
  {
   "cell_type": "code",
   "execution_count": 121,
   "metadata": {},
   "outputs": [],
   "source": [
    "def clean_data(ticker):\n",
    "    index = data[ticker]\n",
    "    index = index.dropna()\n",
    "    index = index.reset_index()\n",
    "    return index"
   ]
  },
  {
   "cell_type": "code",
   "execution_count": 122,
   "metadata": {},
   "outputs": [],
   "source": [
    "data_dict = (dict(zip(symbols, map(clean_data, symbols))))"
   ]
  },
  {
   "cell_type": "code",
   "execution_count": 124,
   "metadata": {},
   "outputs": [
    {
     "name": "stderr",
     "output_type": "stream",
     "text": [
      "100%|██████████| 200/200 [00:00<00:00, 105212.69it/s]\n"
     ]
    }
   ],
   "source": [
    "failed_indices = []\n",
    "for i in tqdm.tqdm(range(len(symbols))):\n",
    "    if data_dict[symbols[i]].empty:\n",
    "        failed_indices.append(symbols[i])"
   ]
  },
  {
   "cell_type": "code",
   "execution_count": 125,
   "metadata": {},
   "outputs": [
    {
     "data": {
      "text/plain": [
       "[]"
      ]
     },
     "execution_count": 125,
     "metadata": {},
     "output_type": "execute_result"
    }
   ],
   "source": [
    "failed_indices"
   ]
  },
  {
   "cell_type": "code",
   "execution_count": 126,
   "metadata": {},
   "outputs": [],
   "source": [
    "if failed_indices:\n",
    "    data_retry = yf.download(failed_indices, period=\"max\", interval=\"1d\", group_by=\"ticker\", threads = True, auto_adjust = True)"
   ]
  },
  {
   "cell_type": "code",
   "execution_count": 127,
   "metadata": {},
   "outputs": [],
   "source": [
    "def clean_data_retry(ticker):\n",
    "    index = data_retry[ticker]\n",
    "    index = index.dropna()\n",
    "    index = index.reset_index()\n",
    "    return index"
   ]
  },
  {
   "cell_type": "code",
   "execution_count": 128,
   "metadata": {},
   "outputs": [],
   "source": [
    "data_dict_retry = (dict(zip(failed_indices, map(clean_data_retry, failed_indices))))"
   ]
  },
  {
   "cell_type": "code",
   "execution_count": 130,
   "metadata": {},
   "outputs": [
    {
     "name": "stderr",
     "output_type": "stream",
     "text": [
      "Saving Data: 100%|██████████| 200/200 [00:14<00:00, 13.89it/s]\n"
     ]
    }
   ],
   "source": [
    "for key in data_dict_retry.keys():\n",
    "    data_dict[key] = data_dict_retry[key]\n",
    "\n",
    "for key in tqdm.tqdm(data_dict.keys(), desc=\"Saving Data\"):\n",
    "    file_name = \"Data/nasdaq200/\" + key.replace(\"^\", \"\") + \".csv\"\n",
    "    data_dict[key].to_csv(file_name, index=False)"
   ]
  },
  {
   "cell_type": "code",
   "execution_count": 155,
   "metadata": {},
   "outputs": [
    {
     "data": {
      "text/plain": [
       "200"
      ]
     },
     "execution_count": 155,
     "metadata": {},
     "output_type": "execute_result"
    }
   ],
   "source": [
    "len(glob.glob(\"Data/nasdaq200/*.csv\"))"
   ]
  },
  {
   "attachments": {},
   "cell_type": "markdown",
   "metadata": {},
   "source": [
    "### Nifty 200"
   ]
  },
  {
   "cell_type": "code",
   "execution_count": 131,
   "metadata": {},
   "outputs": [
    {
     "data": {
      "text/html": [
       "<div>\n",
       "<style scoped>\n",
       "    .dataframe tbody tr th:only-of-type {\n",
       "        vertical-align: middle;\n",
       "    }\n",
       "\n",
       "    .dataframe tbody tr th {\n",
       "        vertical-align: top;\n",
       "    }\n",
       "\n",
       "    .dataframe thead th {\n",
       "        text-align: right;\n",
       "    }\n",
       "</style>\n",
       "<table border=\"1\" class=\"dataframe\">\n",
       "  <thead>\n",
       "    <tr style=\"text-align: right;\">\n",
       "      <th></th>\n",
       "      <th>Symbol</th>\n",
       "      <th>Name</th>\n",
       "      <th>Industry</th>\n",
       "    </tr>\n",
       "  </thead>\n",
       "  <tbody>\n",
       "    <tr>\n",
       "      <th>0</th>\n",
       "      <td>ABB</td>\n",
       "      <td>ABB India Ltd.</td>\n",
       "      <td>Capital Goods</td>\n",
       "    </tr>\n",
       "    <tr>\n",
       "      <th>1</th>\n",
       "      <td>ACC</td>\n",
       "      <td>ACC Ltd.</td>\n",
       "      <td>Construction Materials</td>\n",
       "    </tr>\n",
       "    <tr>\n",
       "      <th>2</th>\n",
       "      <td>AUBANK</td>\n",
       "      <td>AU Small Finance Bank Ltd.</td>\n",
       "      <td>Financial Services</td>\n",
       "    </tr>\n",
       "    <tr>\n",
       "      <th>3</th>\n",
       "      <td>ABBOTINDIA</td>\n",
       "      <td>Abbott India Ltd.</td>\n",
       "      <td>Healthcare</td>\n",
       "    </tr>\n",
       "    <tr>\n",
       "      <th>4</th>\n",
       "      <td>ADANIENT</td>\n",
       "      <td>Adani Enterprises Ltd.</td>\n",
       "      <td>Metals &amp; Mining</td>\n",
       "    </tr>\n",
       "  </tbody>\n",
       "</table>\n",
       "</div>"
      ],
      "text/plain": [
       "       Symbol                        Name                Industry\n",
       "0         ABB              ABB India Ltd.           Capital Goods\n",
       "1         ACC                    ACC Ltd.  Construction Materials\n",
       "2      AUBANK  AU Small Finance Bank Ltd.      Financial Services\n",
       "3  ABBOTINDIA           Abbott India Ltd.              Healthcare\n",
       "4    ADANIENT      Adani Enterprises Ltd.         Metals & Mining"
      ]
     },
     "execution_count": 131,
     "metadata": {},
     "output_type": "execute_result"
    }
   ],
   "source": [
    "indices = pd.read_csv(\"Data/nifty200.csv\")\n",
    "indices.head()"
   ]
  },
  {
   "cell_type": "code",
   "execution_count": 134,
   "metadata": {},
   "outputs": [
    {
     "name": "stdout",
     "output_type": "stream",
     "text": [
      "ABCAPITAL.BO\n"
     ]
    },
    {
     "data": {
      "text/plain": [
       "200"
      ]
     },
     "execution_count": 134,
     "metadata": {},
     "output_type": "execute_result"
    }
   ],
   "source": [
    "symbols = indices[\"Symbol\"].values\n",
    "symbols = list(map(lambda x:x+\".BO\", symbols))\n",
    "print(symbols[10])\n",
    "names = indices[\"Name\"].values\n",
    "len(symbols)"
   ]
  },
  {
   "cell_type": "code",
   "execution_count": null,
   "metadata": {},
   "outputs": [],
   "source": [
    "data = yf.download(list(symbols), period=\"max\", interval=\"1d\", group_by=\"ticker\", threads = True, auto_adjust = True)"
   ]
  },
  {
   "cell_type": "code",
   "execution_count": 136,
   "metadata": {},
   "outputs": [],
   "source": [
    "def clean_data(ticker):\n",
    "    index = data[ticker]\n",
    "    index = index.dropna()\n",
    "    index = index.reset_index()\n",
    "    return index"
   ]
  },
  {
   "cell_type": "code",
   "execution_count": 137,
   "metadata": {},
   "outputs": [],
   "source": [
    "data_dict = (dict(zip(symbols, map(clean_data, symbols))))"
   ]
  },
  {
   "cell_type": "code",
   "execution_count": 138,
   "metadata": {},
   "outputs": [
    {
     "data": {
      "text/plain": [
       "200"
      ]
     },
     "execution_count": 138,
     "metadata": {},
     "output_type": "execute_result"
    }
   ],
   "source": [
    "len(data_dict)"
   ]
  },
  {
   "cell_type": "code",
   "execution_count": 139,
   "metadata": {},
   "outputs": [
    {
     "name": "stderr",
     "output_type": "stream",
     "text": [
      "100%|██████████| 200/200 [00:00<00:00, 129115.10it/s]\n"
     ]
    }
   ],
   "source": [
    "failed_indices = []\n",
    "for i in tqdm.tqdm(range(len(symbols))):\n",
    "    if data_dict[symbols[i]].empty:\n",
    "        failed_indices.append(symbols[i])"
   ]
  },
  {
   "cell_type": "code",
   "execution_count": 141,
   "metadata": {},
   "outputs": [
    {
     "data": {
      "text/plain": [
       "37"
      ]
     },
     "execution_count": 141,
     "metadata": {},
     "output_type": "execute_result"
    }
   ],
   "source": [
    "len(failed_indices)"
   ]
  },
  {
   "cell_type": "code",
   "execution_count": 144,
   "metadata": {},
   "outputs": [
    {
     "name": "stdout",
     "output_type": "stream",
     "text": [
      "[*********************100%***********************]  37 of 37 completed\n",
      "\n",
      "3 Failed downloads:\n",
      "- DEEPAKNTR.BO: No data found, symbol may be delisted\n",
      "- MCDOWELL-N.BO: No data found, symbol may be delisted\n",
      "- GUJGASLTD.BO: No data found, symbol may be delisted\n"
     ]
    }
   ],
   "source": [
    "if failed_indices:\n",
    "    data_retry = yf.download(failed_indices, period=\"5y\", interval=\"1d\", group_by=\"ticker\", threads = True, auto_adjust = True)"
   ]
  },
  {
   "cell_type": "code",
   "execution_count": 145,
   "metadata": {},
   "outputs": [],
   "source": [
    "def clean_data_retry(ticker):\n",
    "    index = data_retry[ticker]\n",
    "    index = index.dropna()\n",
    "    index = index.reset_index()\n",
    "    return index"
   ]
  },
  {
   "cell_type": "code",
   "execution_count": 146,
   "metadata": {},
   "outputs": [],
   "source": [
    "data_dict_retry = (dict(zip(failed_indices, map(clean_data_retry, failed_indices))))"
   ]
  },
  {
   "cell_type": "code",
   "execution_count": 149,
   "metadata": {},
   "outputs": [
    {
     "name": "stderr",
     "output_type": "stream",
     "text": [
      "Saving Data: 100%|██████████| 200/200 [00:07<00:00, 26.15it/s]\n"
     ]
    }
   ],
   "source": [
    "for key in data_dict_retry.keys():\n",
    "    data_dict[key] = data_dict_retry[key]\n",
    "\n",
    "for key in tqdm.tqdm(data_dict.keys(), desc=\"Saving Data\"):\n",
    "    file_name = \"Data/nifty200/\" + key.replace(\".BO\", \"\") + \".csv\"\n",
    "    data_dict[key].to_csv(file_name, index=False)"
   ]
  },
  {
   "cell_type": "code",
   "execution_count": 158,
   "metadata": {},
   "outputs": [
    {
     "name": "stdout",
     "output_type": "stream",
     "text": [
      "[*********************100%***********************]  3 of 3 completed\n"
     ]
    }
   ],
   "source": [
    "final_retry = [\"DEEPAKNTR.NS\", \"MCDOWELL-N.NS\",\"GUJGASLTD.NS\"]\n",
    "data_retry = yf.download(final_retry, period=\"max\", interval=\"1d\", group_by=\"ticker\", threads = True, auto_adjust = True)"
   ]
  },
  {
   "cell_type": "code",
   "execution_count": 160,
   "metadata": {},
   "outputs": [],
   "source": [
    "for t in final_retry:\n",
    "    index = data_retry[t]\n",
    "    index = index.dropna()\n",
    "    index = index.reset_index()\n",
    "    file_name = \"Data/nifty200/\" + t.replace(\".NS\", \"\") + \".csv\"\n",
    "    index.to_csv(file_name, index=False)"
   ]
  },
  {
   "cell_type": "code",
   "execution_count": 161,
   "metadata": {},
   "outputs": [
    {
     "data": {
      "text/plain": [
       "200"
      ]
     },
     "execution_count": 161,
     "metadata": {},
     "output_type": "execute_result"
    }
   ],
   "source": [
    "len(glob.glob(\"Data/nifty200/*.csv\"))"
   ]
  },
  {
   "attachments": {},
   "cell_type": "markdown",
   "metadata": {},
   "source": [
    "# Other"
   ]
  },
  {
   "cell_type": "code",
   "execution_count": 3,
   "metadata": {},
   "outputs": [
    {
     "name": "stdout",
     "output_type": "stream",
     "text": [
      "[*********************100%***********************]  3 of 3 completed\n"
     ]
    }
   ],
   "source": [
    "data = yf.download(  # or pdr.get_data_yahoo(...\n",
    "        # tickers list or string as well\n",
    "        tickers = \"SPY AAPL MSFT\",\n",
    "\n",
    "        # use \"period\" instead of start/end\n",
    "        # valid periods: 1d,5d,1mo,3mo,6mo,1y,2y,5y,10y,ytd,max\n",
    "        # (optional, default is '1mo')\n",
    "        period = \"max\",\n",
    "\n",
    "        # fetch data by interval (including intraday if period < 60 days)\n",
    "        # valid intervals: 1m,2m,5m,15m,30m,60m,90m,1h,1d,5d,1wk,1mo,3mo\n",
    "        # (optional, default is '1d')\n",
    "        interval = \"1d\",\n",
    "\n",
    "        # Whether to ignore timezone when aligning ticker data from \n",
    "        # different timezones. Default is True. False may be useful for \n",
    "        # minute/hourly data.\n",
    "        ignore_tz = False,\n",
    "\n",
    "        # group by ticker (to access via data['SPY'])\n",
    "        # (optional, default is 'column')\n",
    "        group_by = 'ticker',\n",
    "\n",
    "        # adjust all OHLC automatically\n",
    "        # (optional, default is False)\n",
    "        auto_adjust = True,\n",
    "\n",
    "        # attempt repair of missing data or currency mixups e.g. $/cents\n",
    "        repair = False,\n",
    "\n",
    "        # use threads for mass downloading? (True/False/Integer)\n",
    "        # (optional, default is True)\n",
    "        threads = True,\n",
    "    )"
   ]
  },
  {
   "cell_type": "code",
   "execution_count": 4,
   "metadata": {},
   "outputs": [
    {
     "data": {
      "text/html": [
       "<div>\n",
       "<style scoped>\n",
       "    .dataframe tbody tr th:only-of-type {\n",
       "        vertical-align: middle;\n",
       "    }\n",
       "\n",
       "    .dataframe tbody tr th {\n",
       "        vertical-align: top;\n",
       "    }\n",
       "\n",
       "    .dataframe thead th {\n",
       "        text-align: right;\n",
       "    }\n",
       "</style>\n",
       "<table border=\"1\" class=\"dataframe\">\n",
       "  <thead>\n",
       "    <tr style=\"text-align: right;\">\n",
       "      <th></th>\n",
       "      <th>Open</th>\n",
       "      <th>High</th>\n",
       "      <th>Low</th>\n",
       "      <th>Close</th>\n",
       "      <th>Volume</th>\n",
       "    </tr>\n",
       "    <tr>\n",
       "      <th>Date</th>\n",
       "      <th></th>\n",
       "      <th></th>\n",
       "      <th></th>\n",
       "      <th></th>\n",
       "      <th></th>\n",
       "    </tr>\n",
       "  </thead>\n",
       "  <tbody>\n",
       "    <tr>\n",
       "      <th>1980-12-12 00:00:00-05:00</th>\n",
       "      <td>0.099874</td>\n",
       "      <td>0.100308</td>\n",
       "      <td>0.099874</td>\n",
       "      <td>0.099874</td>\n",
       "      <td>469033600</td>\n",
       "    </tr>\n",
       "    <tr>\n",
       "      <th>1980-12-15 00:00:00-05:00</th>\n",
       "      <td>0.095098</td>\n",
       "      <td>0.095098</td>\n",
       "      <td>0.094663</td>\n",
       "      <td>0.094663</td>\n",
       "      <td>175884800</td>\n",
       "    </tr>\n",
       "    <tr>\n",
       "      <th>1980-12-16 00:00:00-05:00</th>\n",
       "      <td>0.088149</td>\n",
       "      <td>0.088149</td>\n",
       "      <td>0.087715</td>\n",
       "      <td>0.087715</td>\n",
       "      <td>105728000</td>\n",
       "    </tr>\n",
       "    <tr>\n",
       "      <th>1980-12-17 00:00:00-05:00</th>\n",
       "      <td>0.089886</td>\n",
       "      <td>0.090320</td>\n",
       "      <td>0.089886</td>\n",
       "      <td>0.089886</td>\n",
       "      <td>86441600</td>\n",
       "    </tr>\n",
       "    <tr>\n",
       "      <th>1980-12-18 00:00:00-05:00</th>\n",
       "      <td>0.092492</td>\n",
       "      <td>0.092927</td>\n",
       "      <td>0.092492</td>\n",
       "      <td>0.092492</td>\n",
       "      <td>73449600</td>\n",
       "    </tr>\n",
       "    <tr>\n",
       "      <th>...</th>\n",
       "      <td>...</td>\n",
       "      <td>...</td>\n",
       "      <td>...</td>\n",
       "      <td>...</td>\n",
       "      <td>...</td>\n",
       "    </tr>\n",
       "    <tr>\n",
       "      <th>2022-12-16 00:00:00-05:00</th>\n",
       "      <td>136.690002</td>\n",
       "      <td>137.649994</td>\n",
       "      <td>133.729996</td>\n",
       "      <td>134.509995</td>\n",
       "      <td>160080100</td>\n",
       "    </tr>\n",
       "    <tr>\n",
       "      <th>2022-12-19 00:00:00-05:00</th>\n",
       "      <td>135.110001</td>\n",
       "      <td>135.199997</td>\n",
       "      <td>131.320007</td>\n",
       "      <td>132.369995</td>\n",
       "      <td>79592600</td>\n",
       "    </tr>\n",
       "    <tr>\n",
       "      <th>2022-12-20 00:00:00-05:00</th>\n",
       "      <td>131.389999</td>\n",
       "      <td>133.250000</td>\n",
       "      <td>129.889999</td>\n",
       "      <td>132.300003</td>\n",
       "      <td>77432800</td>\n",
       "    </tr>\n",
       "    <tr>\n",
       "      <th>2022-12-21 00:00:00-05:00</th>\n",
       "      <td>132.979996</td>\n",
       "      <td>136.809998</td>\n",
       "      <td>132.750000</td>\n",
       "      <td>135.449997</td>\n",
       "      <td>85928000</td>\n",
       "    </tr>\n",
       "    <tr>\n",
       "      <th>2022-12-22 00:00:00-05:00</th>\n",
       "      <td>134.350006</td>\n",
       "      <td>134.559998</td>\n",
       "      <td>130.300003</td>\n",
       "      <td>132.229996</td>\n",
       "      <td>77714600</td>\n",
       "    </tr>\n",
       "  </tbody>\n",
       "</table>\n",
       "<p>10598 rows × 5 columns</p>\n",
       "</div>"
      ],
      "text/plain": [
       "                                 Open        High         Low       Close  \\\n",
       "Date                                                                        \n",
       "1980-12-12 00:00:00-05:00    0.099874    0.100308    0.099874    0.099874   \n",
       "1980-12-15 00:00:00-05:00    0.095098    0.095098    0.094663    0.094663   \n",
       "1980-12-16 00:00:00-05:00    0.088149    0.088149    0.087715    0.087715   \n",
       "1980-12-17 00:00:00-05:00    0.089886    0.090320    0.089886    0.089886   \n",
       "1980-12-18 00:00:00-05:00    0.092492    0.092927    0.092492    0.092492   \n",
       "...                               ...         ...         ...         ...   \n",
       "2022-12-16 00:00:00-05:00  136.690002  137.649994  133.729996  134.509995   \n",
       "2022-12-19 00:00:00-05:00  135.110001  135.199997  131.320007  132.369995   \n",
       "2022-12-20 00:00:00-05:00  131.389999  133.250000  129.889999  132.300003   \n",
       "2022-12-21 00:00:00-05:00  132.979996  136.809998  132.750000  135.449997   \n",
       "2022-12-22 00:00:00-05:00  134.350006  134.559998  130.300003  132.229996   \n",
       "\n",
       "                              Volume  \n",
       "Date                                  \n",
       "1980-12-12 00:00:00-05:00  469033600  \n",
       "1980-12-15 00:00:00-05:00  175884800  \n",
       "1980-12-16 00:00:00-05:00  105728000  \n",
       "1980-12-17 00:00:00-05:00   86441600  \n",
       "1980-12-18 00:00:00-05:00   73449600  \n",
       "...                              ...  \n",
       "2022-12-16 00:00:00-05:00  160080100  \n",
       "2022-12-19 00:00:00-05:00   79592600  \n",
       "2022-12-20 00:00:00-05:00   77432800  \n",
       "2022-12-21 00:00:00-05:00   85928000  \n",
       "2022-12-22 00:00:00-05:00   77714600  \n",
       "\n",
       "[10598 rows x 5 columns]"
      ]
     },
     "execution_count": 4,
     "metadata": {},
     "output_type": "execute_result"
    }
   ],
   "source": [
    "data[\"AAPL\"]"
   ]
  },
  {
   "cell_type": "code",
   "execution_count": 6,
   "metadata": {},
   "outputs": [],
   "source": [
    "apple = data[\"AAPL\"]\n",
    "apple = apple.dropna()\n",
    "apple = apple.reset_index()\n",
    "apple.to_csv(\"Data/Stocks/nasdaq200/AAPL.csv\", index=False)"
   ]
  },
  {
   "cell_type": "code",
   "execution_count": 7,
   "metadata": {},
   "outputs": [],
   "source": [
    "aapl = yf.Ticker(\"AAPL\")"
   ]
  },
  {
   "cell_type": "code",
   "execution_count": 14,
   "metadata": {},
   "outputs": [
    {
     "name": "stdout",
     "output_type": "stream",
     "text": [
      "[*********************100%***********************]  1 of 1 completed\n"
     ]
    }
   ],
   "source": [
    "nifty = yf.download(\"^NSEI\", period=\"ytd\", interval=\"1d\")"
   ]
  },
  {
   "cell_type": "code",
   "execution_count": 15,
   "metadata": {},
   "outputs": [
    {
     "data": {
      "text/html": [
       "<div>\n",
       "<style scoped>\n",
       "    .dataframe tbody tr th:only-of-type {\n",
       "        vertical-align: middle;\n",
       "    }\n",
       "\n",
       "    .dataframe tbody tr th {\n",
       "        vertical-align: top;\n",
       "    }\n",
       "\n",
       "    .dataframe thead th {\n",
       "        text-align: right;\n",
       "    }\n",
       "</style>\n",
       "<table border=\"1\" class=\"dataframe\">\n",
       "  <thead>\n",
       "    <tr style=\"text-align: right;\">\n",
       "      <th></th>\n",
       "      <th>Open</th>\n",
       "      <th>High</th>\n",
       "      <th>Low</th>\n",
       "      <th>Close</th>\n",
       "      <th>Adj Close</th>\n",
       "      <th>Volume</th>\n",
       "    </tr>\n",
       "    <tr>\n",
       "      <th>Date</th>\n",
       "      <th></th>\n",
       "      <th></th>\n",
       "      <th></th>\n",
       "      <th></th>\n",
       "      <th></th>\n",
       "      <th></th>\n",
       "    </tr>\n",
       "  </thead>\n",
       "  <tbody>\n",
       "    <tr>\n",
       "      <th>2022-01-03</th>\n",
       "      <td>17387.150391</td>\n",
       "      <td>17646.650391</td>\n",
       "      <td>17383.300781</td>\n",
       "      <td>17625.699219</td>\n",
       "      <td>17625.699219</td>\n",
       "      <td>200500</td>\n",
       "    </tr>\n",
       "    <tr>\n",
       "      <th>2022-01-04</th>\n",
       "      <td>17681.400391</td>\n",
       "      <td>17827.599609</td>\n",
       "      <td>17593.550781</td>\n",
       "      <td>17805.250000</td>\n",
       "      <td>17805.250000</td>\n",
       "      <td>247400</td>\n",
       "    </tr>\n",
       "    <tr>\n",
       "      <th>2022-01-05</th>\n",
       "      <td>17820.099609</td>\n",
       "      <td>17944.699219</td>\n",
       "      <td>17748.849609</td>\n",
       "      <td>17925.250000</td>\n",
       "      <td>17925.250000</td>\n",
       "      <td>251500</td>\n",
       "    </tr>\n",
       "    <tr>\n",
       "      <th>2022-01-06</th>\n",
       "      <td>17768.500000</td>\n",
       "      <td>17797.949219</td>\n",
       "      <td>17655.550781</td>\n",
       "      <td>17745.900391</td>\n",
       "      <td>17745.900391</td>\n",
       "      <td>236500</td>\n",
       "    </tr>\n",
       "    <tr>\n",
       "      <th>2022-01-07</th>\n",
       "      <td>17797.599609</td>\n",
       "      <td>17905.000000</td>\n",
       "      <td>17704.550781</td>\n",
       "      <td>17812.699219</td>\n",
       "      <td>17812.699219</td>\n",
       "      <td>239300</td>\n",
       "    </tr>\n",
       "    <tr>\n",
       "      <th>...</th>\n",
       "      <td>...</td>\n",
       "      <td>...</td>\n",
       "      <td>...</td>\n",
       "      <td>...</td>\n",
       "      <td>...</td>\n",
       "      <td>...</td>\n",
       "    </tr>\n",
       "    <tr>\n",
       "      <th>2022-12-19</th>\n",
       "      <td>18288.099609</td>\n",
       "      <td>18431.650391</td>\n",
       "      <td>18244.550781</td>\n",
       "      <td>18420.449219</td>\n",
       "      <td>18420.449219</td>\n",
       "      <td>154800</td>\n",
       "    </tr>\n",
       "    <tr>\n",
       "      <th>2022-12-20</th>\n",
       "      <td>18340.300781</td>\n",
       "      <td>18404.900391</td>\n",
       "      <td>18202.650391</td>\n",
       "      <td>18385.300781</td>\n",
       "      <td>18385.300781</td>\n",
       "      <td>169000</td>\n",
       "    </tr>\n",
       "    <tr>\n",
       "      <th>2022-12-21</th>\n",
       "      <td>18435.150391</td>\n",
       "      <td>18473.349609</td>\n",
       "      <td>18162.750000</td>\n",
       "      <td>18199.099609</td>\n",
       "      <td>18199.099609</td>\n",
       "      <td>187600</td>\n",
       "    </tr>\n",
       "    <tr>\n",
       "      <th>2022-12-22</th>\n",
       "      <td>18288.800781</td>\n",
       "      <td>18318.750000</td>\n",
       "      <td>18068.599609</td>\n",
       "      <td>18127.349609</td>\n",
       "      <td>18127.349609</td>\n",
       "      <td>195700</td>\n",
       "    </tr>\n",
       "    <tr>\n",
       "      <th>2022-12-23</th>\n",
       "      <td>17977.650391</td>\n",
       "      <td>18050.449219</td>\n",
       "      <td>17936.650391</td>\n",
       "      <td>17962.099609</td>\n",
       "      <td>17962.099609</td>\n",
       "      <td>0</td>\n",
       "    </tr>\n",
       "  </tbody>\n",
       "</table>\n",
       "<p>243 rows × 6 columns</p>\n",
       "</div>"
      ],
      "text/plain": [
       "                    Open          High           Low         Close  \\\n",
       "Date                                                                 \n",
       "2022-01-03  17387.150391  17646.650391  17383.300781  17625.699219   \n",
       "2022-01-04  17681.400391  17827.599609  17593.550781  17805.250000   \n",
       "2022-01-05  17820.099609  17944.699219  17748.849609  17925.250000   \n",
       "2022-01-06  17768.500000  17797.949219  17655.550781  17745.900391   \n",
       "2022-01-07  17797.599609  17905.000000  17704.550781  17812.699219   \n",
       "...                  ...           ...           ...           ...   \n",
       "2022-12-19  18288.099609  18431.650391  18244.550781  18420.449219   \n",
       "2022-12-20  18340.300781  18404.900391  18202.650391  18385.300781   \n",
       "2022-12-21  18435.150391  18473.349609  18162.750000  18199.099609   \n",
       "2022-12-22  18288.800781  18318.750000  18068.599609  18127.349609   \n",
       "2022-12-23  17977.650391  18050.449219  17936.650391  17962.099609   \n",
       "\n",
       "               Adj Close  Volume  \n",
       "Date                              \n",
       "2022-01-03  17625.699219  200500  \n",
       "2022-01-04  17805.250000  247400  \n",
       "2022-01-05  17925.250000  251500  \n",
       "2022-01-06  17745.900391  236500  \n",
       "2022-01-07  17812.699219  239300  \n",
       "...                  ...     ...  \n",
       "2022-12-19  18420.449219  154800  \n",
       "2022-12-20  18385.300781  169000  \n",
       "2022-12-21  18199.099609  187600  \n",
       "2022-12-22  18127.349609  195700  \n",
       "2022-12-23  17962.099609       0  \n",
       "\n",
       "[243 rows x 6 columns]"
      ]
     },
     "execution_count": 15,
     "metadata": {},
     "output_type": "execute_result"
    }
   ],
   "source": [
    "nifty"
   ]
  }
 ],
 "metadata": {
  "kernelspec": {
   "display_name": "data-science",
   "language": "python",
   "name": "python3"
  },
  "language_info": {
   "codemirror_mode": {
    "name": "ipython",
    "version": 3
   },
   "file_extension": ".py",
   "mimetype": "text/x-python",
   "name": "python",
   "nbconvert_exporter": "python",
   "pygments_lexer": "ipython3",
   "version": "3.9.15 (main, Nov 24 2022, 14:31:59) \n[GCC 11.2.0]"
  },
  "orig_nbformat": 4,
  "vscode": {
   "interpreter": {
    "hash": "2efee1efa502125d01e6b4768ba06d9453d29f3642bfd14ad5d4a769de82e88c"
   }
  }
 },
 "nbformat": 4,
 "nbformat_minor": 2
}
