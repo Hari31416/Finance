{
 "cells": [
  {
   "attachments": {},
   "cell_type": "markdown",
   "metadata": {},
   "source": [
    "# Imports"
   ]
  },
  {
   "cell_type": "code",
   "execution_count": 1,
   "metadata": {},
   "outputs": [],
   "source": [
    "import yfinance as yf\n",
    "import requests\n",
    "import bs4\n",
    "import pandas as pd\n",
    "import numpy as np\n",
    "import matplotlib.pyplot as plt\n",
    "import tqdm\n",
    "import datetime\n",
    "import time\n",
    "import glob\n",
    "import os\n",
    "from tqdm import tqdm\n",
    "import webdriver_manager\n",
    "from selenium.webdriver.common.by import By\n",
    "from selenium.webdriver.common.keys import Keys\n",
    "from selenium import webdriver\n",
    "from webdriver_manager.chrome import ChromeDriverManager\n",
    "from webdriver_manager.firefox import GeckoDriverManager\n",
    "from selenium.webdriver.chrome.service import Service as ChromeService\n",
    "from IPython.display import clear_output"
   ]
  },
  {
   "attachments": {},
   "cell_type": "markdown",
   "metadata": {},
   "source": [
    "# Indices"
   ]
  },
  {
   "attachments": {},
   "cell_type": "markdown",
   "metadata": {},
   "source": [
    "## Download Index Data"
   ]
  },
  {
   "cell_type": "code",
   "execution_count": 30,
   "metadata": {},
   "outputs": [
    {
     "data": {
      "text/html": [
       "<div>\n",
       "<style scoped>\n",
       "    .dataframe tbody tr th:only-of-type {\n",
       "        vertical-align: middle;\n",
       "    }\n",
       "\n",
       "    .dataframe tbody tr th {\n",
       "        vertical-align: top;\n",
       "    }\n",
       "\n",
       "    .dataframe thead th {\n",
       "        text-align: right;\n",
       "    }\n",
       "</style>\n",
       "<table border=\"1\" class=\"dataframe\">\n",
       "  <thead>\n",
       "    <tr style=\"text-align: right;\">\n",
       "      <th></th>\n",
       "      <th>Symbol</th>\n",
       "      <th>Name</th>\n",
       "    </tr>\n",
       "  </thead>\n",
       "  <tbody>\n",
       "    <tr>\n",
       "      <th>0</th>\n",
       "      <td>^GSPC</td>\n",
       "      <td>S&amp;P 500</td>\n",
       "    </tr>\n",
       "    <tr>\n",
       "      <th>1</th>\n",
       "      <td>^DJI</td>\n",
       "      <td>Dow Jones Industrial Average</td>\n",
       "    </tr>\n",
       "    <tr>\n",
       "      <th>2</th>\n",
       "      <td>^IXIC</td>\n",
       "      <td>NASDAQ Composite</td>\n",
       "    </tr>\n",
       "    <tr>\n",
       "      <th>3</th>\n",
       "      <td>^BUK100P</td>\n",
       "      <td>Cboe UK 100</td>\n",
       "    </tr>\n",
       "    <tr>\n",
       "      <th>4</th>\n",
       "      <td>^VIX</td>\n",
       "      <td>Vix</td>\n",
       "    </tr>\n",
       "  </tbody>\n",
       "</table>\n",
       "</div>"
      ],
      "text/plain": [
       "     Symbol                          Name\n",
       "0     ^GSPC                       S&P 500\n",
       "1      ^DJI  Dow Jones Industrial Average\n",
       "2     ^IXIC              NASDAQ Composite\n",
       "3  ^BUK100P                   Cboe UK 100\n",
       "4      ^VIX                           Vix"
      ]
     },
     "execution_count": 30,
     "metadata": {},
     "output_type": "execute_result"
    }
   ],
   "source": [
    "indices = pd.read_csv(\"Data/Ticker_Data/indices.csv\")\n",
    "indices.head()"
   ]
  },
  {
   "cell_type": "code",
   "execution_count": 32,
   "metadata": {},
   "outputs": [
    {
     "data": {
      "text/plain": [
       "24"
      ]
     },
     "execution_count": 32,
     "metadata": {},
     "output_type": "execute_result"
    }
   ],
   "source": [
    "symbols = indices[\"Symbol\"].values\n",
    "names = indices[\"Name\"].values\n",
    "len(symbols)"
   ]
  },
  {
   "cell_type": "code",
   "execution_count": 34,
   "metadata": {},
   "outputs": [
    {
     "name": "stdout",
     "output_type": "stream",
     "text": [
      "[*********************100%***********************]  24 of 24 completed\n",
      "\n",
      "5 Failed downloads:\n",
      "- ^INDIAVIX: 1d data not available for startTime=-2208994789 and endTime=1671771919. Only 100 years worth of day granularity data are allowed to be fetched per request.\n",
      "- ^NSEI: No timezone found, symbol may be delisted\n",
      "- ^AXJO: No data found for this date range, symbol may be delisted\n",
      "- ^N225: No data found for this date range, symbol may be delisted\n",
      "- ^KS11: No data found for this date range, symbol may be delisted\n"
     ]
    }
   ],
   "source": [
    "data = yf.download(list(symbols), period=\"max\", interval=\"1d\", group_by=\"ticker\", threads = True, auto_adjust = True)"
   ]
  },
  {
   "cell_type": "code",
   "execution_count": 35,
   "metadata": {},
   "outputs": [],
   "source": [
    "def clean_data(ticker):\n",
    "    index = data[ticker]\n",
    "    index = index.dropna()\n",
    "    index = index.reset_index()\n",
    "    return index"
   ]
  },
  {
   "cell_type": "code",
   "execution_count": 42,
   "metadata": {},
   "outputs": [],
   "source": [
    "data_dict = (dict(zip(symbols, map(clean_data, symbols))))"
   ]
  },
  {
   "cell_type": "code",
   "execution_count": 46,
   "metadata": {},
   "outputs": [
    {
     "name": "stderr",
     "output_type": "stream",
     "text": [
      "100%|██████████| 24/24 [00:00<00:00, 40184.95it/s]\n"
     ]
    }
   ],
   "source": [
    "failed_indices = []\n",
    "for i in tqdm.tqdm(range(len(symbols))):\n",
    "    if data_dict[symbols[i]].empty:\n",
    "        failed_indices.append(symbols[i])"
   ]
  },
  {
   "cell_type": "code",
   "execution_count": 58,
   "metadata": {},
   "outputs": [
    {
     "name": "stdout",
     "output_type": "stream",
     "text": [
      "[*********************100%***********************]  5 of 5 completed\n",
      "\n",
      "1 Failed download:\n",
      "- ^INDIAVIX: 1d data not available for startTime=-2208994789 and endTime=1671772519. Only 100 years worth of day granularity data are allowed to be fetched per request.\n"
     ]
    }
   ],
   "source": [
    "data_retry = yf.download(failed_indices, period=\"max\", interval=\"1d\", group_by=\"ticker\", threads = True, auto_adjust = True)"
   ]
  },
  {
   "cell_type": "code",
   "execution_count": 60,
   "metadata": {},
   "outputs": [],
   "source": [
    "def clean_data_retry(ticker):\n",
    "    index = data_retry[ticker]\n",
    "    index = index.dropna()\n",
    "    index = index.reset_index()\n",
    "    return index"
   ]
  },
  {
   "cell_type": "code",
   "execution_count": 62,
   "metadata": {},
   "outputs": [],
   "source": [
    "data_dict_retry = (dict(zip(failed_indices, map(clean_data_retry, failed_indices))))"
   ]
  },
  {
   "cell_type": "code",
   "execution_count": 71,
   "metadata": {},
   "outputs": [
    {
     "name": "stderr",
     "output_type": "stream",
     "text": [
      "Saving Data: 100%|██████████| 24/24 [00:01<00:00, 17.21it/s]\n"
     ]
    }
   ],
   "source": [
    "for key in data_dict_retry.keys():\n",
    "    data_dict[key] = data_dict_retry[key]\n",
    "\n",
    "for key in tqdm.tqdm(data_dict.keys(), desc=\"Saving Data\"):\n",
    "    file_name = \"Data/Indices/\" + key.replace(\"^\", \"\") + \".csv\"\n",
    "    data_dict[key].to_csv(file_name, index=False)"
   ]
  },
  {
   "attachments": {},
   "cell_type": "markdown",
   "metadata": {},
   "source": [
    "# Stocks"
   ]
  },
  {
   "attachments": {},
   "cell_type": "markdown",
   "metadata": {},
   "source": [
    "## Download Index Data"
   ]
  },
  {
   "attachments": {},
   "cell_type": "markdown",
   "metadata": {},
   "source": [
    "### NASDAQ 200"
   ]
  },
  {
   "cell_type": "code",
   "execution_count": 118,
   "metadata": {},
   "outputs": [
    {
     "data": {
      "text/html": [
       "<div>\n",
       "<style scoped>\n",
       "    .dataframe tbody tr th:only-of-type {\n",
       "        vertical-align: middle;\n",
       "    }\n",
       "\n",
       "    .dataframe tbody tr th {\n",
       "        vertical-align: top;\n",
       "    }\n",
       "\n",
       "    .dataframe thead th {\n",
       "        text-align: right;\n",
       "    }\n",
       "</style>\n",
       "<table border=\"1\" class=\"dataframe\">\n",
       "  <thead>\n",
       "    <tr style=\"text-align: right;\">\n",
       "      <th></th>\n",
       "      <th>Symbol</th>\n",
       "      <th>Name</th>\n",
       "      <th>Country</th>\n",
       "      <th>Sector</th>\n",
       "      <th>IPO Year</th>\n",
       "      <th>Industry</th>\n",
       "    </tr>\n",
       "  </thead>\n",
       "  <tbody>\n",
       "    <tr>\n",
       "      <th>0</th>\n",
       "      <td>AAPL</td>\n",
       "      <td>Apple Inc. Common Stock</td>\n",
       "      <td>United States</td>\n",
       "      <td>Technology</td>\n",
       "      <td>1980.0</td>\n",
       "      <td>Computer Manufacturing</td>\n",
       "    </tr>\n",
       "    <tr>\n",
       "      <th>1</th>\n",
       "      <td>MSFT</td>\n",
       "      <td>Microsoft Corporation Common Stock</td>\n",
       "      <td>United States</td>\n",
       "      <td>Technology</td>\n",
       "      <td>1986.0</td>\n",
       "      <td>Computer Software: Prepackaged Software</td>\n",
       "    </tr>\n",
       "    <tr>\n",
       "      <th>2</th>\n",
       "      <td>GOOG</td>\n",
       "      <td>Alphabet Inc. Class C Capital Stock</td>\n",
       "      <td>United States</td>\n",
       "      <td>Technology</td>\n",
       "      <td>2004.0</td>\n",
       "      <td>Internet and Information Services</td>\n",
       "    </tr>\n",
       "    <tr>\n",
       "      <th>3</th>\n",
       "      <td>GOOGL</td>\n",
       "      <td>Alphabet Inc. Class A Common Stock</td>\n",
       "      <td>United States</td>\n",
       "      <td>Technology</td>\n",
       "      <td>2004.0</td>\n",
       "      <td>Internet and Information Services</td>\n",
       "    </tr>\n",
       "    <tr>\n",
       "      <th>4</th>\n",
       "      <td>AMZN</td>\n",
       "      <td>Amazon.com Inc. Common Stock</td>\n",
       "      <td>United States</td>\n",
       "      <td>Consumer Discretionary</td>\n",
       "      <td>1997.0</td>\n",
       "      <td>Catalog/Specialty Distribution</td>\n",
       "    </tr>\n",
       "  </tbody>\n",
       "</table>\n",
       "</div>"
      ],
      "text/plain": [
       "  Symbol                                 Name        Country  \\\n",
       "0   AAPL              Apple Inc. Common Stock  United States   \n",
       "1   MSFT   Microsoft Corporation Common Stock  United States   \n",
       "2   GOOG  Alphabet Inc. Class C Capital Stock  United States   \n",
       "3  GOOGL   Alphabet Inc. Class A Common Stock  United States   \n",
       "4   AMZN         Amazon.com Inc. Common Stock  United States   \n",
       "\n",
       "                   Sector  IPO Year                                 Industry  \n",
       "0              Technology    1980.0                   Computer Manufacturing  \n",
       "1              Technology    1986.0  Computer Software: Prepackaged Software  \n",
       "2              Technology    2004.0        Internet and Information Services  \n",
       "3              Technology    2004.0        Internet and Information Services  \n",
       "4  Consumer Discretionary    1997.0           Catalog/Specialty Distribution  "
      ]
     },
     "execution_count": 118,
     "metadata": {},
     "output_type": "execute_result"
    }
   ],
   "source": [
    "indices = pd.read_csv(\"Data/nasdaq200.csv\")\n",
    "indices.head()"
   ]
  },
  {
   "cell_type": "code",
   "execution_count": 119,
   "metadata": {},
   "outputs": [
    {
     "data": {
      "text/plain": [
       "200"
      ]
     },
     "execution_count": 119,
     "metadata": {},
     "output_type": "execute_result"
    }
   ],
   "source": [
    "symbols = indices[\"Symbol\"].values\n",
    "names = indices[\"Name\"].values\n",
    "len(symbols)"
   ]
  },
  {
   "cell_type": "code",
   "execution_count": 120,
   "metadata": {},
   "outputs": [
    {
     "name": "stdout",
     "output_type": "stream",
     "text": [
      "[*********************100%***********************]  200 of 200 completed\n"
     ]
    }
   ],
   "source": [
    "data = yf.download(list(symbols), period=\"max\", interval=\"1d\", group_by=\"ticker\", threads = True, auto_adjust = True)"
   ]
  },
  {
   "cell_type": "code",
   "execution_count": 121,
   "metadata": {},
   "outputs": [],
   "source": [
    "def clean_data(ticker):\n",
    "    index = data[ticker]\n",
    "    index = index.dropna()\n",
    "    index = index.reset_index()\n",
    "    return index"
   ]
  },
  {
   "cell_type": "code",
   "execution_count": 122,
   "metadata": {},
   "outputs": [],
   "source": [
    "data_dict = (dict(zip(symbols, map(clean_data, symbols))))"
   ]
  },
  {
   "cell_type": "code",
   "execution_count": 124,
   "metadata": {},
   "outputs": [
    {
     "name": "stderr",
     "output_type": "stream",
     "text": [
      "100%|██████████| 200/200 [00:00<00:00, 105212.69it/s]\n"
     ]
    }
   ],
   "source": [
    "failed_indices = []\n",
    "for i in tqdm.tqdm(range(len(symbols))):\n",
    "    if data_dict[symbols[i]].empty:\n",
    "        failed_indices.append(symbols[i])"
   ]
  },
  {
   "cell_type": "code",
   "execution_count": 125,
   "metadata": {},
   "outputs": [
    {
     "data": {
      "text/plain": [
       "[]"
      ]
     },
     "execution_count": 125,
     "metadata": {},
     "output_type": "execute_result"
    }
   ],
   "source": [
    "failed_indices"
   ]
  },
  {
   "cell_type": "code",
   "execution_count": 126,
   "metadata": {},
   "outputs": [],
   "source": [
    "if failed_indices:\n",
    "    data_retry = yf.download(failed_indices, period=\"max\", interval=\"1d\", group_by=\"ticker\", threads = True, auto_adjust = True)"
   ]
  },
  {
   "cell_type": "code",
   "execution_count": 127,
   "metadata": {},
   "outputs": [],
   "source": [
    "def clean_data_retry(ticker):\n",
    "    index = data_retry[ticker]\n",
    "    index = index.dropna()\n",
    "    index = index.reset_index()\n",
    "    return index"
   ]
  },
  {
   "cell_type": "code",
   "execution_count": 128,
   "metadata": {},
   "outputs": [],
   "source": [
    "data_dict_retry = (dict(zip(failed_indices, map(clean_data_retry, failed_indices))))"
   ]
  },
  {
   "cell_type": "code",
   "execution_count": 130,
   "metadata": {},
   "outputs": [
    {
     "name": "stderr",
     "output_type": "stream",
     "text": [
      "Saving Data: 100%|██████████| 200/200 [00:14<00:00, 13.89it/s]\n"
     ]
    }
   ],
   "source": [
    "for key in data_dict_retry.keys():\n",
    "    data_dict[key] = data_dict_retry[key]\n",
    "\n",
    "for key in tqdm.tqdm(data_dict.keys(), desc=\"Saving Data\"):\n",
    "    file_name = \"Data/nasdaq200/\" + key.replace(\"^\", \"\") + \".csv\"\n",
    "    data_dict[key].to_csv(file_name, index=False)"
   ]
  },
  {
   "cell_type": "code",
   "execution_count": 155,
   "metadata": {},
   "outputs": [
    {
     "data": {
      "text/plain": [
       "200"
      ]
     },
     "execution_count": 155,
     "metadata": {},
     "output_type": "execute_result"
    }
   ],
   "source": [
    "len(glob.glob(\"Data/nasdaq200/*.csv\"))"
   ]
  },
  {
   "attachments": {},
   "cell_type": "markdown",
   "metadata": {},
   "source": [
    "### Nifty 200"
   ]
  },
  {
   "cell_type": "code",
   "execution_count": 131,
   "metadata": {},
   "outputs": [
    {
     "data": {
      "text/html": [
       "<div>\n",
       "<style scoped>\n",
       "    .dataframe tbody tr th:only-of-type {\n",
       "        vertical-align: middle;\n",
       "    }\n",
       "\n",
       "    .dataframe tbody tr th {\n",
       "        vertical-align: top;\n",
       "    }\n",
       "\n",
       "    .dataframe thead th {\n",
       "        text-align: right;\n",
       "    }\n",
       "</style>\n",
       "<table border=\"1\" class=\"dataframe\">\n",
       "  <thead>\n",
       "    <tr style=\"text-align: right;\">\n",
       "      <th></th>\n",
       "      <th>Symbol</th>\n",
       "      <th>Name</th>\n",
       "      <th>Industry</th>\n",
       "    </tr>\n",
       "  </thead>\n",
       "  <tbody>\n",
       "    <tr>\n",
       "      <th>0</th>\n",
       "      <td>ABB</td>\n",
       "      <td>ABB India Ltd.</td>\n",
       "      <td>Capital Goods</td>\n",
       "    </tr>\n",
       "    <tr>\n",
       "      <th>1</th>\n",
       "      <td>ACC</td>\n",
       "      <td>ACC Ltd.</td>\n",
       "      <td>Construction Materials</td>\n",
       "    </tr>\n",
       "    <tr>\n",
       "      <th>2</th>\n",
       "      <td>AUBANK</td>\n",
       "      <td>AU Small Finance Bank Ltd.</td>\n",
       "      <td>Financial Services</td>\n",
       "    </tr>\n",
       "    <tr>\n",
       "      <th>3</th>\n",
       "      <td>ABBOTINDIA</td>\n",
       "      <td>Abbott India Ltd.</td>\n",
       "      <td>Healthcare</td>\n",
       "    </tr>\n",
       "    <tr>\n",
       "      <th>4</th>\n",
       "      <td>ADANIENT</td>\n",
       "      <td>Adani Enterprises Ltd.</td>\n",
       "      <td>Metals &amp; Mining</td>\n",
       "    </tr>\n",
       "  </tbody>\n",
       "</table>\n",
       "</div>"
      ],
      "text/plain": [
       "       Symbol                        Name                Industry\n",
       "0         ABB              ABB India Ltd.           Capital Goods\n",
       "1         ACC                    ACC Ltd.  Construction Materials\n",
       "2      AUBANK  AU Small Finance Bank Ltd.      Financial Services\n",
       "3  ABBOTINDIA           Abbott India Ltd.              Healthcare\n",
       "4    ADANIENT      Adani Enterprises Ltd.         Metals & Mining"
      ]
     },
     "execution_count": 131,
     "metadata": {},
     "output_type": "execute_result"
    }
   ],
   "source": [
    "indices = pd.read_csv(\"Data/nifty200.csv\")\n",
    "indices.head()"
   ]
  },
  {
   "cell_type": "code",
   "execution_count": 134,
   "metadata": {},
   "outputs": [
    {
     "name": "stdout",
     "output_type": "stream",
     "text": [
      "ABCAPITAL.BO\n"
     ]
    },
    {
     "data": {
      "text/plain": [
       "200"
      ]
     },
     "execution_count": 134,
     "metadata": {},
     "output_type": "execute_result"
    }
   ],
   "source": [
    "symbols = indices[\"Symbol\"].values\n",
    "symbols = list(map(lambda x:x+\".BO\", symbols))\n",
    "print(symbols[10])\n",
    "names = indices[\"Name\"].values\n",
    "len(symbols)"
   ]
  },
  {
   "cell_type": "code",
   "execution_count": null,
   "metadata": {},
   "outputs": [],
   "source": [
    "data = yf.download(list(symbols), period=\"max\", interval=\"1d\", group_by=\"ticker\", threads = True, auto_adjust = True)"
   ]
  },
  {
   "cell_type": "code",
   "execution_count": 136,
   "metadata": {},
   "outputs": [],
   "source": [
    "def clean_data(ticker):\n",
    "    index = data[ticker]\n",
    "    index = index.dropna()\n",
    "    index = index.reset_index()\n",
    "    return index"
   ]
  },
  {
   "cell_type": "code",
   "execution_count": 137,
   "metadata": {},
   "outputs": [],
   "source": [
    "data_dict = (dict(zip(symbols, map(clean_data, symbols))))"
   ]
  },
  {
   "cell_type": "code",
   "execution_count": 138,
   "metadata": {},
   "outputs": [
    {
     "data": {
      "text/plain": [
       "200"
      ]
     },
     "execution_count": 138,
     "metadata": {},
     "output_type": "execute_result"
    }
   ],
   "source": [
    "len(data_dict)"
   ]
  },
  {
   "cell_type": "code",
   "execution_count": 139,
   "metadata": {},
   "outputs": [
    {
     "name": "stderr",
     "output_type": "stream",
     "text": [
      "100%|██████████| 200/200 [00:00<00:00, 129115.10it/s]\n"
     ]
    }
   ],
   "source": [
    "failed_indices = []\n",
    "for i in tqdm.tqdm(range(len(symbols))):\n",
    "    if data_dict[symbols[i]].empty:\n",
    "        failed_indices.append(symbols[i])"
   ]
  },
  {
   "cell_type": "code",
   "execution_count": 141,
   "metadata": {},
   "outputs": [
    {
     "data": {
      "text/plain": [
       "37"
      ]
     },
     "execution_count": 141,
     "metadata": {},
     "output_type": "execute_result"
    }
   ],
   "source": [
    "len(failed_indices)"
   ]
  },
  {
   "cell_type": "code",
   "execution_count": 144,
   "metadata": {},
   "outputs": [
    {
     "name": "stdout",
     "output_type": "stream",
     "text": [
      "[*********************100%***********************]  37 of 37 completed\n",
      "\n",
      "3 Failed downloads:\n",
      "- DEEPAKNTR.BO: No data found, symbol may be delisted\n",
      "- MCDOWELL-N.BO: No data found, symbol may be delisted\n",
      "- GUJGASLTD.BO: No data found, symbol may be delisted\n"
     ]
    }
   ],
   "source": [
    "if failed_indices:\n",
    "    data_retry = yf.download(failed_indices, period=\"5y\", interval=\"1d\", group_by=\"ticker\", threads = True, auto_adjust = True)"
   ]
  },
  {
   "cell_type": "code",
   "execution_count": 145,
   "metadata": {},
   "outputs": [],
   "source": [
    "def clean_data_retry(ticker):\n",
    "    index = data_retry[ticker]\n",
    "    index = index.dropna()\n",
    "    index = index.reset_index()\n",
    "    return index"
   ]
  },
  {
   "cell_type": "code",
   "execution_count": 146,
   "metadata": {},
   "outputs": [],
   "source": [
    "data_dict_retry = (dict(zip(failed_indices, map(clean_data_retry, failed_indices))))"
   ]
  },
  {
   "cell_type": "code",
   "execution_count": 149,
   "metadata": {},
   "outputs": [
    {
     "name": "stderr",
     "output_type": "stream",
     "text": [
      "Saving Data: 100%|██████████| 200/200 [00:07<00:00, 26.15it/s]\n"
     ]
    }
   ],
   "source": [
    "for key in data_dict_retry.keys():\n",
    "    data_dict[key] = data_dict_retry[key]\n",
    "\n",
    "for key in tqdm.tqdm(data_dict.keys(), desc=\"Saving Data\"):\n",
    "    file_name = \"Data/nifty200/\" + key.replace(\".BO\", \"\") + \".csv\"\n",
    "    data_dict[key].to_csv(file_name, index=False)"
   ]
  },
  {
   "cell_type": "code",
   "execution_count": 158,
   "metadata": {},
   "outputs": [
    {
     "name": "stdout",
     "output_type": "stream",
     "text": [
      "[*********************100%***********************]  3 of 3 completed\n"
     ]
    }
   ],
   "source": [
    "final_retry = [\"DEEPAKNTR.NS\", \"MCDOWELL-N.NS\",\"GUJGASLTD.NS\"]\n",
    "data_retry = yf.download(final_retry, period=\"max\", interval=\"1d\", group_by=\"ticker\", threads = True, auto_adjust = True)"
   ]
  },
  {
   "cell_type": "code",
   "execution_count": 160,
   "metadata": {},
   "outputs": [],
   "source": [
    "for t in final_retry:\n",
    "    index = data_retry[t]\n",
    "    index = index.dropna()\n",
    "    index = index.reset_index()\n",
    "    file_name = \"Data/nifty200/\" + t.replace(\".NS\", \"\") + \".csv\"\n",
    "    index.to_csv(file_name, index=False)"
   ]
  },
  {
   "cell_type": "code",
   "execution_count": 161,
   "metadata": {},
   "outputs": [
    {
     "data": {
      "text/plain": [
       "200"
      ]
     },
     "execution_count": 161,
     "metadata": {},
     "output_type": "execute_result"
    }
   ],
   "source": [
    "len(glob.glob(\"Data/nifty200/*.csv\"))"
   ]
  },
  {
   "attachments": {},
   "cell_type": "markdown",
   "metadata": {},
   "source": [
    "# Commodities"
   ]
  },
  {
   "attachments": {},
   "cell_type": "markdown",
   "metadata": {},
   "source": [
    "## Download Commodities Data"
   ]
  },
  {
   "cell_type": "code",
   "execution_count": 49,
   "metadata": {},
   "outputs": [
    {
     "data": {
      "text/html": [
       "<div>\n",
       "<style scoped>\n",
       "    .dataframe tbody tr th:only-of-type {\n",
       "        vertical-align: middle;\n",
       "    }\n",
       "\n",
       "    .dataframe tbody tr th {\n",
       "        vertical-align: top;\n",
       "    }\n",
       "\n",
       "    .dataframe thead th {\n",
       "        text-align: right;\n",
       "    }\n",
       "</style>\n",
       "<table border=\"1\" class=\"dataframe\">\n",
       "  <thead>\n",
       "    <tr style=\"text-align: right;\">\n",
       "      <th></th>\n",
       "      <th>Ticker</th>\n",
       "      <th>Name</th>\n",
       "    </tr>\n",
       "  </thead>\n",
       "  <tbody>\n",
       "    <tr>\n",
       "      <th>0</th>\n",
       "      <td>GC=F</td>\n",
       "      <td>Gold</td>\n",
       "    </tr>\n",
       "    <tr>\n",
       "      <th>1</th>\n",
       "      <td>SI=F</td>\n",
       "      <td>Silver</td>\n",
       "    </tr>\n",
       "    <tr>\n",
       "      <th>2</th>\n",
       "      <td>CL=F</td>\n",
       "      <td>Oil</td>\n",
       "    </tr>\n",
       "    <tr>\n",
       "      <th>3</th>\n",
       "      <td>NG=F</td>\n",
       "      <td>Gas</td>\n",
       "    </tr>\n",
       "    <tr>\n",
       "      <th>4</th>\n",
       "      <td>HG=F</td>\n",
       "      <td>Copper</td>\n",
       "    </tr>\n",
       "  </tbody>\n",
       "</table>\n",
       "</div>"
      ],
      "text/plain": [
       "  Ticker    Name\n",
       "0   GC=F    Gold\n",
       "1   SI=F  Silver\n",
       "2   CL=F     Oil\n",
       "3   NG=F     Gas\n",
       "4   HG=F  Copper"
      ]
     },
     "execution_count": 49,
     "metadata": {},
     "output_type": "execute_result"
    }
   ],
   "source": [
    "commodities = pd.read_csv(\"Data/Ticker_Data/commodities.csv\")\n",
    "commodities.head()"
   ]
  },
  {
   "cell_type": "code",
   "execution_count": 56,
   "metadata": {},
   "outputs": [
    {
     "data": {
      "text/plain": [
       "14"
      ]
     },
     "execution_count": 56,
     "metadata": {},
     "output_type": "execute_result"
    }
   ],
   "source": [
    "symbols = commodities[\"Ticker\"].values\n",
    "names = commodities[\"Name\"].values\n",
    "sym_name = dict((symbol, name) for symbol, name in zip(symbols, names))\n",
    "len(symbols)"
   ]
  },
  {
   "cell_type": "code",
   "execution_count": 51,
   "metadata": {},
   "outputs": [
    {
     "name": "stdout",
     "output_type": "stream",
     "text": [
      "[*********************100%***********************]  14 of 14 completed\n"
     ]
    }
   ],
   "source": [
    "data = yf.download(list(symbols), period=\"max\", interval=\"1d\", group_by=\"ticker\", threads = True, auto_adjust = True)"
   ]
  },
  {
   "cell_type": "code",
   "execution_count": 52,
   "metadata": {},
   "outputs": [],
   "source": [
    "def clean_data(ticker):\n",
    "    index = data[ticker]\n",
    "    index = index.dropna()\n",
    "    index = index.reset_index()\n",
    "    return index"
   ]
  },
  {
   "cell_type": "code",
   "execution_count": 59,
   "metadata": {},
   "outputs": [],
   "source": [
    "data_dict = (dict(zip(symbols, map(clean_data, symbols))))"
   ]
  },
  {
   "cell_type": "code",
   "execution_count": 60,
   "metadata": {},
   "outputs": [
    {
     "name": "stderr",
     "output_type": "stream",
     "text": [
      "100%|██████████| 14/14 [00:00<00:00, 66126.41it/s]\n"
     ]
    }
   ],
   "source": [
    "failed_indices = []\n",
    "for i in tqdm(range(len(symbols))):\n",
    "    if data_dict[symbols[i]].empty:\n",
    "        failed_indices.append(symbols[i])"
   ]
  },
  {
   "cell_type": "code",
   "execution_count": 61,
   "metadata": {},
   "outputs": [],
   "source": [
    "if failed_indices:\n",
    "    data_retry = yf.download(failed_indices, period=\"max\", interval=\"1d\", group_by=\"ticker\", threads = True, auto_adjust = True)"
   ]
  },
  {
   "cell_type": "code",
   "execution_count": 62,
   "metadata": {},
   "outputs": [],
   "source": [
    "def clean_data_retry(ticker):\n",
    "    index = data_retry[ticker]\n",
    "    index = index.dropna()\n",
    "    index = index.reset_index()\n",
    "    return index"
   ]
  },
  {
   "cell_type": "code",
   "execution_count": 63,
   "metadata": {},
   "outputs": [],
   "source": [
    "data_dict_retry = (dict(zip(failed_indices, map(clean_data_retry, failed_indices))))"
   ]
  },
  {
   "cell_type": "code",
   "execution_count": 65,
   "metadata": {},
   "outputs": [
    {
     "name": "stderr",
     "output_type": "stream",
     "text": [
      "Saving Data: 100%|██████████| 14/14 [00:01<00:00, 11.36it/s]\n"
     ]
    }
   ],
   "source": [
    "for key in data_dict_retry.keys():\n",
    "    data_dict[key] = data_dict_retry[key]\n",
    "\n",
    "for key in tqdm(data_dict.keys(), desc=\"Saving Data\"):\n",
    "    file_name = \"Data/Commodities/\" + sym_name[key] + \".csv\"\n",
    "    data_dict[key].to_csv(file_name, index=False)"
   ]
  },
  {
   "attachments": {},
   "cell_type": "markdown",
   "metadata": {},
   "source": [
    "# Bonnds"
   ]
  },
  {
   "attachments": {},
   "cell_type": "markdown",
   "metadata": {},
   "source": [
    "## US Bonds"
   ]
  },
  {
   "cell_type": "code",
   "execution_count": 20,
   "metadata": {},
   "outputs": [
    {
     "data": {
      "text/html": [
       "<div>\n",
       "<style scoped>\n",
       "    .dataframe tbody tr th:only-of-type {\n",
       "        vertical-align: middle;\n",
       "    }\n",
       "\n",
       "    .dataframe tbody tr th {\n",
       "        vertical-align: top;\n",
       "    }\n",
       "\n",
       "    .dataframe thead th {\n",
       "        text-align: right;\n",
       "    }\n",
       "</style>\n",
       "<table border=\"1\" class=\"dataframe\">\n",
       "  <thead>\n",
       "    <tr style=\"text-align: right;\">\n",
       "      <th></th>\n",
       "      <th>Symbol</th>\n",
       "      <th>Name</th>\n",
       "    </tr>\n",
       "  </thead>\n",
       "  <tbody>\n",
       "    <tr>\n",
       "      <th>0</th>\n",
       "      <td>^IRX</td>\n",
       "      <td>13 Week Treasury Bill</td>\n",
       "    </tr>\n",
       "    <tr>\n",
       "      <th>1</th>\n",
       "      <td>^FVX</td>\n",
       "      <td>Treasury Yield 5 Years</td>\n",
       "    </tr>\n",
       "    <tr>\n",
       "      <th>2</th>\n",
       "      <td>^TNX</td>\n",
       "      <td>Treasury Yield 10 Years</td>\n",
       "    </tr>\n",
       "    <tr>\n",
       "      <th>3</th>\n",
       "      <td>^TYX</td>\n",
       "      <td>Treasury Yield 30 Years</td>\n",
       "    </tr>\n",
       "  </tbody>\n",
       "</table>\n",
       "</div>"
      ],
      "text/plain": [
       "  Symbol                     Name\n",
       "0   ^IRX    13 Week Treasury Bill\n",
       "1   ^FVX   Treasury Yield 5 Years\n",
       "2   ^TNX  Treasury Yield 10 Years\n",
       "3   ^TYX  Treasury Yield 30 Years"
      ]
     },
     "execution_count": 20,
     "metadata": {},
     "output_type": "execute_result"
    }
   ],
   "source": [
    "us_bonds = pd.read_csv(\"Data/Ticker_Data/us_bonds.csv\")\n",
    "us_bonds.head()"
   ]
  },
  {
   "cell_type": "code",
   "execution_count": 21,
   "metadata": {},
   "outputs": [
    {
     "data": {
      "text/plain": [
       "4"
      ]
     },
     "execution_count": 21,
     "metadata": {},
     "output_type": "execute_result"
    }
   ],
   "source": [
    "symbols = us_bonds[\"Symbol\"].values\n",
    "names = us_bonds[\"Name\"].values\n",
    "len(symbols)"
   ]
  },
  {
   "cell_type": "code",
   "execution_count": 22,
   "metadata": {},
   "outputs": [
    {
     "name": "stdout",
     "output_type": "stream",
     "text": [
      "[*********************100%***********************]  4 of 4 completed\n"
     ]
    }
   ],
   "source": [
    "data = yf.download(list(symbols), period=\"max\", interval=\"1d\", group_by=\"ticker\", threads = True, auto_adjust = True)"
   ]
  },
  {
   "cell_type": "code",
   "execution_count": 23,
   "metadata": {},
   "outputs": [],
   "source": [
    "def clean_data(ticker):\n",
    "    index = data[ticker]\n",
    "    index = index.dropna()\n",
    "    index = index.reset_index()\n",
    "    return index"
   ]
  },
  {
   "cell_type": "code",
   "execution_count": 24,
   "metadata": {},
   "outputs": [],
   "source": [
    "data_dict = (dict(zip(symbols, map(clean_data, symbols))))"
   ]
  },
  {
   "cell_type": "code",
   "execution_count": 25,
   "metadata": {},
   "outputs": [
    {
     "name": "stderr",
     "output_type": "stream",
     "text": [
      "100%|██████████| 4/4 [00:00<00:00, 10492.32it/s]\n"
     ]
    }
   ],
   "source": [
    "failed_indices = []\n",
    "for i in tqdm(range(len(symbols))):\n",
    "    if data_dict[symbols[i]].empty:\n",
    "        failed_indices.append(symbols[i])"
   ]
  },
  {
   "cell_type": "code",
   "execution_count": 26,
   "metadata": {},
   "outputs": [],
   "source": [
    "if failed_indices:\n",
    "    data_retry = yf.download(failed_indices, period=\"max\", interval=\"1d\", group_by=\"ticker\", threads = True, auto_adjust = True)"
   ]
  },
  {
   "cell_type": "code",
   "execution_count": 27,
   "metadata": {},
   "outputs": [],
   "source": [
    "def clean_data_retry(ticker):\n",
    "    index = data_retry[ticker]\n",
    "    index = index.dropna()\n",
    "    index = index.reset_index()\n",
    "    return index"
   ]
  },
  {
   "cell_type": "code",
   "execution_count": 28,
   "metadata": {},
   "outputs": [],
   "source": [
    "data_dict_retry = (dict(zip(failed_indices, map(clean_data_retry, failed_indices))))"
   ]
  },
  {
   "cell_type": "code",
   "execution_count": 30,
   "metadata": {},
   "outputs": [
    {
     "name": "stderr",
     "output_type": "stream",
     "text": [
      "Saving Data: 100%|██████████| 4/4 [00:00<00:00,  7.41it/s]\n"
     ]
    }
   ],
   "source": [
    "for key in data_dict_retry.keys():\n",
    "    data_dict[key] = data_dict_retry[key]\n",
    "\n",
    "for key in tqdm(data_dict.keys(), desc=\"Saving Data\"):\n",
    "    file_name = \"Data/Bonds/US/\" + key.replace(\"^\", \"\") + \".csv\"\n",
    "    data_dict[key].to_csv(file_name, index=False)"
   ]
  },
  {
   "attachments": {},
   "cell_type": "markdown",
   "metadata": {},
   "source": [
    "## Indian Bonds"
   ]
  },
  {
   "cell_type": "code",
   "execution_count": 109,
   "metadata": {},
   "outputs": [
    {
     "name": "stdout",
     "output_type": "stream",
     "text": [
      "27-12-2022\n"
     ]
    }
   ],
   "source": [
    "TODAY = datetime.date.today()\n",
    "TODAY = TODAY.strftime(\"%d-%m-%Y\")\n",
    "print(TODAY)"
   ]
  },
  {
   "cell_type": "code",
   "execution_count": 157,
   "metadata": {},
   "outputs": [],
   "source": [
    "driver = webdriver.Chrome(service=ChromeService(ChromeDriverManager().install()))"
   ]
  },
  {
   "cell_type": "code",
   "execution_count": 77,
   "metadata": {},
   "outputs": [
    {
     "data": {
      "text/html": [
       "<div>\n",
       "<style scoped>\n",
       "    .dataframe tbody tr th:only-of-type {\n",
       "        vertical-align: middle;\n",
       "    }\n",
       "\n",
       "    .dataframe tbody tr th {\n",
       "        vertical-align: top;\n",
       "    }\n",
       "\n",
       "    .dataframe thead th {\n",
       "        text-align: right;\n",
       "    }\n",
       "</style>\n",
       "<table border=\"1\" class=\"dataframe\">\n",
       "  <thead>\n",
       "    <tr style=\"text-align: right;\">\n",
       "      <th></th>\n",
       "      <th>Name</th>\n",
       "      <th>URL</th>\n",
       "    </tr>\n",
       "  </thead>\n",
       "  <tbody>\n",
       "    <tr>\n",
       "      <th>0</th>\n",
       "      <td>India 3M</td>\n",
       "      <td>https://in.investing.com/rates-bonds/india-3-m...</td>\n",
       "    </tr>\n",
       "    <tr>\n",
       "      <th>1</th>\n",
       "      <td>India 6M</td>\n",
       "      <td>https://in.investing.com/rates-bonds/india-6-m...</td>\n",
       "    </tr>\n",
       "    <tr>\n",
       "      <th>2</th>\n",
       "      <td>India 1Y</td>\n",
       "      <td>https://in.investing.com/rates-bonds/india-1-y...</td>\n",
       "    </tr>\n",
       "    <tr>\n",
       "      <th>3</th>\n",
       "      <td>India 5Y</td>\n",
       "      <td>https://in.investing.com/rates-bonds/india-5-y...</td>\n",
       "    </tr>\n",
       "    <tr>\n",
       "      <th>4</th>\n",
       "      <td>India 10Y</td>\n",
       "      <td>https://in.investing.com/rates-bonds/india-10-...</td>\n",
       "    </tr>\n",
       "  </tbody>\n",
       "</table>\n",
       "</div>"
      ],
      "text/plain": [
       "        Name                                                URL\n",
       "0   India 3M  https://in.investing.com/rates-bonds/india-3-m...\n",
       "1   India 6M  https://in.investing.com/rates-bonds/india-6-m...\n",
       "2   India 1Y  https://in.investing.com/rates-bonds/india-1-y...\n",
       "3   India 5Y  https://in.investing.com/rates-bonds/india-5-y...\n",
       "4  India 10Y  https://in.investing.com/rates-bonds/india-10-..."
      ]
     },
     "execution_count": 77,
     "metadata": {},
     "output_type": "execute_result"
    }
   ],
   "source": [
    "indian_bonds = pd.read_csv(\"Data/Ticker_Data/indian_bonds.csv\")\n",
    "indian_bonds.head()"
   ]
  },
  {
   "cell_type": "code",
   "execution_count": 79,
   "metadata": {},
   "outputs": [
    {
     "data": {
      "text/plain": [
       "9"
      ]
     },
     "execution_count": 79,
     "metadata": {},
     "output_type": "execute_result"
    }
   ],
   "source": [
    "urls = indian_bonds[\"URL\"].values\n",
    "names = indian_bonds[\"Name\"].values\n",
    "len(urls)"
   ]
  },
  {
   "cell_type": "code",
   "execution_count": 146,
   "metadata": {},
   "outputs": [],
   "source": [
    "def set_date(date):\n",
    "    date_btn = driver.find_element(By.ID, \"widgetFieldDateRange\")\n",
    "    date_btn.click()\n",
    "    print(\"Setting Date to\", date)\n",
    "    start_date = driver.find_element(By.ID, \"startDate\")\n",
    "    for _ in range(len(date)):\n",
    "        start_date.send_keys(Keys.BACK_SPACE)\n",
    "    start_date.send_keys(date)\n",
    "    apply_btn = driver.find_element(By.ID, \"applyBtn\")\n",
    "    apply_btn.click()\n",
    "\n",
    "def find_table():\n",
    "    print(\"Finding Table\")\n",
    "    table = driver.find_element(By.TAG_NAME, \"table\")\n",
    "    table = table.get_attribute(\"innerHTML\")\n",
    "    table = \"<table>\"+table+\"</table>\"\n",
    "    table = pd.read_html(table)[0]\n",
    "    table[\"Date\"] = pd.to_datetime(table[\"Date\"])\n",
    "    return table"
   ]
  },
  {
   "cell_type": "code",
   "execution_count": 169,
   "metadata": {},
   "outputs": [],
   "source": [
    "def get_table(url):\n",
    "    driver.get(url)\n",
    "    set_date(\"1990\")\n",
    "\n",
    "    time.sleep(3)\n",
    "\n",
    "    table = find_table()\n",
    "    \n",
    "    last = table[\"Date\"][0] + datetime.timedelta(1)\n",
    "    last = last.strftime(\"%d-%m-%Y\")\n",
    "    if last==TODAY:\n",
    "        return table\n",
    "        \n",
    "    set_date(last)\n",
    "    time.sleep(3)\n",
    "    \n",
    "    table_2 = find_table()\n",
    "    table = pd.concat([table_2, table])\n",
    "    return table\n",
    "\n",
    "    "
   ]
  },
  {
   "cell_type": "code",
   "execution_count": 148,
   "metadata": {},
   "outputs": [
    {
     "name": "stdout",
     "output_type": "stream",
     "text": [
      "Setting Date to 1990\n",
      "Finding Table\n",
      "Setting Date to 16-03-2021\n",
      "Finding Table\n"
     ]
    }
   ],
   "source": [
    "table = get_table(urls[0])"
   ]
  },
  {
   "cell_type": "code",
   "execution_count": 149,
   "metadata": {},
   "outputs": [
    {
     "data": {
      "text/html": [
       "<div>\n",
       "<style scoped>\n",
       "    .dataframe tbody tr th:only-of-type {\n",
       "        vertical-align: middle;\n",
       "    }\n",
       "\n",
       "    .dataframe tbody tr th {\n",
       "        vertical-align: top;\n",
       "    }\n",
       "\n",
       "    .dataframe thead th {\n",
       "        text-align: right;\n",
       "    }\n",
       "</style>\n",
       "<table border=\"1\" class=\"dataframe\">\n",
       "  <thead>\n",
       "    <tr style=\"text-align: right;\">\n",
       "      <th></th>\n",
       "      <th>Date</th>\n",
       "      <th>Price</th>\n",
       "      <th>Open</th>\n",
       "      <th>High</th>\n",
       "      <th>Low</th>\n",
       "      <th>Change %</th>\n",
       "    </tr>\n",
       "  </thead>\n",
       "  <tbody>\n",
       "    <tr>\n",
       "      <th>0</th>\n",
       "      <td>2022-12-27</td>\n",
       "      <td>6.37</td>\n",
       "      <td>6.38</td>\n",
       "      <td>6.38</td>\n",
       "      <td>6.37</td>\n",
       "      <td>0.00%</td>\n",
       "    </tr>\n",
       "    <tr>\n",
       "      <th>1</th>\n",
       "      <td>2022-12-26</td>\n",
       "      <td>6.37</td>\n",
       "      <td>6.38</td>\n",
       "      <td>6.40</td>\n",
       "      <td>6.37</td>\n",
       "      <td>-0.31%</td>\n",
       "    </tr>\n",
       "    <tr>\n",
       "      <th>2</th>\n",
       "      <td>2022-12-23</td>\n",
       "      <td>6.39</td>\n",
       "      <td>6.39</td>\n",
       "      <td>6.40</td>\n",
       "      <td>6.37</td>\n",
       "      <td>0.16%</td>\n",
       "    </tr>\n",
       "    <tr>\n",
       "      <th>3</th>\n",
       "      <td>2022-12-22</td>\n",
       "      <td>6.38</td>\n",
       "      <td>6.43</td>\n",
       "      <td>6.43</td>\n",
       "      <td>6.37</td>\n",
       "      <td>-1.24%</td>\n",
       "    </tr>\n",
       "    <tr>\n",
       "      <th>4</th>\n",
       "      <td>2022-12-21</td>\n",
       "      <td>6.46</td>\n",
       "      <td>6.45</td>\n",
       "      <td>6.46</td>\n",
       "      <td>6.44</td>\n",
       "      <td>0.47%</td>\n",
       "    </tr>\n",
       "    <tr>\n",
       "      <th>...</th>\n",
       "      <td>...</td>\n",
       "      <td>...</td>\n",
       "      <td>...</td>\n",
       "      <td>...</td>\n",
       "      <td>...</td>\n",
       "      <td>...</td>\n",
       "    </tr>\n",
       "    <tr>\n",
       "      <th>4994</th>\n",
       "      <td>2002-01-30</td>\n",
       "      <td>6.58</td>\n",
       "      <td>6.58</td>\n",
       "      <td>6.58</td>\n",
       "      <td>6.58</td>\n",
       "      <td>0.30%</td>\n",
       "    </tr>\n",
       "    <tr>\n",
       "      <th>4995</th>\n",
       "      <td>2002-01-29</td>\n",
       "      <td>6.56</td>\n",
       "      <td>6.56</td>\n",
       "      <td>6.56</td>\n",
       "      <td>6.56</td>\n",
       "      <td>-0.15%</td>\n",
       "    </tr>\n",
       "    <tr>\n",
       "      <th>4996</th>\n",
       "      <td>2002-01-28</td>\n",
       "      <td>6.57</td>\n",
       "      <td>6.57</td>\n",
       "      <td>6.57</td>\n",
       "      <td>6.57</td>\n",
       "      <td>-0.45%</td>\n",
       "    </tr>\n",
       "    <tr>\n",
       "      <th>4997</th>\n",
       "      <td>2002-01-25</td>\n",
       "      <td>6.60</td>\n",
       "      <td>6.60</td>\n",
       "      <td>6.60</td>\n",
       "      <td>6.60</td>\n",
       "      <td>0.00%</td>\n",
       "    </tr>\n",
       "    <tr>\n",
       "      <th>4998</th>\n",
       "      <td>2002-01-24</td>\n",
       "      <td>6.60</td>\n",
       "      <td>6.60</td>\n",
       "      <td>6.60</td>\n",
       "      <td>6.60</td>\n",
       "      <td>-0.90%</td>\n",
       "    </tr>\n",
       "  </tbody>\n",
       "</table>\n",
       "<p>5431 rows × 6 columns</p>\n",
       "</div>"
      ],
      "text/plain": [
       "           Date  Price  Open  High   Low Change %\n",
       "0    2022-12-27   6.37  6.38  6.38  6.37    0.00%\n",
       "1    2022-12-26   6.37  6.38  6.40  6.37   -0.31%\n",
       "2    2022-12-23   6.39  6.39  6.40  6.37    0.16%\n",
       "3    2022-12-22   6.38  6.43  6.43  6.37   -1.24%\n",
       "4    2022-12-21   6.46  6.45  6.46  6.44    0.47%\n",
       "...         ...    ...   ...   ...   ...      ...\n",
       "4994 2002-01-30   6.58  6.58  6.58  6.58    0.30%\n",
       "4995 2002-01-29   6.56  6.56  6.56  6.56   -0.15%\n",
       "4996 2002-01-28   6.57  6.57  6.57  6.57   -0.45%\n",
       "4997 2002-01-25   6.60  6.60  6.60  6.60    0.00%\n",
       "4998 2002-01-24   6.60  6.60  6.60  6.60   -0.90%\n",
       "\n",
       "[5431 rows x 6 columns]"
      ]
     },
     "execution_count": 149,
     "metadata": {},
     "output_type": "execute_result"
    }
   ],
   "source": [
    "table"
   ]
  },
  {
   "cell_type": "code",
   "execution_count": 159,
   "metadata": {},
   "outputs": [],
   "source": [
    "bonds = {\n",
    "    names[0]:table\n",
    "}"
   ]
  },
  {
   "cell_type": "code",
   "execution_count": 172,
   "metadata": {},
   "outputs": [
    {
     "name": "stdout",
     "output_type": "stream",
     "text": [
      "India 30Y\n",
      "Setting Date to 1990\n",
      "Finding Table\n",
      "Setting Date to 28-12-2022\n",
      "Finding Table\n"
     ]
    }
   ],
   "source": [
    "for i in range(1, len(names)):\n",
    "    url = urls[i]\n",
    "    print(names[i])\n",
    "    table = get_table(url)\n",
    "    clear_output(wait=True)\n",
    "    bonds[names[i]] = table"
   ]
  },
  {
   "cell_type": "code",
   "execution_count": 177,
   "metadata": {},
   "outputs": [],
   "source": [
    "for key, value in bonds.items():\n",
    "    values = value[::-1]\n",
    "    values[\"Date\"] = pd.to_datetime(values[\"Date\"])\n",
    "    values.columns = [\"Date\", \"Close\", \"Open\", \"High\", \"Low\", \"Change\"]\n",
    "    values = values[[\"Date\", \"Open\", \"High\", \"Low\", \"Close\"]]\n",
    "    value.to_csv(\"Data/Bonds/Indian/\"+key.split(\" \")[-1]+\".csv\", index=False)"
   ]
  },
  {
   "attachments": {},
   "cell_type": "markdown",
   "metadata": {},
   "source": [
    "# Currency"
   ]
  },
  {
   "attachments": {},
   "cell_type": "markdown",
   "metadata": {},
   "source": [
    "## Download Currency Data"
   ]
  },
  {
   "cell_type": "code",
   "execution_count": 37,
   "metadata": {},
   "outputs": [
    {
     "data": {
      "text/html": [
       "<div>\n",
       "<style scoped>\n",
       "    .dataframe tbody tr th:only-of-type {\n",
       "        vertical-align: middle;\n",
       "    }\n",
       "\n",
       "    .dataframe tbody tr th {\n",
       "        vertical-align: top;\n",
       "    }\n",
       "\n",
       "    .dataframe thead th {\n",
       "        text-align: right;\n",
       "    }\n",
       "</style>\n",
       "<table border=\"1\" class=\"dataframe\">\n",
       "  <thead>\n",
       "    <tr style=\"text-align: right;\">\n",
       "      <th></th>\n",
       "      <th>Symbol</th>\n",
       "      <th>Name</th>\n",
       "    </tr>\n",
       "  </thead>\n",
       "  <tbody>\n",
       "    <tr>\n",
       "      <th>0</th>\n",
       "      <td>EURUSD=X</td>\n",
       "      <td>EUR/USD</td>\n",
       "    </tr>\n",
       "    <tr>\n",
       "      <th>1</th>\n",
       "      <td>JPY=X</td>\n",
       "      <td>USD/JPY</td>\n",
       "    </tr>\n",
       "    <tr>\n",
       "      <th>2</th>\n",
       "      <td>GBPUSD=X</td>\n",
       "      <td>GBP/USD</td>\n",
       "    </tr>\n",
       "    <tr>\n",
       "      <th>3</th>\n",
       "      <td>AUDUSD=X</td>\n",
       "      <td>AUD/USD</td>\n",
       "    </tr>\n",
       "    <tr>\n",
       "      <th>4</th>\n",
       "      <td>NZDUSD=X</td>\n",
       "      <td>NZD/USD</td>\n",
       "    </tr>\n",
       "  </tbody>\n",
       "</table>\n",
       "</div>"
      ],
      "text/plain": [
       "     Symbol     Name\n",
       "0  EURUSD=X  EUR/USD\n",
       "1     JPY=X  USD/JPY\n",
       "2  GBPUSD=X  GBP/USD\n",
       "3  AUDUSD=X  AUD/USD\n",
       "4  NZDUSD=X  NZD/USD"
      ]
     },
     "execution_count": 37,
     "metadata": {},
     "output_type": "execute_result"
    }
   ],
   "source": [
    "currency = pd.read_csv(\"Data/Ticker_Data/currency.csv\")\n",
    "currency.head()"
   ]
  },
  {
   "cell_type": "code",
   "execution_count": 38,
   "metadata": {},
   "outputs": [
    {
     "data": {
      "text/plain": [
       "28"
      ]
     },
     "execution_count": 38,
     "metadata": {},
     "output_type": "execute_result"
    }
   ],
   "source": [
    "symbols = currency[\"Symbol\"].values\n",
    "names = currency[\"Name\"].values\n",
    "len(currency)"
   ]
  },
  {
   "cell_type": "code",
   "execution_count": 39,
   "metadata": {},
   "outputs": [
    {
     "name": "stdout",
     "output_type": "stream",
     "text": [
      "[*********************100%***********************]  26 of 26 completed\n"
     ]
    }
   ],
   "source": [
    "data = yf.download(list(symbols), period=\"max\", interval=\"1d\", group_by=\"ticker\", threads = True, auto_adjust = True)"
   ]
  },
  {
   "cell_type": "code",
   "execution_count": 40,
   "metadata": {},
   "outputs": [],
   "source": [
    "def clean_data(ticker):\n",
    "    index = data[ticker]\n",
    "    index = index.dropna()\n",
    "    index = index.reset_index()\n",
    "    return index"
   ]
  },
  {
   "cell_type": "code",
   "execution_count": 41,
   "metadata": {},
   "outputs": [],
   "source": [
    "data_dict = (dict(zip(symbols, map(clean_data, symbols))))"
   ]
  },
  {
   "cell_type": "code",
   "execution_count": 42,
   "metadata": {},
   "outputs": [
    {
     "name": "stderr",
     "output_type": "stream",
     "text": [
      "100%|██████████| 28/28 [00:00<00:00, 70577.23it/s]\n"
     ]
    }
   ],
   "source": [
    "failed_indices = []\n",
    "for i in tqdm(range(len(symbols))):\n",
    "    if data_dict[symbols[i]].empty:\n",
    "        failed_indices.append(symbols[i])"
   ]
  },
  {
   "cell_type": "code",
   "execution_count": 43,
   "metadata": {},
   "outputs": [],
   "source": [
    "if failed_indices:\n",
    "    data_retry = yf.download(failed_indices, period=\"max\", interval=\"1d\", group_by=\"ticker\", threads = True, auto_adjust = True)"
   ]
  },
  {
   "cell_type": "code",
   "execution_count": 44,
   "metadata": {},
   "outputs": [],
   "source": [
    "def clean_data_retry(ticker):\n",
    "    index = data_retry[ticker]\n",
    "    index = index.dropna()\n",
    "    index = index.reset_index()\n",
    "    return index"
   ]
  },
  {
   "cell_type": "code",
   "execution_count": 45,
   "metadata": {},
   "outputs": [],
   "source": [
    "data_dict_retry = (dict(zip(failed_indices, map(clean_data_retry, failed_indices))))"
   ]
  },
  {
   "cell_type": "code",
   "execution_count": 48,
   "metadata": {},
   "outputs": [
    {
     "name": "stderr",
     "output_type": "stream",
     "text": [
      "Saving Data: 100%|██████████| 26/26 [00:01<00:00, 16.41it/s]\n"
     ]
    }
   ],
   "source": [
    "for key in data_dict_retry.keys():\n",
    "    data_dict[key] = data_dict_retry[key]\n",
    "\n",
    "for key in tqdm(data_dict.keys(), desc=\"Saving Data\"):\n",
    "    file_name = \"Data/Currency/\" + key.replace(\"^\", \"\") + \".csv\"\n",
    "    data_dict[key].to_csv(file_name, index=False)"
   ]
  },
  {
   "attachments": {},
   "cell_type": "markdown",
   "metadata": {},
   "source": [
    "# Crypto"
   ]
  },
  {
   "attachments": {},
   "cell_type": "markdown",
   "metadata": {},
   "source": [
    "## Download Crypto Data"
   ]
  },
  {
   "cell_type": "code",
   "execution_count": 66,
   "metadata": {},
   "outputs": [
    {
     "data": {
      "text/html": [
       "<div>\n",
       "<style scoped>\n",
       "    .dataframe tbody tr th:only-of-type {\n",
       "        vertical-align: middle;\n",
       "    }\n",
       "\n",
       "    .dataframe tbody tr th {\n",
       "        vertical-align: top;\n",
       "    }\n",
       "\n",
       "    .dataframe thead th {\n",
       "        text-align: right;\n",
       "    }\n",
       "</style>\n",
       "<table border=\"1\" class=\"dataframe\">\n",
       "  <thead>\n",
       "    <tr style=\"text-align: right;\">\n",
       "      <th></th>\n",
       "      <th>Symbol</th>\n",
       "      <th>Name</th>\n",
       "    </tr>\n",
       "  </thead>\n",
       "  <tbody>\n",
       "    <tr>\n",
       "      <th>0</th>\n",
       "      <td>BTC-USD</td>\n",
       "      <td>Bitcoin USD</td>\n",
       "    </tr>\n",
       "    <tr>\n",
       "      <th>1</th>\n",
       "      <td>ETH-USD</td>\n",
       "      <td>Ethereum USD</td>\n",
       "    </tr>\n",
       "    <tr>\n",
       "      <th>2</th>\n",
       "      <td>USDT-USD</td>\n",
       "      <td>Tether USD</td>\n",
       "    </tr>\n",
       "    <tr>\n",
       "      <th>3</th>\n",
       "      <td>USDC-USD</td>\n",
       "      <td>USD Coin USD</td>\n",
       "    </tr>\n",
       "    <tr>\n",
       "      <th>4</th>\n",
       "      <td>BNB-USD</td>\n",
       "      <td>BNB USD</td>\n",
       "    </tr>\n",
       "  </tbody>\n",
       "</table>\n",
       "</div>"
      ],
      "text/plain": [
       "     Symbol          Name\n",
       "0   BTC-USD   Bitcoin USD\n",
       "1   ETH-USD  Ethereum USD\n",
       "2  USDT-USD    Tether USD\n",
       "3  USDC-USD  USD Coin USD\n",
       "4   BNB-USD       BNB USD"
      ]
     },
     "execution_count": 66,
     "metadata": {},
     "output_type": "execute_result"
    }
   ],
   "source": [
    "crypto = pd.read_csv(\"Data/Ticker_Data/crypto.csv\")\n",
    "crypto.head()"
   ]
  },
  {
   "cell_type": "code",
   "execution_count": 67,
   "metadata": {},
   "outputs": [
    {
     "data": {
      "text/plain": [
       "20"
      ]
     },
     "execution_count": 67,
     "metadata": {},
     "output_type": "execute_result"
    }
   ],
   "source": [
    "symbols = crypto[\"Symbol\"].values\n",
    "names = crypto[\"Name\"].values\n",
    "len(symbols)"
   ]
  },
  {
   "cell_type": "code",
   "execution_count": 68,
   "metadata": {},
   "outputs": [
    {
     "name": "stdout",
     "output_type": "stream",
     "text": [
      "[*********************100%***********************]  20 of 20 completed\n"
     ]
    }
   ],
   "source": [
    "data = yf.download(list(symbols), period=\"max\", interval=\"1d\", group_by=\"ticker\", threads = True, auto_adjust = True)"
   ]
  },
  {
   "cell_type": "code",
   "execution_count": 69,
   "metadata": {},
   "outputs": [],
   "source": [
    "def clean_data(ticker):\n",
    "    index = data[ticker]\n",
    "    index = index.dropna()\n",
    "    index = index.reset_index()\n",
    "    return index"
   ]
  },
  {
   "cell_type": "code",
   "execution_count": 70,
   "metadata": {},
   "outputs": [],
   "source": [
    "data_dict = (dict(zip(symbols, map(clean_data, symbols))))"
   ]
  },
  {
   "cell_type": "code",
   "execution_count": 71,
   "metadata": {},
   "outputs": [
    {
     "name": "stderr",
     "output_type": "stream",
     "text": [
      "100%|██████████| 20/20 [00:00<00:00, 57972.41it/s]\n"
     ]
    }
   ],
   "source": [
    "failed_indices = []\n",
    "for i in tqdm(range(len(symbols))):\n",
    "    if data_dict[symbols[i]].empty:\n",
    "        failed_indices.append(symbols[i])"
   ]
  },
  {
   "cell_type": "code",
   "execution_count": 72,
   "metadata": {},
   "outputs": [],
   "source": [
    "if failed_indices:\n",
    "    data_retry = yf.download(failed_indices, period=\"max\", interval=\"1d\", group_by=\"ticker\", threads = True, auto_adjust = True)"
   ]
  },
  {
   "cell_type": "code",
   "execution_count": 73,
   "metadata": {},
   "outputs": [],
   "source": [
    "def clean_data_retry(ticker):\n",
    "    index = data_retry[ticker]\n",
    "    index = index.dropna()\n",
    "    index = index.reset_index()\n",
    "    return index"
   ]
  },
  {
   "cell_type": "code",
   "execution_count": 74,
   "metadata": {},
   "outputs": [],
   "source": [
    "data_dict_retry = (dict(zip(failed_indices, map(clean_data_retry, failed_indices))))"
   ]
  },
  {
   "cell_type": "code",
   "execution_count": 75,
   "metadata": {},
   "outputs": [
    {
     "name": "stderr",
     "output_type": "stream",
     "text": [
      "Saving Data: 100%|██████████| 20/20 [00:00<00:00, 69.21it/s]\n"
     ]
    }
   ],
   "source": [
    "for key in data_dict_retry.keys():\n",
    "    data_dict[key] = data_dict_retry[key]\n",
    "\n",
    "for key in tqdm(data_dict.keys(), desc=\"Saving Data\"):\n",
    "    file_name = \"Data/Crypto/\" + key.replace(\"^\", \"\") + \".csv\"\n",
    "    data_dict[key].to_csv(file_name, index=False)"
   ]
  },
  {
   "attachments": {},
   "cell_type": "markdown",
   "metadata": {},
   "source": [
    "# Other"
   ]
  },
  {
   "cell_type": "code",
   "execution_count": 3,
   "metadata": {},
   "outputs": [
    {
     "name": "stdout",
     "output_type": "stream",
     "text": [
      "[*********************100%***********************]  3 of 3 completed\n"
     ]
    }
   ],
   "source": [
    "data = yf.download(  # or pdr.get_data_yahoo(...\n",
    "        # tickers list or string as well\n",
    "        tickers = \"SPY AAPL MSFT\",\n",
    "\n",
    "        # use \"period\" instead of start/end\n",
    "        # valid periods: 1d,5d,1mo,3mo,6mo,1y,2y,5y,10y,ytd,max\n",
    "        # (optional, default is '1mo')\n",
    "        period = \"max\",\n",
    "\n",
    "        # fetch data by interval (including intraday if period < 60 days)\n",
    "        # valid intervals: 1m,2m,5m,15m,30m,60m,90m,1h,1d,5d,1wk,1mo,3mo\n",
    "        # (optional, default is '1d')\n",
    "        interval = \"1d\",\n",
    "\n",
    "        # Whether to ignore timezone when aligning ticker data from \n",
    "        # different timezones. Default is True. False may be useful for \n",
    "        # minute/hourly data.\n",
    "        ignore_tz = False,\n",
    "\n",
    "        # group by ticker (to access via data['SPY'])\n",
    "        # (optional, default is 'column')\n",
    "        group_by = 'ticker',\n",
    "\n",
    "        # adjust all OHLC automatically\n",
    "        # (optional, default is False)\n",
    "        auto_adjust = True,\n",
    "\n",
    "        # attempt repair of missing data or currency mixups e.g. $/cents\n",
    "        repair = False,\n",
    "\n",
    "        # use threads for mass downloading? (True/False/Integer)\n",
    "        # (optional, default is True)\n",
    "        threads = True,\n",
    "    )"
   ]
  },
  {
   "cell_type": "code",
   "execution_count": 4,
   "metadata": {},
   "outputs": [
    {
     "data": {
      "text/html": [
       "<div>\n",
       "<style scoped>\n",
       "    .dataframe tbody tr th:only-of-type {\n",
       "        vertical-align: middle;\n",
       "    }\n",
       "\n",
       "    .dataframe tbody tr th {\n",
       "        vertical-align: top;\n",
       "    }\n",
       "\n",
       "    .dataframe thead th {\n",
       "        text-align: right;\n",
       "    }\n",
       "</style>\n",
       "<table border=\"1\" class=\"dataframe\">\n",
       "  <thead>\n",
       "    <tr style=\"text-align: right;\">\n",
       "      <th></th>\n",
       "      <th>Open</th>\n",
       "      <th>High</th>\n",
       "      <th>Low</th>\n",
       "      <th>Close</th>\n",
       "      <th>Volume</th>\n",
       "    </tr>\n",
       "    <tr>\n",
       "      <th>Date</th>\n",
       "      <th></th>\n",
       "      <th></th>\n",
       "      <th></th>\n",
       "      <th></th>\n",
       "      <th></th>\n",
       "    </tr>\n",
       "  </thead>\n",
       "  <tbody>\n",
       "    <tr>\n",
       "      <th>1980-12-12 00:00:00-05:00</th>\n",
       "      <td>0.099874</td>\n",
       "      <td>0.100308</td>\n",
       "      <td>0.099874</td>\n",
       "      <td>0.099874</td>\n",
       "      <td>469033600</td>\n",
       "    </tr>\n",
       "    <tr>\n",
       "      <th>1980-12-15 00:00:00-05:00</th>\n",
       "      <td>0.095098</td>\n",
       "      <td>0.095098</td>\n",
       "      <td>0.094663</td>\n",
       "      <td>0.094663</td>\n",
       "      <td>175884800</td>\n",
       "    </tr>\n",
       "    <tr>\n",
       "      <th>1980-12-16 00:00:00-05:00</th>\n",
       "      <td>0.088149</td>\n",
       "      <td>0.088149</td>\n",
       "      <td>0.087715</td>\n",
       "      <td>0.087715</td>\n",
       "      <td>105728000</td>\n",
       "    </tr>\n",
       "    <tr>\n",
       "      <th>1980-12-17 00:00:00-05:00</th>\n",
       "      <td>0.089886</td>\n",
       "      <td>0.090320</td>\n",
       "      <td>0.089886</td>\n",
       "      <td>0.089886</td>\n",
       "      <td>86441600</td>\n",
       "    </tr>\n",
       "    <tr>\n",
       "      <th>1980-12-18 00:00:00-05:00</th>\n",
       "      <td>0.092492</td>\n",
       "      <td>0.092927</td>\n",
       "      <td>0.092492</td>\n",
       "      <td>0.092492</td>\n",
       "      <td>73449600</td>\n",
       "    </tr>\n",
       "    <tr>\n",
       "      <th>...</th>\n",
       "      <td>...</td>\n",
       "      <td>...</td>\n",
       "      <td>...</td>\n",
       "      <td>...</td>\n",
       "      <td>...</td>\n",
       "    </tr>\n",
       "    <tr>\n",
       "      <th>2022-12-16 00:00:00-05:00</th>\n",
       "      <td>136.690002</td>\n",
       "      <td>137.649994</td>\n",
       "      <td>133.729996</td>\n",
       "      <td>134.509995</td>\n",
       "      <td>160080100</td>\n",
       "    </tr>\n",
       "    <tr>\n",
       "      <th>2022-12-19 00:00:00-05:00</th>\n",
       "      <td>135.110001</td>\n",
       "      <td>135.199997</td>\n",
       "      <td>131.320007</td>\n",
       "      <td>132.369995</td>\n",
       "      <td>79592600</td>\n",
       "    </tr>\n",
       "    <tr>\n",
       "      <th>2022-12-20 00:00:00-05:00</th>\n",
       "      <td>131.389999</td>\n",
       "      <td>133.250000</td>\n",
       "      <td>129.889999</td>\n",
       "      <td>132.300003</td>\n",
       "      <td>77432800</td>\n",
       "    </tr>\n",
       "    <tr>\n",
       "      <th>2022-12-21 00:00:00-05:00</th>\n",
       "      <td>132.979996</td>\n",
       "      <td>136.809998</td>\n",
       "      <td>132.750000</td>\n",
       "      <td>135.449997</td>\n",
       "      <td>85928000</td>\n",
       "    </tr>\n",
       "    <tr>\n",
       "      <th>2022-12-22 00:00:00-05:00</th>\n",
       "      <td>134.350006</td>\n",
       "      <td>134.559998</td>\n",
       "      <td>130.300003</td>\n",
       "      <td>132.229996</td>\n",
       "      <td>77714600</td>\n",
       "    </tr>\n",
       "  </tbody>\n",
       "</table>\n",
       "<p>10598 rows × 5 columns</p>\n",
       "</div>"
      ],
      "text/plain": [
       "                                 Open        High         Low       Close  \\\n",
       "Date                                                                        \n",
       "1980-12-12 00:00:00-05:00    0.099874    0.100308    0.099874    0.099874   \n",
       "1980-12-15 00:00:00-05:00    0.095098    0.095098    0.094663    0.094663   \n",
       "1980-12-16 00:00:00-05:00    0.088149    0.088149    0.087715    0.087715   \n",
       "1980-12-17 00:00:00-05:00    0.089886    0.090320    0.089886    0.089886   \n",
       "1980-12-18 00:00:00-05:00    0.092492    0.092927    0.092492    0.092492   \n",
       "...                               ...         ...         ...         ...   \n",
       "2022-12-16 00:00:00-05:00  136.690002  137.649994  133.729996  134.509995   \n",
       "2022-12-19 00:00:00-05:00  135.110001  135.199997  131.320007  132.369995   \n",
       "2022-12-20 00:00:00-05:00  131.389999  133.250000  129.889999  132.300003   \n",
       "2022-12-21 00:00:00-05:00  132.979996  136.809998  132.750000  135.449997   \n",
       "2022-12-22 00:00:00-05:00  134.350006  134.559998  130.300003  132.229996   \n",
       "\n",
       "                              Volume  \n",
       "Date                                  \n",
       "1980-12-12 00:00:00-05:00  469033600  \n",
       "1980-12-15 00:00:00-05:00  175884800  \n",
       "1980-12-16 00:00:00-05:00  105728000  \n",
       "1980-12-17 00:00:00-05:00   86441600  \n",
       "1980-12-18 00:00:00-05:00   73449600  \n",
       "...                              ...  \n",
       "2022-12-16 00:00:00-05:00  160080100  \n",
       "2022-12-19 00:00:00-05:00   79592600  \n",
       "2022-12-20 00:00:00-05:00   77432800  \n",
       "2022-12-21 00:00:00-05:00   85928000  \n",
       "2022-12-22 00:00:00-05:00   77714600  \n",
       "\n",
       "[10598 rows x 5 columns]"
      ]
     },
     "execution_count": 4,
     "metadata": {},
     "output_type": "execute_result"
    }
   ],
   "source": [
    "data[\"AAPL\"]"
   ]
  },
  {
   "cell_type": "code",
   "execution_count": 6,
   "metadata": {},
   "outputs": [],
   "source": [
    "apple = data[\"AAPL\"]\n",
    "apple = apple.dropna()\n",
    "apple = apple.reset_index()\n",
    "apple.to_csv(\"Data/Stocks/nasdaq200/AAPL.csv\", index=False)"
   ]
  },
  {
   "cell_type": "code",
   "execution_count": 7,
   "metadata": {},
   "outputs": [],
   "source": [
    "aapl = yf.Ticker(\"AAPL\")"
   ]
  },
  {
   "cell_type": "code",
   "execution_count": 14,
   "metadata": {},
   "outputs": [
    {
     "name": "stdout",
     "output_type": "stream",
     "text": [
      "[*********************100%***********************]  1 of 1 completed\n"
     ]
    }
   ],
   "source": [
    "nifty = yf.download(\"^NSEI\", period=\"ytd\", interval=\"1d\")"
   ]
  },
  {
   "cell_type": "code",
   "execution_count": 15,
   "metadata": {},
   "outputs": [
    {
     "data": {
      "text/html": [
       "<div>\n",
       "<style scoped>\n",
       "    .dataframe tbody tr th:only-of-type {\n",
       "        vertical-align: middle;\n",
       "    }\n",
       "\n",
       "    .dataframe tbody tr th {\n",
       "        vertical-align: top;\n",
       "    }\n",
       "\n",
       "    .dataframe thead th {\n",
       "        text-align: right;\n",
       "    }\n",
       "</style>\n",
       "<table border=\"1\" class=\"dataframe\">\n",
       "  <thead>\n",
       "    <tr style=\"text-align: right;\">\n",
       "      <th></th>\n",
       "      <th>Open</th>\n",
       "      <th>High</th>\n",
       "      <th>Low</th>\n",
       "      <th>Close</th>\n",
       "      <th>Adj Close</th>\n",
       "      <th>Volume</th>\n",
       "    </tr>\n",
       "    <tr>\n",
       "      <th>Date</th>\n",
       "      <th></th>\n",
       "      <th></th>\n",
       "      <th></th>\n",
       "      <th></th>\n",
       "      <th></th>\n",
       "      <th></th>\n",
       "    </tr>\n",
       "  </thead>\n",
       "  <tbody>\n",
       "    <tr>\n",
       "      <th>2022-01-03</th>\n",
       "      <td>17387.150391</td>\n",
       "      <td>17646.650391</td>\n",
       "      <td>17383.300781</td>\n",
       "      <td>17625.699219</td>\n",
       "      <td>17625.699219</td>\n",
       "      <td>200500</td>\n",
       "    </tr>\n",
       "    <tr>\n",
       "      <th>2022-01-04</th>\n",
       "      <td>17681.400391</td>\n",
       "      <td>17827.599609</td>\n",
       "      <td>17593.550781</td>\n",
       "      <td>17805.250000</td>\n",
       "      <td>17805.250000</td>\n",
       "      <td>247400</td>\n",
       "    </tr>\n",
       "    <tr>\n",
       "      <th>2022-01-05</th>\n",
       "      <td>17820.099609</td>\n",
       "      <td>17944.699219</td>\n",
       "      <td>17748.849609</td>\n",
       "      <td>17925.250000</td>\n",
       "      <td>17925.250000</td>\n",
       "      <td>251500</td>\n",
       "    </tr>\n",
       "    <tr>\n",
       "      <th>2022-01-06</th>\n",
       "      <td>17768.500000</td>\n",
       "      <td>17797.949219</td>\n",
       "      <td>17655.550781</td>\n",
       "      <td>17745.900391</td>\n",
       "      <td>17745.900391</td>\n",
       "      <td>236500</td>\n",
       "    </tr>\n",
       "    <tr>\n",
       "      <th>2022-01-07</th>\n",
       "      <td>17797.599609</td>\n",
       "      <td>17905.000000</td>\n",
       "      <td>17704.550781</td>\n",
       "      <td>17812.699219</td>\n",
       "      <td>17812.699219</td>\n",
       "      <td>239300</td>\n",
       "    </tr>\n",
       "    <tr>\n",
       "      <th>...</th>\n",
       "      <td>...</td>\n",
       "      <td>...</td>\n",
       "      <td>...</td>\n",
       "      <td>...</td>\n",
       "      <td>...</td>\n",
       "      <td>...</td>\n",
       "    </tr>\n",
       "    <tr>\n",
       "      <th>2022-12-19</th>\n",
       "      <td>18288.099609</td>\n",
       "      <td>18431.650391</td>\n",
       "      <td>18244.550781</td>\n",
       "      <td>18420.449219</td>\n",
       "      <td>18420.449219</td>\n",
       "      <td>154800</td>\n",
       "    </tr>\n",
       "    <tr>\n",
       "      <th>2022-12-20</th>\n",
       "      <td>18340.300781</td>\n",
       "      <td>18404.900391</td>\n",
       "      <td>18202.650391</td>\n",
       "      <td>18385.300781</td>\n",
       "      <td>18385.300781</td>\n",
       "      <td>169000</td>\n",
       "    </tr>\n",
       "    <tr>\n",
       "      <th>2022-12-21</th>\n",
       "      <td>18435.150391</td>\n",
       "      <td>18473.349609</td>\n",
       "      <td>18162.750000</td>\n",
       "      <td>18199.099609</td>\n",
       "      <td>18199.099609</td>\n",
       "      <td>187600</td>\n",
       "    </tr>\n",
       "    <tr>\n",
       "      <th>2022-12-22</th>\n",
       "      <td>18288.800781</td>\n",
       "      <td>18318.750000</td>\n",
       "      <td>18068.599609</td>\n",
       "      <td>18127.349609</td>\n",
       "      <td>18127.349609</td>\n",
       "      <td>195700</td>\n",
       "    </tr>\n",
       "    <tr>\n",
       "      <th>2022-12-23</th>\n",
       "      <td>17977.650391</td>\n",
       "      <td>18050.449219</td>\n",
       "      <td>17936.650391</td>\n",
       "      <td>17962.099609</td>\n",
       "      <td>17962.099609</td>\n",
       "      <td>0</td>\n",
       "    </tr>\n",
       "  </tbody>\n",
       "</table>\n",
       "<p>243 rows × 6 columns</p>\n",
       "</div>"
      ],
      "text/plain": [
       "                    Open          High           Low         Close  \\\n",
       "Date                                                                 \n",
       "2022-01-03  17387.150391  17646.650391  17383.300781  17625.699219   \n",
       "2022-01-04  17681.400391  17827.599609  17593.550781  17805.250000   \n",
       "2022-01-05  17820.099609  17944.699219  17748.849609  17925.250000   \n",
       "2022-01-06  17768.500000  17797.949219  17655.550781  17745.900391   \n",
       "2022-01-07  17797.599609  17905.000000  17704.550781  17812.699219   \n",
       "...                  ...           ...           ...           ...   \n",
       "2022-12-19  18288.099609  18431.650391  18244.550781  18420.449219   \n",
       "2022-12-20  18340.300781  18404.900391  18202.650391  18385.300781   \n",
       "2022-12-21  18435.150391  18473.349609  18162.750000  18199.099609   \n",
       "2022-12-22  18288.800781  18318.750000  18068.599609  18127.349609   \n",
       "2022-12-23  17977.650391  18050.449219  17936.650391  17962.099609   \n",
       "\n",
       "               Adj Close  Volume  \n",
       "Date                              \n",
       "2022-01-03  17625.699219  200500  \n",
       "2022-01-04  17805.250000  247400  \n",
       "2022-01-05  17925.250000  251500  \n",
       "2022-01-06  17745.900391  236500  \n",
       "2022-01-07  17812.699219  239300  \n",
       "...                  ...     ...  \n",
       "2022-12-19  18420.449219  154800  \n",
       "2022-12-20  18385.300781  169000  \n",
       "2022-12-21  18199.099609  187600  \n",
       "2022-12-22  18127.349609  195700  \n",
       "2022-12-23  17962.099609       0  \n",
       "\n",
       "[243 rows x 6 columns]"
      ]
     },
     "execution_count": 15,
     "metadata": {},
     "output_type": "execute_result"
    }
   ],
   "source": [
    "nifty"
   ]
  }
 ],
 "metadata": {
  "kernelspec": {
   "display_name": "data-science",
   "language": "python",
   "name": "python3"
  },
  "language_info": {
   "codemirror_mode": {
    "name": "ipython",
    "version": 3
   },
   "file_extension": ".py",
   "mimetype": "text/x-python",
   "name": "python",
   "nbconvert_exporter": "python",
   "pygments_lexer": "ipython3",
   "version": "3.9.15"
  },
  "orig_nbformat": 4,
  "vscode": {
   "interpreter": {
    "hash": "2efee1efa502125d01e6b4768ba06d9453d29f3642bfd14ad5d4a769de82e88c"
   }
  }
 },
 "nbformat": 4,
 "nbformat_minor": 2
}
