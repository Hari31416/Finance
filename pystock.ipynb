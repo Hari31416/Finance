{
 "cells": [
  {
   "cell_type": "code",
   "execution_count": 1,
   "metadata": {},
   "outputs": [],
   "source": [
    "import pystock"
   ]
  },
  {
   "cell_type": "code",
   "execution_count": 5,
   "metadata": {},
   "outputs": [],
   "source": [
    "from pystock.portfolio import Portfolio, Stock\n",
    "from pystock.models import Model\n",
    "from pystock.fff import FamaFrenchFactors"
   ]
  },
  {
   "cell_type": "code",
   "execution_count": 3,
   "metadata": {},
   "outputs": [],
   "source": [
    "benchmark_dir = \"Data/Indices/GSPC.csv\"\n",
    "benchmark_name = \"S&P\"\n",
    "\n",
    "benchmark = Stock(benchmark_name, benchmark_dir)"
   ]
  },
  {
   "cell_type": "code",
   "execution_count": 4,
   "metadata": {},
   "outputs": [
    {
     "data": {
      "text/plain": [
       "Stock(name=S&P)"
      ]
     },
     "execution_count": 4,
     "metadata": {},
     "output_type": "execute_result"
    }
   ],
   "source": [
    "benchmark"
   ]
  },
  {
   "cell_type": "code",
   "execution_count": 8,
   "metadata": {},
   "outputs": [],
   "source": [
    "benchmark_dir = \"Data/Indices/GSPC.csv\"\n",
    "benchmark_name = \"S&P\"\n",
    "\n",
    "stock_dirs = [\"Data/Stocks/nasdaq200/AAPL.csv\", \"Data/Stocks/nasdaq200/MSFT.csv\", \"Data/Stocks/nasdaq200/GOOG.csv\", \"Data/Stocks/nasdaq200/TSLA.csv\"]\n",
    "stock_names = [\"AAPL\", \"MSFT\", \"GOOG\", \"TSLA\"]\n",
    "\n",
    "frequency = \"M\"\n",
    "pt = Portfolio(benchmark_dir, benchmark_name, stock_dirs, stock_names)\n",
    "start_date = \"2012-01-01\"\n",
    "end_date = \"2022-12-20\"\n",
    "pt.load_benchmark(\n",
    "    columns=[\"Close\"],\n",
    "    rename_cols=[\"Close\"],\n",
    "    start_date=start_date,\n",
    "    end_date=end_date,\n",
    "    frequency=frequency,\n",
    ")\n",
    "pt.load_all(\n",
    "    columns=[\"Close\"],\n",
    "    rename_cols=[\"Close\"],\n",
    "    start_date=start_date,\n",
    "    end_date=end_date,\n",
    "    frequency=frequency,\n",
    ")"
   ]
  },
  {
   "cell_type": "code",
   "execution_count": 9,
   "metadata": {},
   "outputs": [
    {
     "name": "stdout",
     "output_type": "stream",
     "text": [
      "Adding portfolio...\n",
      "Portfolio Summary\n",
      "*****************\n",
      "\n",
      "Portfolio with benchmark S&P and stocks ['AAPL', 'MSFT', 'GOOG', 'TSLA']\n",
      "Here are the summary of stocks in the portfolio\n",
      "+----+---------+-----------------------+----------------------+------------+----------+----------+\n",
      "|    | Stock   |   Monthly_Mean_Return |   Monthly_Return_STD |      Alpha |     Beta |   Weight |\n",
      "|----+---------+-----------------------+----------------------+------------+----------+----------|\n",
      "|  0 | AAPL    |             0.0203446 |            0.0810776 | 0.008545   | 1.22705  |     0.25 |\n",
      "|  1 | MSFT    |             0.0202463 |            0.060776  | 0.010973   | 0.964346 |     0.25 |\n",
      "|  2 | GOOG    |             0.0171436 |            0.0645638 | 0.00711404 | 1.04298  |     0.25 |\n",
      "|  3 | TSLA    |             0.0502608 |            0.182803  | 0.0336704  | 1.72526  |     0.25 |\n",
      "+----+---------+-----------------------+----------------------+------------+----------+----------+\n",
      "The covariance matrix is as follows\n",
      "+------+------------+------------+------------+------------+\n",
      "|      |       AAPL |       MSFT |       GOOG |       TSLA |\n",
      "|------+------------+------------+------------+------------|\n",
      "| AAPL | 0.00657358 | 0.00251389 | 0.00215202 | 0.00564335 |\n",
      "| MSFT | 0.00251389 | 0.00369372 | 0.00230756 | 0.00399493 |\n",
      "| GOOG | 0.00215202 | 0.00230756 | 0.00416849 | 0.00347788 |\n",
      "| TSLA | 0.00564335 | 0.00399493 | 0.00347788 | 0.033417   |\n",
      "+------+------------+------------+------------+------------+\n",
      "Portfolio Return: 0.026998849927072723\n",
      "Portfolio Volatility: 0.15596883292724378\n"
     ]
    }
   ],
   "source": [
    "model = Model()\n",
    "model.add_portfolio(pt, weights=\"equal\")"
   ]
  },
  {
   "cell_type": "code",
   "execution_count": 10,
   "metadata": {},
   "outputs": [
    {
     "name": "stdout",
     "output_type": "stream",
     "text": [
      "Warning. FFF params have not been calculated. Using ff3 or ff5 model will result in error.\n"
     ]
    },
    {
     "data": {
      "text/plain": [
       "1.1042770561153143"
      ]
     },
     "execution_count": 10,
     "metadata": {},
     "output_type": "execute_result"
    }
   ],
   "source": [
    "exp_return = model.expected_return_of_stock(pt[\"AAPL\"], model=\"capm\")\n",
    "exp_return"
   ]
  },
  {
   "cell_type": "code",
   "execution_count": 12,
   "metadata": {},
   "outputs": [
    {
     "name": "stdout",
     "output_type": "stream",
     "text": [
      "Downloading Fama French Factors. This may take about 10 seconds.\n",
      "Download complete. File saved as fff_monthly_5_factors.csv\n",
      "Use load() to load the file as a pandas dataframe.\n"
     ]
    },
    {
     "data": {
      "text/plain": [
       "'fff_monthly_5_factors.csv'"
      ]
     },
     "execution_count": 12,
     "metadata": {},
     "output_type": "execute_result"
    }
   ],
   "source": [
    "benchmark.fff.download(\"M\", factors=5, directory=\".\")"
   ]
  },
  {
   "cell_type": "code",
   "execution_count": 13,
   "metadata": {},
   "outputs": [
    {
     "name": "stderr",
     "output_type": "stream",
     "text": [
      "/home/hari31416/anaconda3/lib/python3.9/site-packages/pystock/fff.py:266: SettingWithCopyWarning: \n",
      "A value is trying to be set on a copy of a slice from a DataFrame.\n",
      "Try using .loc[row_indexer,col_indexer] = value instead\n",
      "\n",
      "See the caveats in the documentation: https://pandas.pydata.org/pandas-docs/stable/user_guide/indexing.html#returning-a-view-versus-a-copy\n",
      "  df[col] = pd.to_numeric(df[col]) * 0.01\n",
      "/home/hari31416/anaconda3/lib/python3.9/site-packages/pystock/fff.py:266: SettingWithCopyWarning: \n",
      "A value is trying to be set on a copy of a slice from a DataFrame.\n",
      "Try using .loc[row_indexer,col_indexer] = value instead\n",
      "\n",
      "See the caveats in the documentation: https://pandas.pydata.org/pandas-docs/stable/user_guide/indexing.html#returning-a-view-versus-a-copy\n",
      "  df[col] = pd.to_numeric(df[col]) * 0.01\n",
      "/home/hari31416/anaconda3/lib/python3.9/site-packages/pystock/fff.py:266: SettingWithCopyWarning: \n",
      "A value is trying to be set on a copy of a slice from a DataFrame.\n",
      "Try using .loc[row_indexer,col_indexer] = value instead\n",
      "\n",
      "See the caveats in the documentation: https://pandas.pydata.org/pandas-docs/stable/user_guide/indexing.html#returning-a-view-versus-a-copy\n",
      "  df[col] = pd.to_numeric(df[col]) * 0.01\n"
     ]
    },
    {
     "name": "stdout",
     "output_type": "stream",
     "text": [
      "Done. Here are the parameters\n",
      "+-------------+-------------+-------------+------------+\n",
      "|        AAPL |        MSFT |        GOOG |       TSLA |\n",
      "|-------------+-------------+-------------+------------|\n",
      "|  0.00551378 |  0.00970946 |  0.00699103 |  0.0341999 |\n",
      "|  1.19761    |  0.994033   |  1.01023    |  1.87135   |\n",
      "| -0.25864    | -0.776582   | -0.572982   | -0.379263  |\n",
      "| -0.51356    |  0.0184878  |  0.199086   | -0.610234  |\n",
      "|  0.75083    | -0.103125   | -0.107732   | -1.45574   |\n",
      "| -0.181558   | -0.548657   | -0.867854   | -0.497976  |\n",
      "|  1          |  1          |  1          |  1         |\n",
      "+-------------+-------------+-------------+------------+\n"
     ]
    },
    {
     "name": "stderr",
     "output_type": "stream",
     "text": [
      "/home/hari31416/anaconda3/lib/python3.9/site-packages/pystock/fff.py:266: SettingWithCopyWarning: \n",
      "A value is trying to be set on a copy of a slice from a DataFrame.\n",
      "Try using .loc[row_indexer,col_indexer] = value instead\n",
      "\n",
      "See the caveats in the documentation: https://pandas.pydata.org/pandas-docs/stable/user_guide/indexing.html#returning-a-view-versus-a-copy\n",
      "  df[col] = pd.to_numeric(df[col]) * 0.01\n"
     ]
    }
   ],
   "source": [
    "pt.calculate_fff_params(frequency=\"M\", factors=5, directory=\".\", verbose=0)"
   ]
  },
  {
   "cell_type": "code",
   "execution_count": 14,
   "metadata": {},
   "outputs": [
    {
     "data": {
      "text/plain": [
       "1.5241739930473637"
      ]
     },
     "execution_count": 14,
     "metadata": {},
     "output_type": "execute_result"
    }
   ],
   "source": [
    "exp_return = model.expected_return_of_stock(pt[\"AAPL\"], model=\"fff5\")\n",
    "exp_return"
   ]
  },
  {
   "cell_type": "code",
   "execution_count": 15,
   "metadata": {},
   "outputs": [],
   "source": [
    "def get_return(risk, can_short):\n",
    "    models = [\"capm\", \"sim\", \"fff3\", \"fff5\"]\n",
    "    for m in models:\n",
    "        print(f\"Optimizing for -> {m.upper()}\")\n",
    "        _ = model.optimize_portfolio(m, risk=risk, can_short=can_short)\n",
    "        print()"
   ]
  },
  {
   "cell_type": "code",
   "execution_count": 16,
   "metadata": {},
   "outputs": [
    {
     "name": "stdout",
     "output_type": "stream",
     "text": [
      "Optimizing for -> CAPM\n",
      "Optimized successfully.\n",
      "Expected return: 1.1154%\n",
      "Variance: 0.5000%\n",
      "Expected weights:\n",
      "--------------------\n",
      "AAPL: 47.38%\n",
      "MSFT: 0.00%\n",
      "GOOG: 35.83%\n",
      "TSLA: 16.79%\n",
      "\n",
      "Optimizing for -> SIM\n",
      "Optimized successfully.\n",
      "Expected return: 1.1277%\n",
      "Variance: 0.5000%\n",
      "Expected weights:\n",
      "--------------------\n",
      "AAPL: 46.10%\n",
      "MSFT: 0.00%\n",
      "GOOG: 36.77%\n",
      "TSLA: 17.13%\n",
      "\n",
      "Optimizing for -> FFF3\n",
      "Optimized successfully.\n",
      "Expected return: 2.3360%\n",
      "Variance: 0.5000%\n",
      "Expected weights:\n",
      "--------------------\n",
      "AAPL: 0.00%\n",
      "MSFT: 53.08%\n",
      "GOOG: 23.86%\n",
      "TSLA: 23.06%\n",
      "\n",
      "Optimizing for -> FFF5\n",
      "Optimized successfully.\n",
      "Expected return: 2.0484%\n",
      "Variance: 0.5000%\n",
      "Expected weights:\n",
      "--------------------\n",
      "AAPL: 7.96%\n",
      "MSFT: 58.34%\n",
      "GOOG: 11.47%\n",
      "TSLA: 22.23%\n",
      "\n"
     ]
    }
   ],
   "source": [
    "risk = 0.5\n",
    "can_short = False\n",
    "get_return(risk, can_short)"
   ]
  },
  {
   "cell_type": "code",
   "execution_count": null,
   "metadata": {},
   "outputs": [],
   "source": []
  }
 ],
 "metadata": {
  "kernelspec": {
   "display_name": "base",
   "language": "python",
   "name": "python3"
  },
  "language_info": {
   "codemirror_mode": {
    "name": "ipython",
    "version": 3
   },
   "file_extension": ".py",
   "mimetype": "text/x-python",
   "name": "python",
   "nbconvert_exporter": "python",
   "pygments_lexer": "ipython3",
   "version": "3.9.12 (main, Apr  5 2022, 06:56:58) \n[GCC 7.5.0]"
  },
  "orig_nbformat": 4,
  "vscode": {
   "interpreter": {
    "hash": "6b9115796af4b7698cd1d09cea36f4b810d06a19fbdf4650a8de9620fa6603ed"
   }
  }
 },
 "nbformat": 4,
 "nbformat_minor": 2
}
