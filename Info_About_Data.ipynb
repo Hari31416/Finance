{
 "cells": [
  {
   "cell_type": "code",
   "execution_count": 1,
   "metadata": {},
   "outputs": [],
   "source": [
    "import numpy as np\n",
    "import pandas as pd\n",
    "import glob\n",
    "from tqdm import tqdm"
   ]
  },
  {
   "cell_type": "code",
   "execution_count": 2,
   "metadata": {},
   "outputs": [],
   "source": [
    "indices = pd.read_csv('Data/Ticker_Data/indices_all.csv')\n",
    "nasdaq200 = pd.read_csv('Data/Ticker_Data/nasdaq200.csv')\n",
    "nifty200 = pd.read_csv('Data/Ticker_Data/nifty200.csv')"
   ]
  },
  {
   "cell_type": "code",
   "execution_count": 3,
   "metadata": {},
   "outputs": [
    {
     "name": "stdout",
     "output_type": "stream",
     "text": [
      "24 200 200\n"
     ]
    }
   ],
   "source": [
    "INDICES = glob.glob(\"Data/Indices/*.csv\")\n",
    "NASDAQ200 = glob.glob(\"Data/Stocks/nasdaq200/*.csv\")\n",
    "NIFTY200 = glob.glob(\"Data/Stocks/nifty200/*.csv\")\n",
    "\n",
    "print(len(INDICES), len(NASDAQ200), len(NIFTY200))"
   ]
  },
  {
   "cell_type": "code",
   "execution_count": 4,
   "metadata": {},
   "outputs": [
    {
     "data": {
      "text/html": [
       "<div>\n",
       "<style scoped>\n",
       "    .dataframe tbody tr th:only-of-type {\n",
       "        vertical-align: middle;\n",
       "    }\n",
       "\n",
       "    .dataframe tbody tr th {\n",
       "        vertical-align: top;\n",
       "    }\n",
       "\n",
       "    .dataframe thead th {\n",
       "        text-align: right;\n",
       "    }\n",
       "</style>\n",
       "<table border=\"1\" class=\"dataframe\">\n",
       "  <thead>\n",
       "    <tr style=\"text-align: right;\">\n",
       "      <th></th>\n",
       "      <th>Date</th>\n",
       "      <th>Open</th>\n",
       "      <th>High</th>\n",
       "      <th>Low</th>\n",
       "      <th>Close</th>\n",
       "      <th>Volume</th>\n",
       "    </tr>\n",
       "  </thead>\n",
       "  <tbody>\n",
       "    <tr>\n",
       "      <th>0</th>\n",
       "      <td>1980-12-12 00:00:00-05:00</td>\n",
       "      <td>0.099874</td>\n",
       "      <td>0.100308</td>\n",
       "      <td>0.099874</td>\n",
       "      <td>0.099874</td>\n",
       "      <td>469033600</td>\n",
       "    </tr>\n",
       "    <tr>\n",
       "      <th>1</th>\n",
       "      <td>1980-12-15 00:00:00-05:00</td>\n",
       "      <td>0.095098</td>\n",
       "      <td>0.095098</td>\n",
       "      <td>0.094663</td>\n",
       "      <td>0.094663</td>\n",
       "      <td>175884800</td>\n",
       "    </tr>\n",
       "    <tr>\n",
       "      <th>2</th>\n",
       "      <td>1980-12-16 00:00:00-05:00</td>\n",
       "      <td>0.088149</td>\n",
       "      <td>0.088149</td>\n",
       "      <td>0.087715</td>\n",
       "      <td>0.087715</td>\n",
       "      <td>105728000</td>\n",
       "    </tr>\n",
       "    <tr>\n",
       "      <th>3</th>\n",
       "      <td>1980-12-17 00:00:00-05:00</td>\n",
       "      <td>0.089886</td>\n",
       "      <td>0.090320</td>\n",
       "      <td>0.089886</td>\n",
       "      <td>0.089886</td>\n",
       "      <td>86441600</td>\n",
       "    </tr>\n",
       "    <tr>\n",
       "      <th>4</th>\n",
       "      <td>1980-12-18 00:00:00-05:00</td>\n",
       "      <td>0.092492</td>\n",
       "      <td>0.092927</td>\n",
       "      <td>0.092492</td>\n",
       "      <td>0.092492</td>\n",
       "      <td>73449600</td>\n",
       "    </tr>\n",
       "  </tbody>\n",
       "</table>\n",
       "</div>"
      ],
      "text/plain": [
       "                        Date      Open      High       Low     Close  \\\n",
       "0  1980-12-12 00:00:00-05:00  0.099874  0.100308  0.099874  0.099874   \n",
       "1  1980-12-15 00:00:00-05:00  0.095098  0.095098  0.094663  0.094663   \n",
       "2  1980-12-16 00:00:00-05:00  0.088149  0.088149  0.087715  0.087715   \n",
       "3  1980-12-17 00:00:00-05:00  0.089886  0.090320  0.089886  0.089886   \n",
       "4  1980-12-18 00:00:00-05:00  0.092492  0.092927  0.092492  0.092492   \n",
       "\n",
       "      Volume  \n",
       "0  469033600  \n",
       "1  175884800  \n",
       "2  105728000  \n",
       "3   86441600  \n",
       "4   73449600  "
      ]
     },
     "execution_count": 4,
     "metadata": {},
     "output_type": "execute_result"
    }
   ],
   "source": [
    "sample_stock = pd.read_csv(NASDAQ200[0])\n",
    "sample_stock.head()"
   ]
  },
  {
   "cell_type": "code",
   "execution_count": 5,
   "metadata": {},
   "outputs": [
    {
     "data": {
      "text/html": [
       "<div>\n",
       "<style scoped>\n",
       "    .dataframe tbody tr th:only-of-type {\n",
       "        vertical-align: middle;\n",
       "    }\n",
       "\n",
       "    .dataframe tbody tr th {\n",
       "        vertical-align: top;\n",
       "    }\n",
       "\n",
       "    .dataframe thead th {\n",
       "        text-align: right;\n",
       "    }\n",
       "</style>\n",
       "<table border=\"1\" class=\"dataframe\">\n",
       "  <thead>\n",
       "    <tr style=\"text-align: right;\">\n",
       "      <th></th>\n",
       "      <th>Date</th>\n",
       "      <th>Open</th>\n",
       "      <th>High</th>\n",
       "      <th>Low</th>\n",
       "      <th>Close</th>\n",
       "      <th>Volume</th>\n",
       "    </tr>\n",
       "  </thead>\n",
       "  <tbody>\n",
       "    <tr>\n",
       "      <th>0</th>\n",
       "      <td>1984-08-03</td>\n",
       "      <td>706.200012</td>\n",
       "      <td>718.000000</td>\n",
       "      <td>706.200012</td>\n",
       "      <td>713.000000</td>\n",
       "      <td>0.0</td>\n",
       "    </tr>\n",
       "    <tr>\n",
       "      <th>1</th>\n",
       "      <td>1984-08-06</td>\n",
       "      <td>714.900024</td>\n",
       "      <td>736.799988</td>\n",
       "      <td>714.900024</td>\n",
       "      <td>736.799988</td>\n",
       "      <td>0.0</td>\n",
       "    </tr>\n",
       "    <tr>\n",
       "      <th>2</th>\n",
       "      <td>1984-08-07</td>\n",
       "      <td>736.799988</td>\n",
       "      <td>736.799988</td>\n",
       "      <td>728.000000</td>\n",
       "      <td>728.500000</td>\n",
       "      <td>0.0</td>\n",
       "    </tr>\n",
       "    <tr>\n",
       "      <th>3</th>\n",
       "      <td>1984-08-08</td>\n",
       "      <td>728.000000</td>\n",
       "      <td>730.799988</td>\n",
       "      <td>724.500000</td>\n",
       "      <td>728.500000</td>\n",
       "      <td>0.0</td>\n",
       "    </tr>\n",
       "    <tr>\n",
       "      <th>4</th>\n",
       "      <td>1984-08-15</td>\n",
       "      <td>727.599976</td>\n",
       "      <td>735.099976</td>\n",
       "      <td>726.799988</td>\n",
       "      <td>735.099976</td>\n",
       "      <td>0.0</td>\n",
       "    </tr>\n",
       "  </tbody>\n",
       "</table>\n",
       "</div>"
      ],
      "text/plain": [
       "         Date        Open        High         Low       Close  Volume\n",
       "0  1984-08-03  706.200012  718.000000  706.200012  713.000000     0.0\n",
       "1  1984-08-06  714.900024  736.799988  714.900024  736.799988     0.0\n",
       "2  1984-08-07  736.799988  736.799988  728.000000  728.500000     0.0\n",
       "3  1984-08-08  728.000000  730.799988  724.500000  728.500000     0.0\n",
       "4  1984-08-15  727.599976  735.099976  726.799988  735.099976     0.0"
      ]
     },
     "execution_count": 5,
     "metadata": {},
     "output_type": "execute_result"
    }
   ],
   "source": [
    "sample_index = pd.read_csv(INDICES[0])\n",
    "sample_index.head()"
   ]
  },
  {
   "cell_type": "code",
   "execution_count": 6,
   "metadata": {},
   "outputs": [],
   "source": [
    "def get_info(file):\n",
    "    df = pd.read_csv(file)\n",
    "    ticker = file.split(\"/\")[-1].split(\".\")[0]\n",
    "    df[\"Date\"] = pd.to_datetime(df[\"Date\"])\n",
    "    df = df.sort_values(by=\"Date\", ascending=True)\n",
    "    high = df[\"High\"].max()\n",
    "    low = df[\"Low\"].min()\n",
    "    last = df[\"Close\"].iloc[-1]\n",
    "    length = len(df)\n",
    "    start_date = df['Date'].iloc[0].strftime('%Y-%m-%d')\n",
    "    end_date = df['Date'].iloc[-1].strftime('%Y-%m-%d')\n",
    "    return [ticker, length, start_date, end_date, high, low, last]"
   ]
  },
  {
   "cell_type": "code",
   "execution_count": 7,
   "metadata": {},
   "outputs": [
    {
     "data": {
      "text/plain": [
       "['AAPL',\n",
       " 10598,\n",
       " '1980-12-12',\n",
       " '2022-12-22',\n",
       " 181.88438030728767,\n",
       " 0.0382125489413738,\n",
       " 132.22999572753906]"
      ]
     },
     "execution_count": 7,
     "metadata": {},
     "output_type": "execute_result"
    }
   ],
   "source": [
    "get_info(NASDAQ200[0])"
   ]
  },
  {
   "cell_type": "code",
   "execution_count": 8,
   "metadata": {},
   "outputs": [
    {
     "name": "stderr",
     "output_type": "stream",
     "text": [
      "NASDAQ200: 100%|██████████| 200/200 [00:07<00:00, 25.07it/s]\n"
     ]
    }
   ],
   "source": [
    "info = []\n",
    "for file in tqdm(NASDAQ200, desc=\"NASDAQ200\"):\n",
    "    info.append(get_info(file))\n",
    "\n",
    "info = pd.DataFrame(info, columns=[\"Ticker\", \"Length\", \"Start Date\", \"End Date\", \"High\", \"Low\", \"Last\"])\n",
    "info.head()\n",
    "info.to_csv(\"Data/Info/nasdaq200_info.csv\", index=False)"
   ]
  },
  {
   "cell_type": "code",
   "execution_count": 9,
   "metadata": {},
   "outputs": [
    {
     "name": "stderr",
     "output_type": "stream",
     "text": [
      "NIFTY200: 100%|██████████| 200/200 [00:04<00:00, 47.56it/s]\n"
     ]
    }
   ],
   "source": [
    "info = []\n",
    "for file in tqdm(NIFTY200, desc=\"NIFTY200\"):\n",
    "    info.append(get_info(file))\n",
    "\n",
    "info = pd.DataFrame(info, columns=[\"Ticker\", \"Length\", \"Start Date\", \"End Date\", \"High\", \"Low\", \"Last\"])\n",
    "info.head()\n",
    "info.to_csv(\"Data/Info/nifty200_info.csv\", index=False)"
   ]
  },
  {
   "cell_type": "code",
   "execution_count": 11,
   "metadata": {},
   "outputs": [
    {
     "name": "stderr",
     "output_type": "stream",
     "text": [
      "INDICES:  67%|██████▋   | 16/24 [00:00<00:00, 36.37it/s]"
     ]
    },
    {
     "name": "stdout",
     "output_type": "stream",
     "text": [
      "Data/Indices/INDIAVIX.csv\n"
     ]
    },
    {
     "name": "stderr",
     "output_type": "stream",
     "text": [
      "INDICES: 100%|██████████| 24/24 [00:00<00:00, 36.26it/s]\n"
     ]
    }
   ],
   "source": [
    "info = []\n",
    "for file in tqdm(INDICES, desc=\"INDICES\"):\n",
    "    try:\n",
    "        info.append(get_info(file))\n",
    "    except:\n",
    "        print(file)\n",
    "\n",
    "info = pd.DataFrame(info, columns=[\"Ticker\", \"Length\", \"Start Date\", \"End Date\", \"High\", \"Low\", \"Last\"])\n",
    "info.head()\n",
    "info.to_csv(\"Data/Info/indices_info.csv\", index=False)"
   ]
  }
 ],
 "metadata": {
  "kernelspec": {
   "display_name": "data-science",
   "language": "python",
   "name": "python3"
  },
  "language_info": {
   "codemirror_mode": {
    "name": "ipython",
    "version": 3
   },
   "file_extension": ".py",
   "mimetype": "text/x-python",
   "name": "python",
   "nbconvert_exporter": "python",
   "pygments_lexer": "ipython3",
   "version": "3.9.15 (main, Nov 24 2022, 14:31:59) \n[GCC 11.2.0]"
  },
  "orig_nbformat": 4,
  "vscode": {
   "interpreter": {
    "hash": "2efee1efa502125d01e6b4768ba06d9453d29f3642bfd14ad5d4a769de82e88c"
   }
  }
 },
 "nbformat": 4,
 "nbformat_minor": 2
}
