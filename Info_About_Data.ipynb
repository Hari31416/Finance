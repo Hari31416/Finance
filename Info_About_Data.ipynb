{
 "cells": [
  {
   "cell_type": "code",
   "execution_count": 62,
   "metadata": {},
   "outputs": [],
   "source": [
    "import numpy as np\n",
    "import pandas as pd\n",
    "import glob\n",
    "from tqdm import tqdm\n",
    "import os"
   ]
  },
  {
   "cell_type": "code",
   "execution_count": 53,
   "metadata": {},
   "outputs": [
    {
     "name": "stdout",
     "output_type": "stream",
     "text": [
      "Number of INDIAN_BONDS:  9\n",
      "Number of US_BONDS:  4\n",
      "Number of Commodities:  14\n",
      "Number of Crypto:  20\n",
      "Number of Currencies:  26\n",
      "Number of NASDAQ200:  200\n",
      "Number of NIFTY200:  200\n",
      "Number of Indices:  24\n"
     ]
    }
   ],
   "source": [
    "TICKERS = glob.glob(f\"Data/Ticker_Data/*.csv\")\n",
    "INDIAN_BONDS = glob.glob(\"Data/Bonds/Indian/*.csv\")\n",
    "US_BONDS = glob.glob(\"Data/Bonds/US/*.csv\")\n",
    "COMMODITIES = glob.glob(\"Data/Commodities/*.csv\")\n",
    "CRYPTO = glob.glob(\"Data/Crypto/*.csv\")\n",
    "CURRENCIES = glob.glob(\"Data/Currencies/*.csv\")\n",
    "NASDAQ200 = glob.glob(\"Data/Stocks/nasdaq200/*.csv\")\n",
    "NIFTY200 = glob.glob(\"Data/Stocks/nifty200/*.csv\")\n",
    "INDICES = glob.glob(\"Data/Indices/*.csv\")\n",
    "ALL_STRING = [\"Indian_Bonds\", \"US_Bonds\", \"Commodities\", \"Crypto\", \"Currencies\", \"NASDAQ200\", \"NIFTY200\", \"Indices\"]\n",
    "\n",
    "print(\"Number of INDIAN_BONDS: \", len(INDIAN_BONDS))\n",
    "print(\"Number of US_BONDS: \", len(US_BONDS))\n",
    "print(\"Number of Commodities: \", len(COMMODITIES))\n",
    "print(\"Number of Crypto: \", len(CRYPTO))\n",
    "print(\"Number of Currencies: \", len(CURRENCIES))\n",
    "print(\"Number of NASDAQ200: \", len(NASDAQ200))\n",
    "print(\"Number of NIFTY200: \", len(NIFTY200))\n",
    "print(\"Number of Indices: \", len(INDICES))"
   ]
  },
  {
   "cell_type": "code",
   "execution_count": 20,
   "metadata": {},
   "outputs": [
    {
     "data": {
      "text/html": [
       "<div>\n",
       "<style scoped>\n",
       "    .dataframe tbody tr th:only-of-type {\n",
       "        vertical-align: middle;\n",
       "    }\n",
       "\n",
       "    .dataframe tbody tr th {\n",
       "        vertical-align: top;\n",
       "    }\n",
       "\n",
       "    .dataframe thead th {\n",
       "        text-align: right;\n",
       "    }\n",
       "</style>\n",
       "<table border=\"1\" class=\"dataframe\">\n",
       "  <thead>\n",
       "    <tr style=\"text-align: right;\">\n",
       "      <th></th>\n",
       "      <th>Date</th>\n",
       "      <th>Open</th>\n",
       "      <th>High</th>\n",
       "      <th>Low</th>\n",
       "      <th>Close</th>\n",
       "      <th>Volume</th>\n",
       "    </tr>\n",
       "  </thead>\n",
       "  <tbody>\n",
       "    <tr>\n",
       "      <th>0</th>\n",
       "      <td>1980-12-12 00:00:00-05:00</td>\n",
       "      <td>0.099874</td>\n",
       "      <td>0.100308</td>\n",
       "      <td>0.099874</td>\n",
       "      <td>0.099874</td>\n",
       "      <td>469033600</td>\n",
       "    </tr>\n",
       "    <tr>\n",
       "      <th>1</th>\n",
       "      <td>1980-12-15 00:00:00-05:00</td>\n",
       "      <td>0.095098</td>\n",
       "      <td>0.095098</td>\n",
       "      <td>0.094663</td>\n",
       "      <td>0.094663</td>\n",
       "      <td>175884800</td>\n",
       "    </tr>\n",
       "    <tr>\n",
       "      <th>2</th>\n",
       "      <td>1980-12-16 00:00:00-05:00</td>\n",
       "      <td>0.088149</td>\n",
       "      <td>0.088149</td>\n",
       "      <td>0.087715</td>\n",
       "      <td>0.087715</td>\n",
       "      <td>105728000</td>\n",
       "    </tr>\n",
       "    <tr>\n",
       "      <th>3</th>\n",
       "      <td>1980-12-17 00:00:00-05:00</td>\n",
       "      <td>0.089886</td>\n",
       "      <td>0.090320</td>\n",
       "      <td>0.089886</td>\n",
       "      <td>0.089886</td>\n",
       "      <td>86441600</td>\n",
       "    </tr>\n",
       "    <tr>\n",
       "      <th>4</th>\n",
       "      <td>1980-12-18 00:00:00-05:00</td>\n",
       "      <td>0.092492</td>\n",
       "      <td>0.092927</td>\n",
       "      <td>0.092492</td>\n",
       "      <td>0.092492</td>\n",
       "      <td>73449600</td>\n",
       "    </tr>\n",
       "  </tbody>\n",
       "</table>\n",
       "</div>"
      ],
      "text/plain": [
       "                        Date      Open      High       Low     Close  \\\n",
       "0  1980-12-12 00:00:00-05:00  0.099874  0.100308  0.099874  0.099874   \n",
       "1  1980-12-15 00:00:00-05:00  0.095098  0.095098  0.094663  0.094663   \n",
       "2  1980-12-16 00:00:00-05:00  0.088149  0.088149  0.087715  0.087715   \n",
       "3  1980-12-17 00:00:00-05:00  0.089886  0.090320  0.089886  0.089886   \n",
       "4  1980-12-18 00:00:00-05:00  0.092492  0.092927  0.092492  0.092492   \n",
       "\n",
       "      Volume  \n",
       "0  469033600  \n",
       "1  175884800  \n",
       "2  105728000  \n",
       "3   86441600  \n",
       "4   73449600  "
      ]
     },
     "execution_count": 20,
     "metadata": {},
     "output_type": "execute_result"
    }
   ],
   "source": [
    "sample_stock = pd.read_csv(NASDAQ200[0])\n",
    "sample_stock.head()"
   ]
  },
  {
   "cell_type": "code",
   "execution_count": 21,
   "metadata": {},
   "outputs": [
    {
     "data": {
      "text/html": [
       "<div>\n",
       "<style scoped>\n",
       "    .dataframe tbody tr th:only-of-type {\n",
       "        vertical-align: middle;\n",
       "    }\n",
       "\n",
       "    .dataframe tbody tr th {\n",
       "        vertical-align: top;\n",
       "    }\n",
       "\n",
       "    .dataframe thead th {\n",
       "        text-align: right;\n",
       "    }\n",
       "</style>\n",
       "<table border=\"1\" class=\"dataframe\">\n",
       "  <thead>\n",
       "    <tr style=\"text-align: right;\">\n",
       "      <th></th>\n",
       "      <th>Date</th>\n",
       "      <th>Open</th>\n",
       "      <th>High</th>\n",
       "      <th>Low</th>\n",
       "      <th>Close</th>\n",
       "      <th>Volume</th>\n",
       "    </tr>\n",
       "  </thead>\n",
       "  <tbody>\n",
       "    <tr>\n",
       "      <th>0</th>\n",
       "      <td>1984-08-03</td>\n",
       "      <td>706.200012</td>\n",
       "      <td>718.000000</td>\n",
       "      <td>706.200012</td>\n",
       "      <td>713.000000</td>\n",
       "      <td>0.0</td>\n",
       "    </tr>\n",
       "    <tr>\n",
       "      <th>1</th>\n",
       "      <td>1984-08-06</td>\n",
       "      <td>714.900024</td>\n",
       "      <td>736.799988</td>\n",
       "      <td>714.900024</td>\n",
       "      <td>736.799988</td>\n",
       "      <td>0.0</td>\n",
       "    </tr>\n",
       "    <tr>\n",
       "      <th>2</th>\n",
       "      <td>1984-08-07</td>\n",
       "      <td>736.799988</td>\n",
       "      <td>736.799988</td>\n",
       "      <td>728.000000</td>\n",
       "      <td>728.500000</td>\n",
       "      <td>0.0</td>\n",
       "    </tr>\n",
       "    <tr>\n",
       "      <th>3</th>\n",
       "      <td>1984-08-08</td>\n",
       "      <td>728.000000</td>\n",
       "      <td>730.799988</td>\n",
       "      <td>724.500000</td>\n",
       "      <td>728.500000</td>\n",
       "      <td>0.0</td>\n",
       "    </tr>\n",
       "    <tr>\n",
       "      <th>4</th>\n",
       "      <td>1984-08-15</td>\n",
       "      <td>727.599976</td>\n",
       "      <td>735.099976</td>\n",
       "      <td>726.799988</td>\n",
       "      <td>735.099976</td>\n",
       "      <td>0.0</td>\n",
       "    </tr>\n",
       "  </tbody>\n",
       "</table>\n",
       "</div>"
      ],
      "text/plain": [
       "         Date        Open        High         Low       Close  Volume\n",
       "0  1984-08-03  706.200012  718.000000  706.200012  713.000000     0.0\n",
       "1  1984-08-06  714.900024  736.799988  714.900024  736.799988     0.0\n",
       "2  1984-08-07  736.799988  736.799988  728.000000  728.500000     0.0\n",
       "3  1984-08-08  728.000000  730.799988  724.500000  728.500000     0.0\n",
       "4  1984-08-15  727.599976  735.099976  726.799988  735.099976     0.0"
      ]
     },
     "execution_count": 21,
     "metadata": {},
     "output_type": "execute_result"
    }
   ],
   "source": [
    "sample_index = pd.read_csv(INDICES[0])\n",
    "sample_index.head()"
   ]
  },
  {
   "cell_type": "code",
   "execution_count": 57,
   "metadata": {},
   "outputs": [],
   "source": [
    "def get_info(file):\n",
    "    df = pd.read_csv(file)\n",
    "    if len(df)<=1:\n",
    "        return [None]*7\n",
    "    ticker = file.split(\"/\")[-1].split(\".\")[0]\n",
    "    df[\"Date\"] = pd.to_datetime(df[\"Date\"])\n",
    "    df = df.sort_values(by=\"Date\", ascending=True)\n",
    "    high = df[\"High\"].max()\n",
    "    low = df[\"Low\"].min()\n",
    "    last = df[\"Close\"].iloc[-1]\n",
    "    length = len(df)\n",
    "    start_date = df['Date'].iloc[0].strftime('%Y-%m-%d')\n",
    "    end_date = df['Date'].iloc[-1].strftime('%Y-%m-%d')\n",
    "    return [ticker, length, start_date, end_date, high, low, last]"
   ]
  },
  {
   "cell_type": "code",
   "execution_count": 50,
   "metadata": {},
   "outputs": [],
   "source": [
    "def save(name):\n",
    "    info = []\n",
    "    for file in tqdm(eval(name.upper()), desc=\"Saving Info\"):\n",
    "        info.append(get_info(file))\n",
    "\n",
    "    info = pd.DataFrame(info, columns=[\"Ticker\", \"Length\", \"Start Date\", \"End Date\", \"Highest\", \"Lowest\", \"Last Price\"])\n",
    "    info.head()\n",
    "    info.to_csv(f\"Data/Info/{name.lower()}_info.csv\", index=False)"
   ]
  },
  {
   "cell_type": "code",
   "execution_count": 58,
   "metadata": {},
   "outputs": [
    {
     "name": "stdout",
     "output_type": "stream",
     "text": [
      "Indian_Bonds\r"
     ]
    },
    {
     "name": "stderr",
     "output_type": "stream",
     "text": [
      "Saving Info: 100%|██████████| 9/9 [00:00<00:00, 68.65it/s]\n"
     ]
    },
    {
     "name": "stdout",
     "output_type": "stream",
     "text": [
      "US_Bonds\r"
     ]
    },
    {
     "name": "stderr",
     "output_type": "stream",
     "text": [
      "Saving Info: 100%|██████████| 4/4 [00:00<00:00, 35.14it/s]\n"
     ]
    },
    {
     "name": "stdout",
     "output_type": "stream",
     "text": [
      "Commodities\r"
     ]
    },
    {
     "name": "stderr",
     "output_type": "stream",
     "text": [
      "Saving Info: 100%|██████████| 14/14 [00:00<00:00, 78.47it/s]\n"
     ]
    },
    {
     "name": "stdout",
     "output_type": "stream",
     "text": [
      "Crypto\r"
     ]
    },
    {
     "name": "stderr",
     "output_type": "stream",
     "text": [
      "Saving Info: 100%|██████████| 20/20 [00:00<00:00, 124.83it/s]\n"
     ]
    },
    {
     "name": "stdout",
     "output_type": "stream",
     "text": [
      "Currencies\r"
     ]
    },
    {
     "name": "stderr",
     "output_type": "stream",
     "text": [
      "Saving Info: 100%|██████████| 26/26 [00:00<00:00, 63.09it/s]\n"
     ]
    },
    {
     "name": "stdout",
     "output_type": "stream",
     "text": [
      "NASDAQ200\r"
     ]
    },
    {
     "name": "stderr",
     "output_type": "stream",
     "text": [
      "Saving Info: 100%|██████████| 200/200 [00:04<00:00, 47.75it/s]\n"
     ]
    },
    {
     "name": "stdout",
     "output_type": "stream",
     "text": [
      "NIFTY200\r"
     ]
    },
    {
     "name": "stderr",
     "output_type": "stream",
     "text": [
      "Saving Info: 100%|██████████| 200/200 [00:01<00:00, 110.62it/s]\n"
     ]
    },
    {
     "name": "stdout",
     "output_type": "stream",
     "text": [
      "Indices\r"
     ]
    },
    {
     "name": "stderr",
     "output_type": "stream",
     "text": [
      "Saving Info: 100%|██████████| 24/24 [00:00<00:00, 61.96it/s]\n"
     ]
    }
   ],
   "source": [
    "for a in ALL_STRING:\n",
    "    print(a, end=\"\\r\")\n",
    "    save(a)"
   ]
  },
  {
   "cell_type": "code",
   "execution_count": 60,
   "metadata": {},
   "outputs": [
    {
     "name": "stdout",
     "output_type": "stream",
     "text": [
      "<class 'pandas.core.frame.DataFrame'>\n",
      "RangeIndex: 200 entries, 0 to 199\n",
      "Data columns (total 7 columns):\n",
      " #   Column      Non-Null Count  Dtype  \n",
      "---  ------      --------------  -----  \n",
      " 0   Ticker      166 non-null    object \n",
      " 1   Length      166 non-null    float64\n",
      " 2   Start Date  166 non-null    object \n",
      " 3   End Date    166 non-null    object \n",
      " 4   Highest     166 non-null    float64\n",
      " 5   Lowest      166 non-null    float64\n",
      " 6   Last Price  166 non-null    float64\n",
      "dtypes: float64(4), object(3)\n",
      "memory usage: 11.1+ KB\n"
     ]
    }
   ],
   "source": [
    "nifty200 = pd.read_csv(\"Data/Info/nifty200_info.csv\")\n",
    "nifty200.info()"
   ]
  },
  {
   "cell_type": "code",
   "execution_count": 63,
   "metadata": {},
   "outputs": [],
   "source": [
    "for n in NIFTY200:\n",
    "    df = pd.read_csv(n)\n",
    "    if len(df)<=1:\n",
    "        os.remove(n)"
   ]
  },
  {
   "cell_type": "code",
   "execution_count": 65,
   "metadata": {},
   "outputs": [
    {
     "name": "stdout",
     "output_type": "stream",
     "text": [
      "<class 'pandas.core.frame.DataFrame'>\n",
      "Int64Index: 166 entries, 0 to 197\n",
      "Data columns (total 7 columns):\n",
      " #   Column      Non-Null Count  Dtype  \n",
      "---  ------      --------------  -----  \n",
      " 0   Ticker      166 non-null    object \n",
      " 1   Length      166 non-null    float64\n",
      " 2   Start Date  166 non-null    object \n",
      " 3   End Date    166 non-null    object \n",
      " 4   Highest     166 non-null    float64\n",
      " 5   Lowest      166 non-null    float64\n",
      " 6   Last Price  166 non-null    float64\n",
      "dtypes: float64(4), object(3)\n",
      "memory usage: 10.4+ KB\n"
     ]
    }
   ],
   "source": [
    "nifty200.dropna(inplace=True)\n",
    "nifty200.info()"
   ]
  },
  {
   "cell_type": "code",
   "execution_count": 66,
   "metadata": {},
   "outputs": [],
   "source": [
    "nifty200.to_csv(\"Data/Info/nifty200_info.csv\", index=False)"
   ]
  }
 ],
 "metadata": {
  "kernelspec": {
   "display_name": "data-science",
   "language": "python",
   "name": "python3"
  },
  "language_info": {
   "codemirror_mode": {
    "name": "ipython",
    "version": 3
   },
   "file_extension": ".py",
   "mimetype": "text/x-python",
   "name": "python",
   "nbconvert_exporter": "python",
   "pygments_lexer": "ipython3",
   "version": "3.9.15"
  },
  "orig_nbformat": 4,
  "vscode": {
   "interpreter": {
    "hash": "2efee1efa502125d01e6b4768ba06d9453d29f3642bfd14ad5d4a769de82e88c"
   }
  }
 },
 "nbformat": 4,
 "nbformat_minor": 2
}
