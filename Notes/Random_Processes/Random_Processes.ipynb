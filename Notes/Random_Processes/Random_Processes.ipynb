{
 "cells": [
  {
   "attachments": {},
   "cell_type": "markdown",
   "metadata": {},
   "source": [
    "# Introduction"
   ]
  },
  {
   "attachments": {},
   "cell_type": "markdown",
   "metadata": {},
   "source": [
    "## Definition"
   ]
  },
  {
   "attachments": {},
   "cell_type": "markdown",
   "metadata": {},
   "source": [
    "In real-life applications, we are often interested in multiple observations of random values over a period of time. Let $S(t)$ be the stock price at time $t\\in[0,\\infty)$. A possible outcome is:"
   ]
  },
  {
   "attachments": {},
   "cell_type": "markdown",
   "metadata": {},
   "source": [
    "![](https://www.probabilitycourse.com/images/chapter10/stock-rp_b.png)"
   ]
  },
  {
   "attachments": {},
   "cell_type": "markdown",
   "metadata": {},
   "source": [
    "When we consider the values of $S(t)$ for $t \\in [0,\\infty)\n",
    "$ collectively, we say $S(t)$ is a random process or a stochastic process. We may show this process by:\n",
    "$$\n",
    "\\begin{align*}\n",
    "\\big\\{S(t), t \\in [0,\\infty) \\big\\}.\n",
    "\\end{align*}\n",
    "\n",
    "$$"
   ]
  },
  {
   "attachments": {},
   "cell_type": "markdown",
   "metadata": {},
   "source": [
    "Using this, we can give defination of a random process as \"A random process is a collection of random variables usually indexed by time.\""
   ]
  },
  {
   "attachments": {},
   "cell_type": "markdown",
   "metadata": {},
   "source": [
    "## Continuous and Discrete Random Processes"
   ]
  },
  {
   "attachments": {},
   "cell_type": "markdown",
   "metadata": {},
   "source": [
    "The process $S(t)$ mentioned above is an example of a continuous-time random process. In general, when we have a random process $X(t)$ where $t$ can take real values in an interval on the real line, then $X(t)$ is a continuous-time random process."
   ]
  },
  {
   "attachments": {},
   "cell_type": "markdown",
   "metadata": {},
   "source": [
    "On the other hand, you can have a discrete-time random process. A discrete-time random process is a process\n",
    "$$\n",
    "\\begin{align*}%\\label{}\n",
    "\\big\\{X(t), t \\in J \\big\\},\n",
    "\\end{align*}\n",
    "$$"
   ]
  },
  {
   "attachments": {},
   "cell_type": "markdown",
   "metadata": {},
   "source": [
    "where $J$ is a countable set. Since $J$ is countable, we can write $J=\\{t_1,t_2,\\cdots\\}$. We usually define $X(t_n)=X(n)$ or $X(t_n)=X_n$, for $n=1,2,\\cdots$"
   ]
  },
  {
   "attachments": {},
   "cell_type": "markdown",
   "metadata": {},
   "source": [
    "Therefore, a discrete-time random process is just a sequence of random variables. For this reason, discrete-time random processes are sometimes referred to as random sequences. We can denote such a discrete-time process as\n",
    "\n",
    "$$\n",
    "\\begin{align*}%\\label{}\n",
    "\\big\\{X(n), n=0,1,2,\\dots\\} \\quad \\textrm{ or } \\quad \\big\\{X_n, n=0,1,2,\\dots\\}.\n",
    "\\end{align*}\n",
    "\n",
    "$$"
   ]
  },
  {
   "attachments": {},
   "cell_type": "markdown",
   "metadata": {},
   "source": [
    "## Random Functions"
   ]
  },
  {
   "attachments": {},
   "cell_type": "markdown",
   "metadata": {},
   "source": [
    "Arandom process is resulted from a random experiment, e.g., observing the stock prices of a company over a period of time. Remember that any random experiment is defined on a sample space $S$. After observing the values of $X(t)$, we obtain a function of time such as the one showed in the figure above."
   ]
  },
  {
   "attachments": {},
   "cell_type": "markdown",
   "metadata": {},
   "source": [
    "he function shown in this figure is just one of the many possible outcomes of this random experiment. We call each of these possible functions of $X(t)$ a sample function or sample path. It is also called a realization of $X(t)$."
   ]
  },
  {
   "attachments": {},
   "cell_type": "markdown",
   "metadata": {},
   "source": [
    ">From this point of view, a random process can be thought of as a random function of time."
   ]
  },
  {
   "attachments": {},
   "cell_type": "markdown",
   "metadata": {},
   "source": [
    "# Mean and Correlation Functions"
   ]
  },
  {
   "attachments": {},
   "cell_type": "markdown",
   "metadata": {},
   "source": [
    "## Mean Function"
   ]
  },
  {
   "attachments": {},
   "cell_type": "markdown",
   "metadata": {},
   "source": [
    "For a random process $\\big\\{X(t), t \\in J \\big\\}\n",
    "$, the mean function $\\mu_X(t):J \\rightarrow \\mathbb{R}$ is defined as\n",
    "\n",
    "$$\n",
    "\\begin{align*}%\\label{}\n",
    "\\mu(t) = E[X(t)].\n",
    "\\end{align*}\n",
    "$$"
   ]
  },
  {
   "attachments": {},
   "cell_type": "markdown",
   "metadata": {},
   "source": [
    "The mean function gives us an idea about how the random process behaves on average as time evolves. "
   ]
  },
  {
   "attachments": {},
   "cell_type": "markdown",
   "metadata": {},
   "source": [
    "## Autocorrelation and Autocovariance"
   ]
  },
  {
   "attachments": {},
   "cell_type": "markdown",
   "metadata": {},
   "source": [
    "The mean function does not give information about how $X(t_1)$ and $X(t_2)$ are related. This is calculated by correlation and covariance functions."
   ]
  },
  {
   "attachments": {},
   "cell_type": "markdown",
   "metadata": {},
   "source": [
    "For a random process $\\big\\{X(t), t \\in J \\big\\}$, the autocorrelation function or, simply, the correlation function, $R_X(t_1,t_2)$, is defined by\n",
    "\n",
    "$$\n",
    "\\begin{align*}%\\label{}\n",
    "R_X(t_1,t_2)=E[X(t_1)X(t_2)], \\quad \\textrm{for }t_1,t_2 \\in J.\n",
    "\\end{align*}\n",
    "$$"
   ]
  },
  {
   "attachments": {},
   "cell_type": "markdown",
   "metadata": {},
   "source": [
    "The autocovariance function or, simply, the covariance function, $C_X(t_1,t_2)$, is defined by\n",
    "\n",
    "$$\n",
    "\\begin{align*}%\\label{}\n",
    "C_X(t_1,t_2)&=\\textrm{Cov}\\big(X(t_1),X(t_2)\\big)\\\\\n",
    "&=R_X(t_1,t_2)-\\mu_X(t_1) \\mu_X(t_2), \\quad \\textrm{for }t_1,t_2 \\in J.\n",
    "\\end{align*}\n",
    "\n",
    "$$"
   ]
  },
  {
   "attachments": {},
   "cell_type": "markdown",
   "metadata": {},
   "source": [
    "Note that the autocovariance function can also be written as:\n",
    "$$\n",
    "\\begin{align*}\n",
    "C_X(t_1,t_2)&=E\\bigg[\\bigg(X(t_1)-E\\big[X(t_1)\\big]\\bigg)\\bigg(X(t_2)-E\\big[X(t_2)\\big]\\bigg)\\bigg].\n",
    "\\end{align*}\n",
    "$$"
   ]
  },
  {
   "attachments": {},
   "cell_type": "markdown",
   "metadata": {},
   "source": [
    "Which essentially shows how $X(t_1)$ and $X(t_2)$ move relative to each other."
   ]
  },
  {
   "attachments": {},
   "cell_type": "markdown",
   "metadata": {},
   "source": [
    "## Cross-Correlation and Cross-Covariance"
   ]
  },
  {
   "attachments": {},
   "cell_type": "markdown",
   "metadata": {},
   "source": [
    "We often need to study more than one random process. For example, when investing in the stock market you consider several different stocks and you are interested in how they are related. In particular, you might be interested in finding out whether two stocks are positively or negatively correlated. A useful idea in these situations is to look at cross-correlation and cross-covariance functions."
   ]
  },
  {
   "attachments": {},
   "cell_type": "markdown",
   "metadata": {},
   "source": [
    "Let's define two random processes $\\big\\{X(t), t \\in J \\big\\}$ and $\\big\\{Y(t), t \\in J \\big\\}$, then the cross-correlation function $R_{X,Y}(t_1,t_2)$ is defined by "
   ]
  },
  {
   "attachments": {},
   "cell_type": "markdown",
   "metadata": {},
   "source": [
    "$$\n",
    "\\begin{align*}\n",
    "R_{XY}(t_1,t_2)=E[X(t_1)Y(t_2)], \\quad \\textrm{for }t_1,t_2 \\in J;\n",
    "\\end{align*}\n",
    "$$"
   ]
  },
  {
   "attachments": {},
   "cell_type": "markdown",
   "metadata": {},
   "source": [
    "While the cross-covariance function $C_{X,Y}(t_1,t_2)$ is defined by"
   ]
  },
  {
   "attachments": {},
   "cell_type": "markdown",
   "metadata": {},
   "source": [
    "$$ \n",
    "\\begin{align*}\n",
    "C_{XY}(t_1,t_2)&=\\textrm{Cov}\\big(X(t_1),Y(t_2)\\big)\\\\\n",
    "&=R_{XY}(t_1,t_2)-\\mu_X(t_1) \\mu_Y(t_2), \\quad \\textrm{for }t_1,t_2 \\in J.\n",
    "\\end{align*}\n",
    "$$"
   ]
  },
  {
   "attachments": {},
   "cell_type": "markdown",
   "metadata": {},
   "source": [
    "## Independent Random Processes"
   ]
  },
  {
   "attachments": {},
   "cell_type": "markdown",
   "metadata": {},
   "source": [
    "Let's define two random processes $\\big\\{X(t), t \\in J \\big\\}$ and $\\big\\{Y(t), t \\in J' \\big\\}$. Then they are independent if, for all\n",
    "$$\n",
    "\\begin{align*}%\\label{}\n",
    "& t_1,t_2, \\dots, t_m \\in J\\\\\n",
    "& \\quad \\quad \\textrm{and}\\\\\n",
    "& t'_1,t'_2, \\dots, t'_n \\in J',\n",
    "\\end{align*}\n",
    "$$"
   ]
  },
  {
   "attachments": {},
   "cell_type": "markdown",
   "metadata": {},
   "source": [
    "the set of random variables\n",
    "$$\n",
    "\\begin{align*}%\\label{}\n",
    "& X(t_1), X(t_2), \\cdots, X(t_m)\n",
    "\\end{align*}\n",
    "$$"
   ]
  },
  {
   "attachments": {},
   "cell_type": "markdown",
   "metadata": {},
   "source": [
    "are independent of the set of random variables:\n",
    "$$\n",
    "\\begin{align*}%\\label{}\n",
    "& Y(t'_1), Y(t'_2), \\cdots, Y(t'_n)\n",
    "\\end{align*}\n",
    "$$"
   ]
  },
  {
   "attachments": {},
   "cell_type": "markdown",
   "metadata": {},
   "source": [
    "The above definition implies that for all real numbers $x_1, x_2, \\dots, x_m$ and $y_1, y_2, \\dots, y_n$,\n",
    "$$\n",
    "\\begin{align*}%\\label{}\n",
    "\\nonumber &F_{X(t_1), X(t_2), \\cdots, X(t_m), Y(t'_1), Y(t'_2), \\cdots, Y(t'_n)}(x_1,x_2,\\cdots,x_m,y_1,y_2,\\cdots, y_n) \\\\\n",
    "& \\quad = F_{X(t_1), X(t_2), \\cdots, X(t_m)}(x_1,x_2,\\cdots,x_m) \\cdot F_{Y(t'_1), Y(t'_2), \\cdots, Y(t'_n)}(y_1,y_2,\\cdots, y_n).\n",
    "\\end{align*}\n",
    "$$"
   ]
  },
  {
   "attachments": {},
   "cell_type": "markdown",
   "metadata": {},
   "source": [
    "> If two random processes are independent, they covariance function is zero."
   ]
  },
  {
   "attachments": {},
   "cell_type": "markdown",
   "metadata": {},
   "source": [
    "# Stationary Processes"
   ]
  },
  {
   "attachments": {},
   "cell_type": "markdown",
   "metadata": {},
   "source": [
    "Intuitively, a random process $\\big\\{X(t), t \\in J \\big\\}$ is stationary if its statistical properties do not change by time. For example, for a stationary process, $X(t)$ and $X(t+\\Delta)$ have the same probability distributions. In particular, we have\n",
    "$$\n",
    "\\begin{align*}%\\label{}\n",
    "F_{X(t)}(x)=F_{X(t+\\Delta)}(x), \\quad \\textrm{ for all }t, t+\\Delta \\in J.\n",
    "\\end{align*}\n",
    "$$"
   ]
  },
  {
   "attachments": {},
   "cell_type": "markdown",
   "metadata": {},
   "source": [
    "## Strict-Sense Stationarity"
   ]
  },
  {
   "attachments": {},
   "cell_type": "markdown",
   "metadata": {},
   "source": [
    "### For Continuos Time Random Process"
   ]
  },
  {
   "attachments": {},
   "cell_type": "markdown",
   "metadata": {},
   "source": [
    "A continuous-time random process ${X(t),t\\in R}$ is strict-sense stationary or simply stationary if, for all $t_1,t_2,\\cdots, t_r \\in \\mathbb{R}$ and all $\\Delta \\in \\mathbb{R}$, the joint CDF of\n",
    "$$\n",
    "\\begin{align*}%\\label{}\n",
    "X(t_1), X(t_2), \\cdots, X(t_r)\n",
    "\\end{align*}\n",
    "$$\n",
    "is the same as the joint CDF of\n",
    "$$\n",
    "\\begin{align*}%\\label{}\n",
    "X(t_1+\\Delta), X(t_2+\\Delta), \\cdots, X(t_r+\\Delta).\n",
    "\\end{align*}\n",
    "$$\n",
    "\n",
    "That is, for all real numbers $x_1,x_2, \\cdots,x_r$, we have\n",
    "$$\n",
    "F_{X(t_1) X(t_2) \\cdots X(t_r)}(x_1,x_2,\\cdots, x_r)= F_{X(t_1+\\Delta) X(t_2+\\Delta) \\cdots X(t_r+\\Delta)}(x_1,x_2,\\cdots, x_r).\n",
    "$$\n"
   ]
  },
  {
   "attachments": {},
   "cell_type": "markdown",
   "metadata": {},
   "source": [
    "### For Discrete Time Random Process"
   ]
  },
  {
   "attachments": {},
   "cell_type": "markdown",
   "metadata": {},
   "source": [
    "A continuous-time random process ${X(t),t\\in Z}$ is strict-sense stationary or simply stationary if, for all $n_1,n_2,\\cdots, n_r \\in \\mathbb{X}$ and all $D \\in \\mathbb{Z}$, the joint CDF of\n",
    "$$\n",
    "\\begin{align*}%\\label{}\n",
    "X(n_1), X(n_2), \\cdots, X(n_r)\n",
    "\\end{align*}\n",
    "$$\n",
    "is the same as the joint CDF of\n",
    "$$\n",
    "\\begin{align*}%\\label{}\n",
    "X(n_1+D), X(n_2+D), \\cdots, X(n_r+D).\n",
    "\\end{align*}\n",
    "$$\n",
    "\n",
    "That is, for all real numbers $x_1,x_2, \\cdots,x_r$, we have\n",
    "$$\n",
    "F_{X(n_1) X(n_2) \\cdots X(n_r)}(x_1,x_2,\\cdots, x_r)= F_{X(n_1+D) X(n_2+D) \\cdots X(n_r+D)}(x_1,x_2,\\cdots, x_r).\n",
    "$$\n"
   ]
  },
  {
   "attachments": {},
   "cell_type": "markdown",
   "metadata": {},
   "source": [
    "## Weak-Sense Stationary Processes"
   ]
  },
  {
   "attachments": {},
   "cell_type": "markdown",
   "metadata": {},
   "source": [
    "A continuous-time random process $\\big\\{X(t), t \\in \\mathbb{R}\\big\\}$ is weak-sense stationary or wide-sense stationary (WSS) if\n",
    "\n",
    "1. $\\mu_X(t) = \\mu_X$, for all $t \\in \\mathbb{R}$, and\n",
    "2. $R_X(t_1,t_2)=R_X(t_1-t_2)$ for all $t_1,t_2 \\in \\mathbb{R}$."
   ]
  },
  {
   "attachments": {},
   "cell_type": "markdown",
   "metadata": {},
   "source": [
    "Similarly, a discrete-time random process $\\big\\{X(t), t \\in \\mathbb{Z}\\big\\}$ is weak-sense stationary or wide-sense stationary (WSS) if\n",
    "\n",
    "1. $\\mu_X(n) = \\mu_X$, for all $n \\in \\mathbb{Z}$, and\n",
    "2. $R_X(n_1,n_2)=R_X(n_1-n_2)$ for all $n_1,n_2 \\in \\mathbb{Z}$."
   ]
  },
  {
   "attachments": {},
   "cell_type": "markdown",
   "metadata": {},
   "source": [
    "### An Example of WSS"
   ]
  },
  {
   "attachments": {},
   "cell_type": "markdown",
   "metadata": {},
   "source": [
    "We'll show that the random process:\n",
    "\n",
    "$$\n",
    "\\begin{align*}%\\label{}\n",
    "X(t)=\\cos (t+U),\n",
    "\\end{align*}\n",
    "$$\n",
    "\n",
    "where $U \\sim Uniform(0,2\\pi)$ is WSS process."
   ]
  },
  {
   "attachments": {},
   "cell_type": "markdown",
   "metadata": {},
   "source": [
    "We need to check the two points:"
   ]
  },
  {
   "attachments": {},
   "cell_type": "markdown",
   "metadata": {},
   "source": [
    "1. $\\mu_X(t) = \\mu_X$, for all $t \\in \\mathbb{R}$, and\n",
    "2. $R_X(t_1,t_2)=R_X(t_1-t_2)$ for all $t_1,t_2 \\in \\mathbb{R}$."
   ]
  },
  {
   "attachments": {},
   "cell_type": "markdown",
   "metadata": {},
   "source": [
    "First:"
   ]
  },
  {
   "attachments": {},
   "cell_type": "markdown",
   "metadata": {},
   "source": [
    "$$\n",
    "\\begin{align*}%\\label{}\n",
    "\\mu_X(t) &=E[X(t)]\\\\\n",
    "&=E[\\cos(t+U)]\\\\\n",
    "&=\\int_{0}^{2\\pi} \\cos(t+u) \\frac{1}{2\\pi} \\; du \\\\\n",
    "&=0, \\quad \\textrm{ for all $t\\in \\mathbb{R}$.}\n",
    "\\end{align*}\n",
    "$$"
   ]
  },
  {
   "attachments": {},
   "cell_type": "markdown",
   "metadata": {},
   "source": [
    "And then:"
   ]
  },
  {
   "attachments": {},
   "cell_type": "markdown",
   "metadata": {},
   "source": [
    "$$\n",
    "\\begin{align*}%\\label{}\n",
    "R_X(t_1,t_2) &=E[X(t_1)X(t_2)]\\\\\n",
    "&=E[\\cos(t_1+U) \\cos(t_2+U)]\\\\\n",
    "&=E\\left[\\frac{1}{2} \\cos(t_1+t_2+2U)+\\frac{1}{2} \\cos(t_1-t_2) \\right]\\\\\n",
    "&=E\\left[\\frac{1}{2} \\cos(t_1+t_2+2U)\\right]+E\\left[\\frac{1}{2} \\cos(t_1-t_2) \\right]\\\\\n",
    "&=\\int_{0}^{2\\pi} \\cos(t_1+t_2+u) \\frac{1}{2\\pi} \\; du + \\frac{1}{2} \\cos(t_1-t_2)\\\\\n",
    "&=0+ \\frac{1}{2} \\cos(t_1-t_2)\\\\\n",
    "&=\\frac{1}{2} \\cos(t_1-t_2), \\quad \\textrm{ for all $t_1,t_2 \\in \\mathbb{R}$.}\n",
    "\\end{align*}\n",
    "$$"
   ]
  },
  {
   "attachments": {},
   "cell_type": "markdown",
   "metadata": {},
   "source": [
    "> Note that $R_X(\\tau)=R_X(-\\tau), \\quad \\textrm{for all } \\tau \\in \\mathbb{R}$, that is, $R_X(\\tau)$ is even function."
   ]
  },
  {
   "attachments": {},
   "cell_type": "markdown",
   "metadata": {},
   "source": [
    "## Jointly Wide-Sense Stationary Processes"
   ]
  },
  {
   "attachments": {},
   "cell_type": "markdown",
   "metadata": {},
   "source": [
    "We often work with multiple random processes, so we extend the concept of wide-sense stationarity to more than one process. More specifically, we can talk about jointly wide-sense stationary processes."
   ]
  },
  {
   "attachments": {},
   "cell_type": "markdown",
   "metadata": {},
   "source": [
    "Two random processes $\\big\\{X(t), t \\in J \\big\\}$ and $\\big\\{Y(t), t \\in J \\big\\}$ are said to be jointly wide-sense stationary if\n",
    "1. $X(t)$ and $Y(t)$ are wide-sense stationary for all $t \\in J$, and\n",
    "2. $R_{XY}(t_1,t_2)=R_{XY}(t_1-t_2)$"
   ]
  },
  {
   "attachments": {},
   "cell_type": "markdown",
   "metadata": {},
   "source": [
    "## Derivatives and Integrals of Random Processes"
   ]
  },
  {
   "attachments": {},
   "cell_type": "markdown",
   "metadata": {},
   "source": [
    "### Mean-Square Continuous"
   ]
  },
  {
   "attachments": {},
   "cell_type": "markdown",
   "metadata": {},
   "source": [
    "Let $X(t)$ be a continuous-time random process. We say that $X(t)$ is mean-square continuous at time $t$ if\n",
    "\n",
    "$$\n",
    "\\begin{align*}\n",
    "\\lim_{\\delta\\rightarrow 0} E\\bigg[\\big|X(t+\\delta)-X(t)\\big|^2\\bigg]=0.\n",
    "\\end{align*}\n",
    "$$"
   ]
  },
  {
   "attachments": {},
   "cell_type": "markdown",
   "metadata": {},
   "source": [
    "### Derivative of a Random Process"
   ]
  },
  {
   "attachments": {},
   "cell_type": "markdown",
   "metadata": {},
   "source": [
    "The derivative of a random process:\n",
    "\n",
    "$$\n",
    "Y(t)=\\frac{d}{dt} X(t)\n",
    "$$\n",
    "is a random process."
   ]
  },
  {
   "attachments": {},
   "cell_type": "markdown",
   "metadata": {},
   "source": [
    "For nice and smooth processes, the derivative can be obtained in a natural way. For example, if you have a random process defined as\n",
    "\n",
    "$$\n",
    "\\begin{align*}%\\label{}\n",
    "X(t)=A+Bt+Ct^2, \\quad \\textrm{ for all }t \\in [0,\\infty),\n",
    "\\end{align*}\n",
    "$$"
   ]
  },
  {
   "attachments": {},
   "cell_type": "markdown",
   "metadata": {},
   "source": [
    "where $A$, $B$, and $C$ are random variables, then the derivative of $X(t)$ can be written as:\n",
    "$$\n",
    "\\begin{align*}%\\label{}\n",
    "X'(t)=B+2Ct, \\quad \\textrm{ for all }t \\in [0,\\infty).\n",
    "\\end{align*}\n",
    "$$"
   ]
  },
  {
   "attachments": {},
   "cell_type": "markdown",
   "metadata": {},
   "source": [
    "### Some Formula Regarding Expectation Values, Derivatives and Integrals"
   ]
  },
  {
   "attachments": {},
   "cell_type": "markdown",
   "metadata": {},
   "source": [
    "$$\n",
    "\\begin{align*}%\\label{}\n",
    "E\\left[\\int_{0}^{t} X(u)du\\right]=\\int_{0}^{t}E[X(u)]du.\n",
    "\\end{align*}\n",
    "$$"
   ]
  },
  {
   "attachments": {},
   "cell_type": "markdown",
   "metadata": {},
   "source": [
    "$$\n",
    "\\begin{align*}%\\label{}\n",
    "E\\left[\\frac{d}{dt} X(t)\\right]= \\frac{d}{dt} E[X(t)].\n",
    "\\end{align*}\n",
    "$$"
   ]
  },
  {
   "attachments": {},
   "cell_type": "markdown",
   "metadata": {},
   "source": [
    "$$\n",
    "\\begin{align*}%\\label{}\n",
    "R_{XX'}(t_1,t_2)=\\frac{\\partial}{\\partial t_2} R_X(t_1,t_2).\n",
    "\\end{align*}\n",
    "$$"
   ]
  }
 ],
 "metadata": {
  "kernelspec": {
   "display_name": "pystock",
   "language": "python",
   "name": "python3"
  },
  "language_info": {
   "name": "python",
   "version": "3.10.8"
  },
  "orig_nbformat": 4,
  "vscode": {
   "interpreter": {
    "hash": "7ebaacb0403aebb325b7fb1ecd0dc0a490fa477092d0e43a0ad42b3d0b95a2ea"
   }
  }
 },
 "nbformat": 4,
 "nbformat_minor": 2
}
