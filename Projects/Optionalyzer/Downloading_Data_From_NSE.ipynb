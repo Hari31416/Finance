{
 "cells": [
  {
   "cell_type": "code",
   "execution_count": 1,
   "metadata": {},
   "outputs": [],
   "source": [
    "import pandas as pd\n",
    "import numpy as np\n",
    "import matplotlib.pyplot as plt\n",
    "import seaborn as sns\n",
    "\n",
    "import requests\n",
    "import bs4\n",
    "\n",
    "import webdriver_manager\n",
    "from selenium.webdriver.common.by import By\n",
    "from selenium.webdriver.common.keys import Keys\n",
    "from selenium import webdriver\n",
    "from webdriver_manager.chrome import ChromeDriverManager\n",
    "from webdriver_manager.firefox import GeckoDriverManager\n",
    "from selenium.webdriver.chrome.service import Service as ChromeService\n",
    "from IPython.display import clear_output"
   ]
  },
  {
   "cell_type": "code",
   "execution_count": 3,
   "metadata": {},
   "outputs": [
    {
     "name": "stderr",
     "output_type": "stream",
     "text": [
      "[WDM] - Downloading: 19.0kB [00:00, 2.83MB/s]                   \n"
     ]
    }
   ],
   "source": [
    "path = GeckoDriverManager().install()"
   ]
  },
  {
   "cell_type": "code",
   "execution_count": 4,
   "metadata": {},
   "outputs": [
    {
     "data": {
      "text/plain": [
       "'/home/hari31416/.wdm/drivers/geckodriver/linux64/0.32/geckodriver'"
      ]
     },
     "execution_count": 4,
     "metadata": {},
     "output_type": "execute_result"
    }
   ],
   "source": [
    "path"
   ]
  },
  {
   "cell_type": "code",
   "execution_count": 6,
   "metadata": {},
   "outputs": [
    {
     "name": "stderr",
     "output_type": "stream",
     "text": [
      "/tmp/ipykernel_17202/1932389138.py:1: DeprecationWarning: executable_path has been deprecated, please pass in a Service object\n",
      "  driver = webdriver.Firefox(executable_path=path)\n"
     ]
    },
    {
     "ename": "WebDriverException",
     "evalue": "Message: Process unexpectedly closed with status 127\n",
     "output_type": "error",
     "traceback": [
      "\u001b[0;31m---------------------------------------------------------------------------\u001b[0m",
      "\u001b[0;31mWebDriverException\u001b[0m                        Traceback (most recent call last)",
      "Cell \u001b[0;32mIn[6], line 1\u001b[0m\n\u001b[0;32m----> 1\u001b[0m driver \u001b[39m=\u001b[39m webdriver\u001b[39m.\u001b[39;49mFirefox(executable_path\u001b[39m=\u001b[39;49mpath)\n",
      "File \u001b[0;32m~/anaconda3/envs/data-science/lib/python3.9/site-packages/selenium/webdriver/firefox/webdriver.py:197\u001b[0m, in \u001b[0;36mWebDriver.__init__\u001b[0;34m(self, firefox_profile, firefox_binary, capabilities, proxy, executable_path, options, service_log_path, service_args, service, desired_capabilities, log_path, keep_alive)\u001b[0m\n\u001b[1;32m    192\u001b[0m \u001b[39mself\u001b[39m\u001b[39m.\u001b[39mservice\u001b[39m.\u001b[39mstart()\n\u001b[1;32m    194\u001b[0m executor \u001b[39m=\u001b[39m FirefoxRemoteConnection(\n\u001b[1;32m    195\u001b[0m     remote_server_addr\u001b[39m=\u001b[39m\u001b[39mself\u001b[39m\u001b[39m.\u001b[39mservice\u001b[39m.\u001b[39mservice_url, ignore_proxy\u001b[39m=\u001b[39moptions\u001b[39m.\u001b[39m_ignore_local_proxy\n\u001b[1;32m    196\u001b[0m )\n\u001b[0;32m--> 197\u001b[0m \u001b[39msuper\u001b[39;49m()\u001b[39m.\u001b[39;49m\u001b[39m__init__\u001b[39;49m(command_executor\u001b[39m=\u001b[39;49mexecutor, options\u001b[39m=\u001b[39;49moptions, keep_alive\u001b[39m=\u001b[39;49m\u001b[39mTrue\u001b[39;49;00m)\n\u001b[1;32m    199\u001b[0m \u001b[39mself\u001b[39m\u001b[39m.\u001b[39m_is_remote \u001b[39m=\u001b[39m \u001b[39mFalse\u001b[39;00m\n",
      "File \u001b[0;32m~/anaconda3/envs/data-science/lib/python3.9/site-packages/selenium/webdriver/remote/webdriver.py:288\u001b[0m, in \u001b[0;36mWebDriver.__init__\u001b[0;34m(self, command_executor, desired_capabilities, browser_profile, proxy, keep_alive, file_detector, options)\u001b[0m\n\u001b[1;32m    286\u001b[0m \u001b[39mself\u001b[39m\u001b[39m.\u001b[39m_authenticator_id \u001b[39m=\u001b[39m \u001b[39mNone\u001b[39;00m\n\u001b[1;32m    287\u001b[0m \u001b[39mself\u001b[39m\u001b[39m.\u001b[39mstart_client()\n\u001b[0;32m--> 288\u001b[0m \u001b[39mself\u001b[39;49m\u001b[39m.\u001b[39;49mstart_session(capabilities, browser_profile)\n",
      "File \u001b[0;32m~/anaconda3/envs/data-science/lib/python3.9/site-packages/selenium/webdriver/remote/webdriver.py:381\u001b[0m, in \u001b[0;36mWebDriver.start_session\u001b[0;34m(self, capabilities, browser_profile)\u001b[0m\n\u001b[1;32m    379\u001b[0m w3c_caps \u001b[39m=\u001b[39m _make_w3c_caps(capabilities)\n\u001b[1;32m    380\u001b[0m parameters \u001b[39m=\u001b[39m {\u001b[39m\"\u001b[39m\u001b[39mcapabilities\u001b[39m\u001b[39m\"\u001b[39m: w3c_caps}\n\u001b[0;32m--> 381\u001b[0m response \u001b[39m=\u001b[39m \u001b[39mself\u001b[39;49m\u001b[39m.\u001b[39;49mexecute(Command\u001b[39m.\u001b[39;49mNEW_SESSION, parameters)\n\u001b[1;32m    382\u001b[0m \u001b[39mif\u001b[39;00m \u001b[39m\"\u001b[39m\u001b[39msessionId\u001b[39m\u001b[39m\"\u001b[39m \u001b[39mnot\u001b[39;00m \u001b[39min\u001b[39;00m response:\n\u001b[1;32m    383\u001b[0m     response \u001b[39m=\u001b[39m response[\u001b[39m\"\u001b[39m\u001b[39mvalue\u001b[39m\u001b[39m\"\u001b[39m]\n",
      "File \u001b[0;32m~/anaconda3/envs/data-science/lib/python3.9/site-packages/selenium/webdriver/remote/webdriver.py:444\u001b[0m, in \u001b[0;36mWebDriver.execute\u001b[0;34m(self, driver_command, params)\u001b[0m\n\u001b[1;32m    442\u001b[0m response \u001b[39m=\u001b[39m \u001b[39mself\u001b[39m\u001b[39m.\u001b[39mcommand_executor\u001b[39m.\u001b[39mexecute(driver_command, params)\n\u001b[1;32m    443\u001b[0m \u001b[39mif\u001b[39;00m response:\n\u001b[0;32m--> 444\u001b[0m     \u001b[39mself\u001b[39;49m\u001b[39m.\u001b[39;49merror_handler\u001b[39m.\u001b[39;49mcheck_response(response)\n\u001b[1;32m    445\u001b[0m     response[\u001b[39m\"\u001b[39m\u001b[39mvalue\u001b[39m\u001b[39m\"\u001b[39m] \u001b[39m=\u001b[39m \u001b[39mself\u001b[39m\u001b[39m.\u001b[39m_unwrap_value(response\u001b[39m.\u001b[39mget(\u001b[39m\"\u001b[39m\u001b[39mvalue\u001b[39m\u001b[39m\"\u001b[39m, \u001b[39mNone\u001b[39;00m))\n\u001b[1;32m    446\u001b[0m     \u001b[39mreturn\u001b[39;00m response\n",
      "File \u001b[0;32m~/anaconda3/envs/data-science/lib/python3.9/site-packages/selenium/webdriver/remote/errorhandler.py:249\u001b[0m, in \u001b[0;36mErrorHandler.check_response\u001b[0;34m(self, response)\u001b[0m\n\u001b[1;32m    247\u001b[0m         alert_text \u001b[39m=\u001b[39m value[\u001b[39m\"\u001b[39m\u001b[39malert\u001b[39m\u001b[39m\"\u001b[39m]\u001b[39m.\u001b[39mget(\u001b[39m\"\u001b[39m\u001b[39mtext\u001b[39m\u001b[39m\"\u001b[39m)\n\u001b[1;32m    248\u001b[0m     \u001b[39mraise\u001b[39;00m exception_class(message, screen, stacktrace, alert_text)  \u001b[39m# type: ignore[call-arg]  # mypy is not smart enough here\u001b[39;00m\n\u001b[0;32m--> 249\u001b[0m \u001b[39mraise\u001b[39;00m exception_class(message, screen, stacktrace)\n",
      "\u001b[0;31mWebDriverException\u001b[0m: Message: Process unexpectedly closed with status 127\n"
     ]
    }
   ],
   "source": [
    "driver = webdriver.Firefox(executable_path=path)"
   ]
  },
  {
   "cell_type": "code",
   "execution_count": 84,
   "metadata": {},
   "outputs": [],
   "source": [
    "driver = webdriver.Chrome(service=ChromeService(ChromeDriverManager().install()))"
   ]
  },
  {
   "cell_type": "code",
   "execution_count": 85,
   "metadata": {},
   "outputs": [],
   "source": [
    "driver.get(\"https://www1.nseindia.com/products/content/derivatives/equities/historical_fo.htm\")"
   ]
  },
  {
   "cell_type": "code",
   "execution_count": 69,
   "metadata": {},
   "outputs": [],
   "source": [
    "type_btn = driver.find_element(By.ID, \"instrumentType\")\n",
    "symbol_btn = driver.find_element(By.ID, \"symbol\")\n",
    "year_btn = driver.find_element(By.ID, \"year\")\n",
    "expiry_date_btn = driver.find_element(By.ID, \"expiryDate\")\n",
    "option_type_btn = driver.find_element(By.ID, \"optionType\")\n",
    "price_btn = driver.find_element(By.ID, \"strikePrice\")\n",
    "dates_btn = driver.find_element(By.ID, \"dateRange\")\n",
    "start_date_btn = driver.find_element(By.ID, \"fromDate\")\n",
    "end_date_btn = driver.find_element(By.ID, \"toDate\")\n",
    "submit_btn = driver.find_element(By.ID, \"getButton\")"
   ]
  },
  {
   "cell_type": "code",
   "execution_count": 44,
   "metadata": {},
   "outputs": [],
   "source": [
    "btns = [type_btn, symbol_btn, year_btn, expiry_date_btn, option_type_btn, dates_btn]"
   ]
  },
  {
   "cell_type": "code",
   "execution_count": 35,
   "metadata": {},
   "outputs": [],
   "source": [
    "def give_all_options(dropdown):\n",
    "    options = dropdown.find_elements(By.TAG_NAME, \"option\")\n",
    "    for o in options:\n",
    "        print(o.text.strip())"
   ]
  },
  {
   "cell_type": "code",
   "execution_count": 60,
   "metadata": {},
   "outputs": [],
   "source": [
    "def click_option(dropdown, option):\n",
    "    options = dropdown.find_elements(By.TAG_NAME, \"option\")\n",
    "    for o in options:\n",
    "        if o.text.strip()==option:\n",
    "            o.click()\n",
    "            return 1\n",
    "    return 0"
   ]
  },
  {
   "cell_type": "code",
   "execution_count": 62,
   "metadata": {},
   "outputs": [
    {
     "name": "stdout",
     "output_type": "stream",
     "text": [
      "Select Instrument Type\n",
      "Index Futures\n",
      "Stock Futures\n",
      "Index Options\n"
     ]
    },
    {
     "data": {
      "text/plain": [
       "1"
      ]
     },
     "execution_count": 62,
     "metadata": {},
     "output_type": "execute_result"
    }
   ],
   "source": [
    "click_option(type_btn, \"Index Options\")"
   ]
  },
  {
   "cell_type": "code",
   "execution_count": null,
   "metadata": {},
   "outputs": [],
   "source": [
    "def select_options(type_ = \"Index Futures\", symbol=\"NIFTY 50\", year=\"2022\", expiry_date = \"29-12-2022\", option_type=\"CE\", strike_price = 18000, range=\"90 Days\"):\n",
    "    pass"
   ]
  },
  {
   "cell_type": "code",
   "execution_count": 66,
   "metadata": {},
   "outputs": [
    {
     "name": "stdout",
     "output_type": "stream",
     "text": [
      "1 Day\n",
      "7 Days\n",
      "15 Days\n",
      "30 Days\n",
      "90 Days\n",
      "365 Days\n",
      "24 Months\n"
     ]
    }
   ],
   "source": [
    "give_all_options(dates_btn)"
   ]
  },
  {
   "cell_type": "code",
   "execution_count": 72,
   "metadata": {},
   "outputs": [],
   "source": [
    "cookies = driver.get_cookies()"
   ]
  },
  {
   "cell_type": "code",
   "execution_count": 70,
   "metadata": {},
   "outputs": [],
   "source": [
    "url = \"https://www1.nseindia.com/products/dynaContent/common/productsSymbolMapping.jsp?instrumentType=OPTIDX&symbol=NIFTY&expiryDate=27-12-2022&optionType=CE&strikePrice=&dateRange=1month&fromDate=&toDate=&segmentLink=9&symbolCount=\""
   ]
  },
  {
   "cell_type": "code",
   "execution_count": 71,
   "metadata": {},
   "outputs": [],
   "source": [
    "import requests"
   ]
  },
  {
   "cell_type": "code",
   "execution_count": 77,
   "metadata": {},
   "outputs": [
    {
     "data": {
      "text/plain": [
       "{'domain': '.nseindia.com',\n",
       " 'expiry': 1672919130,\n",
       " 'httpOnly': True,\n",
       " 'name': 'ak_bmsc',\n",
       " 'path': '/',\n",
       " 'secure': False,\n",
       " 'value': '3B99E3CAAAFFE51396EE49454D64318A~000000000000000000000000000000~YAAQpP3UF5Bz+BiFAQAA8hBRgRIYpdLy6d0wTpBWkvPMPjgBJ7W/8tEDvxlBo2YCKk6N2WVJADCBG6ttKqi47HK8UtUF11BRJpgjrvfmldYdGjmgLHFmltepj/4xq/ie8tuHunlEjK/5jl1Bhn2Ol0wnQM2zj0lem+Mxy85rfPL4Y6shpoWMWTOYDPg5JGOH/99m7nGaYlvxwZdamHku/41XLEgYkmtY06N8D6Bf+nCbyAqU5SJ9H08nuOo/+P/ktenKJZI9ebCT3Sd5HnJfL5dPsJJPLSmm1PjBvOhHfmLCQYVehvb/hLAg5pEU1nMpKDM/Pfw8HhnbwZWyiDnIwfvKQvEEnsp3rqpc8/wsyMYPpsRBo/6WS1Aw/b7ZVtIaAC6cDx7zKHH0eFUGmsZcpEMOqS0T4NCLlE4qQKlm+IpqYCQBlDQTXtwrvAm16KZuij/0VWNSvSy/JfqTFNpFT8YQ1TK+joBAuUp9+d/0YLzKDPZj6QWPIie8+dPrLW1+jnYGc/Pfx7fMaEavWncjCVm8f3k='}"
      ]
     },
     "execution_count": 77,
     "metadata": {},
     "output_type": "execute_result"
    }
   ],
   "source": [
    "cookies[0]"
   ]
  },
  {
   "cell_type": "code",
   "execution_count": 81,
   "metadata": {},
   "outputs": [],
   "source": [
    "cooki = cookies[0]\n",
    "for key, value in cooki.items():\n",
    "    cooki[key] = str(value)"
   ]
  },
  {
   "cell_type": "code",
   "execution_count": 82,
   "metadata": {},
   "outputs": [
    {
     "data": {
      "text/plain": [
       "{'domain': '.nseindia.com',\n",
       " 'expiry': '1672919130',\n",
       " 'httpOnly': 'True',\n",
       " 'name': 'ak_bmsc',\n",
       " 'path': '/',\n",
       " 'secure': 'False',\n",
       " 'value': '3B99E3CAAAFFE51396EE49454D64318A~000000000000000000000000000000~YAAQpP3UF5Bz+BiFAQAA8hBRgRIYpdLy6d0wTpBWkvPMPjgBJ7W/8tEDvxlBo2YCKk6N2WVJADCBG6ttKqi47HK8UtUF11BRJpgjrvfmldYdGjmgLHFmltepj/4xq/ie8tuHunlEjK/5jl1Bhn2Ol0wnQM2zj0lem+Mxy85rfPL4Y6shpoWMWTOYDPg5JGOH/99m7nGaYlvxwZdamHku/41XLEgYkmtY06N8D6Bf+nCbyAqU5SJ9H08nuOo/+P/ktenKJZI9ebCT3Sd5HnJfL5dPsJJPLSmm1PjBvOhHfmLCQYVehvb/hLAg5pEU1nMpKDM/Pfw8HhnbwZWyiDnIwfvKQvEEnsp3rqpc8/wsyMYPpsRBo/6WS1Aw/b7ZVtIaAC6cDx7zKHH0eFUGmsZcpEMOqS0T4NCLlE4qQKlm+IpqYCQBlDQTXtwrvAm16KZuij/0VWNSvSy/JfqTFNpFT8YQ1TK+joBAuUp9+d/0YLzKDPZj6QWPIie8+dPrLW1+jnYGc/Pfx7fMaEavWncjCVm8f3k='}"
      ]
     },
     "execution_count": 82,
     "metadata": {},
     "output_type": "execute_result"
    }
   ],
   "source": [
    "cooki"
   ]
  },
  {
   "cell_type": "code",
   "execution_count": null,
   "metadata": {},
   "outputs": [],
   "source": []
  }
 ],
 "metadata": {
  "kernelspec": {
   "display_name": "data-science",
   "language": "python",
   "name": "python3"
  },
  "language_info": {
   "codemirror_mode": {
    "name": "ipython",
    "version": 3
   },
   "file_extension": ".py",
   "mimetype": "text/x-python",
   "name": "python",
   "nbconvert_exporter": "python",
   "pygments_lexer": "ipython3",
   "version": "3.9.15 (main, Nov 24 2022, 14:31:59) \n[GCC 11.2.0]"
  },
  "orig_nbformat": 4,
  "vscode": {
   "interpreter": {
    "hash": "2efee1efa502125d01e6b4768ba06d9453d29f3642bfd14ad5d4a769de82e88c"
   }
  }
 },
 "nbformat": 4,
 "nbformat_minor": 2
}
