{
 "cells": [
  {
   "cell_type": "code",
   "execution_count": 1,
   "metadata": {},
   "outputs": [],
   "source": [
    "from optionalyzer.blackscholes import BlackScholes\n",
    "import pandas as pd\n",
    "import datetime\n",
    "import numpy as np\n",
    "import yfinance"
   ]
  },
  {
   "cell_type": "code",
   "execution_count": 2,
   "metadata": {},
   "outputs": [
    {
     "name": "stdout",
     "output_type": "stream",
     "text": [
      "113.05999755859375\n"
     ]
    }
   ],
   "source": [
    "tesla = yfinance.Ticker(\"TSLA\")\n",
    "\n",
    "#Load at the money options\n",
    "options = tesla.option_chain(date=\"2023-04-21\")\n",
    "calls = options.calls\n",
    "puts = options.puts\n",
    "\n",
    "spot_price = tesla.history(period=\"1d\")['Close'][0]\n",
    "print(spot_price)\n",
    "\n",
    "#At the money options\n",
    "calls = calls[((calls['strike'] - spot_price) < 10) & ((calls['strike'] - spot_price) > -10)]\n",
    "puts = puts[((puts['strike'] - spot_price) < 10) & ((puts['strike'] - spot_price) > -10)]\n"
   ]
  },
  {
   "cell_type": "code",
   "execution_count": 3,
   "metadata": {},
   "outputs": [],
   "source": [
    "calls = calls[[\"lastTradeDate\", \"strike\", \"lastPrice\", \"percentChange\"]]\n",
    "puts = puts[[\"lastTradeDate\", \"strike\", \"lastPrice\", \"percentChange\"]]"
   ]
  },
  {
   "cell_type": "code",
   "execution_count": 4,
   "metadata": {},
   "outputs": [
    {
     "data": {
      "text/html": [
       "<div>\n",
       "<style scoped>\n",
       "    .dataframe tbody tr th:only-of-type {\n",
       "        vertical-align: middle;\n",
       "    }\n",
       "\n",
       "    .dataframe tbody tr th {\n",
       "        vertical-align: top;\n",
       "    }\n",
       "\n",
       "    .dataframe thead th {\n",
       "        text-align: right;\n",
       "    }\n",
       "</style>\n",
       "<table border=\"1\" class=\"dataframe\">\n",
       "  <thead>\n",
       "    <tr style=\"text-align: right;\">\n",
       "      <th></th>\n",
       "      <th>lastTradeDate</th>\n",
       "      <th>strike</th>\n",
       "      <th>lastPrice</th>\n",
       "      <th>percentChange</th>\n",
       "    </tr>\n",
       "  </thead>\n",
       "  <tbody>\n",
       "    <tr>\n",
       "      <th>11</th>\n",
       "      <td>2023-01-06 20:59:04+00:00</td>\n",
       "      <td>105.00</td>\n",
       "      <td>22.80</td>\n",
       "      <td>8.830542</td>\n",
       "    </tr>\n",
       "    <tr>\n",
       "      <th>12</th>\n",
       "      <td>2023-01-06 19:44:25+00:00</td>\n",
       "      <td>108.33</td>\n",
       "      <td>21.50</td>\n",
       "      <td>11.979162</td>\n",
       "    </tr>\n",
       "    <tr>\n",
       "      <th>13</th>\n",
       "      <td>2023-01-06 20:54:40+00:00</td>\n",
       "      <td>110.00</td>\n",
       "      <td>20.10</td>\n",
       "      <td>10.136989</td>\n",
       "    </tr>\n",
       "    <tr>\n",
       "      <th>14</th>\n",
       "      <td>2023-01-06 20:48:27+00:00</td>\n",
       "      <td>115.00</td>\n",
       "      <td>17.45</td>\n",
       "      <td>9.473032</td>\n",
       "    </tr>\n",
       "    <tr>\n",
       "      <th>15</th>\n",
       "      <td>2023-01-06 19:13:27+00:00</td>\n",
       "      <td>116.67</td>\n",
       "      <td>16.70</td>\n",
       "      <td>10.231030</td>\n",
       "    </tr>\n",
       "    <tr>\n",
       "      <th>16</th>\n",
       "      <td>2023-01-06 20:56:07+00:00</td>\n",
       "      <td>120.00</td>\n",
       "      <td>15.45</td>\n",
       "      <td>11.471863</td>\n",
       "    </tr>\n",
       "  </tbody>\n",
       "</table>\n",
       "</div>"
      ],
      "text/plain": [
       "               lastTradeDate  strike  lastPrice  percentChange\n",
       "11 2023-01-06 20:59:04+00:00  105.00      22.80       8.830542\n",
       "12 2023-01-06 19:44:25+00:00  108.33      21.50      11.979162\n",
       "13 2023-01-06 20:54:40+00:00  110.00      20.10      10.136989\n",
       "14 2023-01-06 20:48:27+00:00  115.00      17.45       9.473032\n",
       "15 2023-01-06 19:13:27+00:00  116.67      16.70      10.231030\n",
       "16 2023-01-06 20:56:07+00:00  120.00      15.45      11.471863"
      ]
     },
     "execution_count": 4,
     "metadata": {},
     "output_type": "execute_result"
    }
   ],
   "source": [
    "calls"
   ]
  },
  {
   "cell_type": "code",
   "execution_count": 5,
   "metadata": {},
   "outputs": [
    {
     "data": {
      "text/html": [
       "<div>\n",
       "<style scoped>\n",
       "    .dataframe tbody tr th:only-of-type {\n",
       "        vertical-align: middle;\n",
       "    }\n",
       "\n",
       "    .dataframe tbody tr th {\n",
       "        vertical-align: top;\n",
       "    }\n",
       "\n",
       "    .dataframe thead th {\n",
       "        text-align: right;\n",
       "    }\n",
       "</style>\n",
       "<table border=\"1\" class=\"dataframe\">\n",
       "  <thead>\n",
       "    <tr style=\"text-align: right;\">\n",
       "      <th></th>\n",
       "      <th>lastTradeDate</th>\n",
       "      <th>strike</th>\n",
       "      <th>lastPrice</th>\n",
       "      <th>percentChange</th>\n",
       "    </tr>\n",
       "  </thead>\n",
       "  <tbody>\n",
       "    <tr>\n",
       "      <th>11</th>\n",
       "      <td>2023-01-06 20:52:15+00:00</td>\n",
       "      <td>105.00</td>\n",
       "      <td>13.20</td>\n",
       "      <td>-6.382982</td>\n",
       "    </tr>\n",
       "    <tr>\n",
       "      <th>12</th>\n",
       "      <td>2023-01-06 20:59:25+00:00</td>\n",
       "      <td>108.33</td>\n",
       "      <td>14.75</td>\n",
       "      <td>-4.220777</td>\n",
       "    </tr>\n",
       "    <tr>\n",
       "      <th>13</th>\n",
       "      <td>2023-01-06 20:56:54+00:00</td>\n",
       "      <td>110.00</td>\n",
       "      <td>15.52</td>\n",
       "      <td>-5.939391</td>\n",
       "    </tr>\n",
       "    <tr>\n",
       "      <th>14</th>\n",
       "      <td>2023-01-06 20:54:55+00:00</td>\n",
       "      <td>115.00</td>\n",
       "      <td>18.00</td>\n",
       "      <td>-5.013197</td>\n",
       "    </tr>\n",
       "    <tr>\n",
       "      <th>15</th>\n",
       "      <td>2023-01-06 20:44:24+00:00</td>\n",
       "      <td>116.67</td>\n",
       "      <td>18.97</td>\n",
       "      <td>-4.912288</td>\n",
       "    </tr>\n",
       "    <tr>\n",
       "      <th>16</th>\n",
       "      <td>2023-01-06 20:57:55+00:00</td>\n",
       "      <td>120.00</td>\n",
       "      <td>20.74</td>\n",
       "      <td>-4.993130</td>\n",
       "    </tr>\n",
       "  </tbody>\n",
       "</table>\n",
       "</div>"
      ],
      "text/plain": [
       "               lastTradeDate  strike  lastPrice  percentChange\n",
       "11 2023-01-06 20:52:15+00:00  105.00      13.20      -6.382982\n",
       "12 2023-01-06 20:59:25+00:00  108.33      14.75      -4.220777\n",
       "13 2023-01-06 20:56:54+00:00  110.00      15.52      -5.939391\n",
       "14 2023-01-06 20:54:55+00:00  115.00      18.00      -5.013197\n",
       "15 2023-01-06 20:44:24+00:00  116.67      18.97      -4.912288\n",
       "16 2023-01-06 20:57:55+00:00  120.00      20.74      -4.993130"
      ]
     },
     "execution_count": 5,
     "metadata": {},
     "output_type": "execute_result"
    }
   ],
   "source": [
    "puts"
   ]
  },
  {
   "cell_type": "code",
   "execution_count": 6,
   "metadata": {},
   "outputs": [],
   "source": [
    "strikes = calls['strike'].values\n",
    "call_prices = calls['lastPrice'].values\n",
    "\n",
    "put_prices = puts['lastPrice'].values\n"
   ]
  },
  {
   "cell_type": "code",
   "execution_count": 7,
   "metadata": {},
   "outputs": [],
   "source": [
    "bs = BlackScholes()"
   ]
  },
  {
   "cell_type": "code",
   "execution_count": 8,
   "metadata": {},
   "outputs": [
    {
     "name": "stdout",
     "output_type": "stream",
     "text": [
      "0.5854294125474527\n"
     ]
    }
   ],
   "source": [
    "df = pd.read_csv(\"../../Data/Stocks/nasdaq200/TSLA.csv\", parse_dates=[\"Date\"], index_col=\"Date\")\n",
    "df = df[df.index>=datetime.datetime(2016,1,1)]\n",
    "return_ = df[\"Close\"].pct_change(1).dropna()\n",
    "log_return = np.log(1+return_)\n",
    "sigma = log_return.std()*np.sqrt(252)\n",
    "print(sigma)"
   ]
  },
  {
   "cell_type": "code",
   "execution_count": 9,
   "metadata": {},
   "outputs": [
    {
     "name": "stdout",
     "output_type": "stream",
     "text": [
      "102\n"
     ]
    }
   ],
   "source": [
    "today = datetime.datetime.today()\n",
    "april_expiry_date = datetime.datetime(today.year, 4, 21)\n",
    "\n",
    "num_days = (april_expiry_date - today).days\n",
    "print(num_days)"
   ]
  },
  {
   "cell_type": "code",
   "execution_count": 10,
   "metadata": {},
   "outputs": [
    {
     "name": "stdout",
     "output_type": "stream",
     "text": [
      "Calculated Values: 19.537864858888383 13.31860220954642\n",
      "Trading Values: 21.5 14.75\n"
     ]
    }
   ],
   "source": [
    "S = spot_price\n",
    "id_ = 1\n",
    "K = strikes[id_]\n",
    "r = 0.0342\n",
    "tau = num_days/252\n",
    "\n",
    "call_price = bs.call(S,K,r,sigma, tau)\n",
    "put_price = bs.put(S,K,r,sigma, tau)\n",
    "\n",
    "print(\"Calculated Values:\", call_price, put_price)\n",
    "print(\"Trading Values:\", call_prices[id_], put_prices[id_])"
   ]
  },
  {
   "cell_type": "code",
   "execution_count": 11,
   "metadata": {},
   "outputs": [
    {
     "name": "stdout",
     "output_type": "stream",
     "text": [
      "Calculated Values: 15.866494878394235 17.872578201019053\n",
      "Trading Values: 16.7 18.97\n"
     ]
    }
   ],
   "source": [
    "S = spot_price\n",
    "id_ = 4\n",
    "K = strikes[id_]\n",
    "r = 0.0342\n",
    "tau = num_days/252\n",
    "\n",
    "call_price = bs.call(S,K,r,sigma, tau)\n",
    "put_price = bs.put(S,K,r,sigma, tau)\n",
    "\n",
    "print(\"Calculated Values:\", call_price, put_price)\n",
    "print(\"Trading Values:\", call_prices[id_], put_prices[id_])"
   ]
  },
  {
   "cell_type": "code",
   "execution_count": 12,
   "metadata": {},
   "outputs": [],
   "source": [
    "call_volas = []\n",
    "put_volas = []\n",
    "\n",
    "for i in range(len(strikes)):\n",
    "    call_vola =  bs.implied_volatility(call_prices[i], S=S, K=strikes[i], r=r, tau=tau, verbose=0, option_type=\"call\")\n",
    "    put_vola =  bs.implied_volatility(put_prices[i], S=S, K=strikes[i], r=r, tau=tau, verbose=0, option_type=\"put\")\n",
    "\n",
    "    call_volas.append(call_vola)\n",
    "    put_volas.append(put_vola)"
   ]
  },
  {
   "cell_type": "code",
   "execution_count": 13,
   "metadata": {},
   "outputs": [
    {
     "data": {
      "text/plain": [
       "[0.646726641414932,\n",
       " 0.6578991288547522,\n",
       " 0.6346324270076054,\n",
       " 0.6173089636017863,\n",
       " 0.6147819651193667,\n",
       " 0.6159793391940399]"
      ]
     },
     "execution_count": 13,
     "metadata": {},
     "output_type": "execute_result"
    }
   ],
   "source": [
    "call_volas"
   ]
  },
  {
   "cell_type": "code",
   "execution_count": 14,
   "metadata": {},
   "outputs": [
    {
     "data": {
      "text/plain": [
       "[0.6430543993629403,\n",
       " 0.638280587853104,\n",
       " 0.6343485117795314,\n",
       " 0.6240839897173708,\n",
       " 0.6240864560841277,\n",
       " 0.6159687051390069]"
      ]
     },
     "execution_count": 14,
     "metadata": {},
     "output_type": "execute_result"
    }
   ],
   "source": [
    "put_volas"
   ]
  }
 ],
 "metadata": {
  "kernelspec": {
   "display_name": "pystock",
   "language": "python",
   "name": "python3"
  },
  "language_info": {
   "codemirror_mode": {
    "name": "ipython",
    "version": 3
   },
   "file_extension": ".py",
   "mimetype": "text/x-python",
   "name": "python",
   "nbconvert_exporter": "python",
   "pygments_lexer": "ipython3",
   "version": "3.10.8"
  },
  "orig_nbformat": 4,
  "vscode": {
   "interpreter": {
    "hash": "7ebaacb0403aebb325b7fb1ecd0dc0a490fa477092d0e43a0ad42b3d0b95a2ea"
   }
  }
 },
 "nbformat": 4,
 "nbformat_minor": 2
}
